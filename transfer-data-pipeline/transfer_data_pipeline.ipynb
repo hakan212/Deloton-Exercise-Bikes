{
 "cells": [
  {
   "cell_type": "code",
   "execution_count": 1,
   "metadata": {},
   "outputs": [],
   "source": [
    "import os\n",
    "\n",
    "import pandas as pd\n",
    "from dotenv import load_dotenv\n",
    "from sqlalchemy import create_engine,inspect"
   ]
  },
  {
   "cell_type": "code",
   "execution_count": null,
   "metadata": {},
   "outputs": [],
   "source": [
    "load_dotenv()\n",
    "\n",
    "DB_HOST = os.getenv(\"DB_HOST\")\n",
    "DB_PORT = os.getenv(\"DB_PORT\")\n",
    "DB_USER = os.getenv(\"DB_USER\")\n",
    "DB_PASSWORD = os.getenv(\"DB_PASSWORD\")\n",
    "DB_NAME = os.getenv(\"DB_NAME\")\n",
    "MART_SCHEMA = \"zookeepers_mart\"\n",
    "PRODUCTION_SCHEMA = \"zookeepers_production\""
   ]
  },
  {
   "cell_type": "code",
   "execution_count": null,
   "metadata": {},
   "outputs": [],
   "source": [
    "def get_engine_connection():\n",
    "        \"\"\"Connects to postgreSQL DBMS on AWS Aurora\n",
    "\n",
    "        Returns:\n",
    "            DB engine\n",
    "        \"\"\"\n",
    "        conn_string = f\"postgresql+psycopg2://{DB_USER}:{DB_PASSWORD}@{DB_HOST}:{DB_PORT}/{DB_NAME}\"\n",
    "\n",
    "        return create_engine(conn_string)\n",
    "\n",
    "engine = get_engine_connection()"
   ]
  },
  {
   "cell_type": "code",
   "execution_count": null,
   "metadata": {},
   "outputs": [],
   "source": [
    "query = f\"\"\"\n",
    "    CREATE TABLE IF NOT EXISTS {MART_SCHEMA}.recent_rides (\n",
    "        user_id SMALLINT NOT NULL,\n",
    "        ride_id SMALLINT NOT NULL,\n",
    "        gender VARCHAR(6) NOT NULL,\n",
    "        age INT NOT NULL,\n",
    "        begin_timestamp TIMESTAMP NOT NULL,\n",
    "        total_duration_sec SMALLINT NOT NULL,\n",
    "        total_power DECIMAL NOT NULL, \n",
    "        mean_power DECIMAL NOT NULL,\n",
    "        mean_resistance DECIMAL NOT NULL, \n",
    "        mean_rpm DECIMAL NOT NULL,\n",
    "        mean_heart_rate DECIMAL NOT NULL\n",
    "    )\n",
    "\"\"\"\n",
    "\n",
    "engine.execute(query)"
   ]
  },
  {
   "cell_type": "code",
   "execution_count": null,
   "metadata": {},
   "outputs": [],
   "source": [
    "query = f\"\"\"\n",
    "    INSERT INTO {MART_SCHEMA}.recent_rides\n",
    "\n",
    "    WITH recent_rides_data AS(\n",
    "\n",
    "        WITH user_gender_dob AS (\n",
    "        SELECT user_id, gender,\n",
    "            DATEDIFF(hour,date_of_birth, CURRENT_DATE)/8766 AS age\n",
    "            FROM {PRODUCTION_SCHEMA}.users\n",
    "        ),\n",
    "\n",
    "        rides_before AS (\n",
    "            SELECT *\n",
    "                FROM {PRODUCTION_SCHEMA}.rides\n",
    "                WHERE TO_DATE(rs.begin_timestamp) > DATEADD(HOUR, -12, CURRENT_DATE)\n",
    "        )\n",
    "\n",
    "        SELECT ugd.*, rb.*\n",
    "            FROM user_gender_dob AS ugd\n",
    "            RIGHT JOIN rides_before AS rb\n",
    "                ON ugd.user_id = rb.user_id\n",
    "    )\n",
    "\n",
    "    SELECT * FROM recent_rides_data;\n",
    "\"\"\"\n",
    "\n",
    "engine.execute(query)"
   ]
  }
 ],
 "metadata": {
  "kernelspec": {
   "display_name": "Python 3.9.13 ('.venv': venv)",
   "language": "python",
   "name": "python3"
  },
  "language_info": {
   "codemirror_mode": {
    "name": "ipython",
    "version": 3
   },
   "file_extension": ".py",
   "mimetype": "text/x-python",
   "name": "python",
   "nbconvert_exporter": "python",
   "pygments_lexer": "ipython3",
   "version": "3.9.13"
  },
  "orig_nbformat": 4,
  "vscode": {
   "interpreter": {
    "hash": "da85ee258cf3914edf966df08c02018321763d9772fd11cff2ea728b28f71b17"
   }
  }
 },
 "nbformat": 4,
 "nbformat_minor": 2
}
