{
 "cells": [
  {
   "cell_type": "code",
   "execution_count": null,
   "metadata": {},
   "outputs": [],
   "source": [
    "\"\"\"Testing to see how to connect to kafka from week 2 code\"\"\"\n",
    "\n",
    "from confluent_kafka import Consumer, KafkaError, TopicPartition, KafkaException, Producer\n",
    "import base64\n",
    "import time\n",
    "import uuid\n",
    "import pandas as pd\n",
    "import json\n",
    "import datetime\n",
    "import os \n",
    "from dotenv import load_dotenv\n",
    "\n",
    "import sys\n",
    "from argparse import ArgumentParser, FileType\n",
    "from configparser import ConfigParser\n",
    "from confluent_kafka import Consumer, OFFSET_BEGINNING\n",
    "\n",
    "load_dotenv()"
   ]
  },
  {
   "cell_type": "code",
   "execution_count": null,
   "metadata": {},
   "outputs": [],
   "source": [
    "bootstrap_servers=os.environ.get('KAFKA_SERVER')\n",
    "\n",
    "kafka_topic_name = os.environ.get('KAFKA_TOPIC')"
   ]
  },
  {
   "cell_type": "code",
   "execution_count": null,
   "metadata": {},
   "outputs": [],
   "source": [
    "c = Consumer({\n",
    "    'bootstrap.servers': bootstrap_servers,\n",
    " \n",
    "    'session.timeout.ms': 6000,\n",
    "    'heartbeat.interval.ms': 1000,\n",
    "    'fetch.wait.max.ms': 6000,\n",
    "    'auto.offset.reset': 'earliest',\n",
    "    'enable.auto.commit': 'false',\n",
    "    'max.poll.interval.ms': '86400000',\n",
    "    'topic.metadata.refresh.interval.ms': \"-1\",\n",
    "    \"client.id\": 'id-002-005',\n",
    "})"
   ]
  }
 ],
 "metadata": {
  "kernelspec": {
   "display_name": "Python 3.9.13 64-bit",
   "language": "python",
   "name": "python3"
  },
  "language_info": {
   "name": "python",
   "version": "3.9.13"
  },
  "orig_nbformat": 4,
  "vscode": {
   "interpreter": {
    "hash": "b0fa6594d8f4cbf19f97940f81e996739fb7646882a419484c72d19e05852a7e"
   }
  }
 },
 "nbformat": 4,
 "nbformat_minor": 2
}
