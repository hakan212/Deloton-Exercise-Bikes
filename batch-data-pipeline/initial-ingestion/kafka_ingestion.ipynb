{
 "cells": [
  {
   "cell_type": "markdown",
   "metadata": {},
   "source": [
    "## Kafka Ingestion\n",
    "\n",
    "### Required Imports + Subscribing to topic"
   ]
  },
  {
   "cell_type": "code",
   "execution_count": 11,
   "metadata": {},
   "outputs": [],
   "source": [
    "from confluent_kafka import Consumer\n",
    "import uuid\n",
    "import os\n",
    "from dotenv import load_dotenv\n",
    "import snowflake.connector\n",
    "import os\n",
    "load_dotenv()\n",
    "\n",
    "KAFKA_SERVER = os.getenv('KAFKA_SERVER')\n",
    "KAFKA_USERNAME=os.getenv('KAFKA_USERNAME')\n",
    "KAFKA_PASSWORD=os.getenv('KAFKA_PASSWORD')\n",
    "KAFKA_TOPIC_NAME = os.getenv('KAFKA_TOPIC_NAME')\n",
    "\n",
    "values = []\n",
    "\n",
    "# Consumer with `confluent_kafka`\n",
    "c = Consumer({\n",
    "    'bootstrap.servers': KAFKA_SERVER,\n",
    "    'group.id': f'deleton' +str(uuid.uuid1()),\n",
    "    'security.protocol': 'SASL_SSL',\n",
    "    'sasl.mechanisms': 'PLAIN',\n",
    "    'sasl.username': KAFKA_USERNAME,\n",
    "    'sasl.password': KAFKA_PASSWORD,\n",
    "    'session.timeout.ms': 6000,\n",
    "    'heartbeat.interval.ms': 1000,\n",
    "    'fetch.wait.max.ms': 6000,\n",
    "    'auto.offset.reset': 'latest',\n",
    "    'enable.auto.commit': 'false',\n",
    "    'max.poll.interval.ms': '86400000',\n",
    "    'topic.metadata.refresh.interval.ms': \"-1\",\n",
    "    \"client.id\": 'id-002-005',\n",
    "})\n",
    "\n",
    "c.subscribe([KAFKA_TOPIC_NAME])\n"
   ]
  },
  {
   "cell_type": "markdown",
   "metadata": {},
   "source": [
    "### Testing Kafka Messages"
   ]
  },
  {
   "cell_type": "code",
   "execution_count": 12,
   "metadata": {},
   "outputs": [
    {
     "name": "stdout",
     "output_type": "stream",
     "text": [
      "{\"log\": \"2022-10-04 10:05:10.588793 mendoza v9: [INFO]: Ride - duration = 57.0; resistance = 30\\n\"}\n",
      "{\"log\": \"2022-10-04 10:05:11.089457 mendoza v9: [INFO]: Telemetry - hrt = 72; rpm = 32; power = 6.7621935010000005\\n\"}\n",
      "{\"log\": \"2022-10-04 10:05:11.590129 mendoza v9: [INFO]: Ride - duration = 58.0; resistance = 30\\n\"}\n",
      "{\"log\": \"2022-10-04 10:05:12.090798 mendoza v9: [INFO]: Telemetry - hrt = 77; rpm = 32; power = 6.7621935010000005\\n\"}\n",
      "{\"log\": \"2022-10-04 10:05:12.591476 mendoza v9: [INFO]: Ride - duration = 59.0; resistance = 30\\n\"}\n",
      "{\"log\": \"2022-10-04 10:05:13.092147 mendoza v9: [INFO]: Telemetry - hrt = 77; rpm = 31; power = 6.415485154\\n\"}\n",
      "{\"log\": \"2022-10-04 10:05:13.592819 mendoza v9: [INFO]: Ride - duration = 60.0; resistance = 30\\n\"}\n",
      "{\"log\": \"2022-10-04 10:05:14.093491 mendoza v9: [INFO]: Telemetry - hrt = 78; rpm = 32; power = 6.7621935010000005\\n\"}\n",
      "{\"log\": \"2022-10-04 10:05:14.594163 mendoza v9: [INFO]: Ride - duration = 61.0; resistance = 30\\n\"}\n",
      "{\"log\": \"2022-10-04 10:05:15.094839 mendoza v9: [INFO]: Telemetry - hrt = 80; rpm = 31; power = 6.415485154\\n\"}\n",
      "{\"log\": \"2022-10-04 10:05:15.595508 mendoza v9: [INFO]: Ride - duration = 62.0; resistance = 30\\n\"}\n",
      "{\"log\": \"2022-10-04 10:05:16.096176 mendoza v9: [INFO]: Telemetry - hrt = 80; rpm = 31; power = 6.415485154\\n\"}\n",
      "{\"log\": \"2022-10-04 10:05:16.596846 mendoza v9: [INFO]: Ride - duration = 63.0; resistance = 30\\n\"}\n",
      "{\"log\": \"2022-10-04 10:05:17.097513 mendoza v9: [INFO]: Telemetry - hrt = 78; rpm = 32; power = 6.7621935010000005\\n\"}\n",
      "{\"log\": \"2022-10-04 10:05:17.598179 mendoza v9: [INFO]: Ride - duration = 64.0; resistance = 30\\n\"}\n",
      "{\"log\": \"2022-10-04 10:05:18.098857 mendoza v9: [INFO]: Telemetry - hrt = 78; rpm = 32; power = 6.7621935010000005\\n\"}\n",
      "{\"log\": \"2022-10-04 10:05:18.599534 mendoza v9: [INFO]: Ride - duration = 65.0; resistance = 30\\n\"}\n",
      "{\"log\": \"2022-10-04 10:05:19.100201 mendoza v9: [INFO]: Telemetry - hrt = 77; rpm = 32; power = 6.7621935010000005\\n\"}\n",
      "{\"log\": \"2022-10-04 10:05:19.600951 mendoza v9: [INFO]: Ride - duration = 66.0; resistance = 30\\n\"}\n",
      "{\"log\": \"2022-10-04 10:05:20.101620 mendoza v9: [INFO]: Telemetry - hrt = 77; rpm = 31; power = 6.415485154\\n\"}\n",
      "{\"log\": \"2022-10-04 10:05:20.602290 mendoza v9: [INFO]: Ride - duration = 67.0; resistance = 30\\n\"}\n",
      "{\"log\": \"2022-10-04 10:05:21.102960 mendoza v9: [INFO]: Telemetry - hrt = 77; rpm = 31; power = 6.415485154\\n\"}\n",
      "{\"log\": \"2022-10-04 10:05:21.603633 mendoza v9: [INFO]: Ride - duration = 68.0; resistance = 30\\n\"}\n",
      "{\"log\": \"2022-10-04 10:05:22.104309 mendoza v9: [INFO]: Telemetry - hrt = 77; rpm = 31; power = 6.415485154\\n\"}\n",
      "{\"log\": \"2022-10-04 10:05:22.604984 mendoza v9: [INFO]: Ride - duration = 69.0; resistance = 30\\n\"}\n",
      "{\"log\": \"2022-10-04 10:05:23.105664 mendoza v9: [INFO]: Telemetry - hrt = 78; rpm = 31; power = 6.415485154\\n\"}\n",
      "{\"log\": \"2022-10-04 10:05:23.606336 mendoza v9: [INFO]: Ride - duration = 70.0; resistance = 30\\n\"}\n",
      "{\"log\": \"2022-10-04 10:05:24.107021 mendoza v9: [INFO]: Telemetry - hrt = 75; rpm = 31; power = 6.415485154\\n\"}\n",
      "{\"log\": \"2022-10-04 10:05:24.607829 mendoza v9: [INFO]: Ride - duration = 71.0; resistance = 30\\n\"}\n",
      "{\"log\": \"2022-10-04 10:05:25.108592 mendoza v9: [INFO]: Telemetry - hrt = 75; rpm = 32; power = 6.7621935010000005\\n\"}\n",
      "{\"log\": \"2022-10-04 10:05:25.609284 mendoza v9: [INFO]: Ride - duration = 72.0; resistance = 30\\n\"}\n",
      "{\"log\": \"2022-10-04 10:05:26.109971 mendoza v9: [INFO]: Telemetry - hrt = 73; rpm = 31; power = 6.415485154\\n\"}\n",
      "{\"log\": \"2022-10-04 10:05:26.610640 mendoza v9: [INFO]: Ride - duration = 73.0; resistance = 30\\n\"}\n",
      "{\"log\": \"2022-10-04 10:05:27.111315 mendoza v9: [INFO]: Telemetry - hrt = 72; rpm = 32; power = 6.7621935010000005\\n\"}\n"
     ]
    }
   ],
   "source": [
    "i = 0\n",
    "while i < 50:\n",
    "    kafka_message = c.poll(0.5)\n",
    "\n",
    "    if kafka_message is not None:\n",
    "\n",
    "        kafka_message_value = kafka_message.value().decode('utf-8')\n",
    "\n",
    "        print(kafka_message_value)\n",
    "\n",
    "    i += 1"
   ]
  },
  {
   "cell_type": "markdown",
   "metadata": {},
   "source": [
    "### TODO: \n",
    "\n",
    "* Read kafka data into a dataframe (Pandas or PySpark?)\n",
    "* Write data into Snowflake"
   ]
  },
  {
   "cell_type": "code",
   "execution_count": 13,
   "metadata": {},
   "outputs": [],
   "source": [
    "USER = os.environ.get('USER')\n",
    "ACCOUNT = os.environ.get('ACCOUNT')\n",
    "PASSWORD = os.environ.get('PASSWORD')\n",
    "WAREHOUSE= os.environ.get('WAREHOUSE')\n",
    "DATABASE= os.environ.get('DATABASE')\n",
    "SCHEMA= os.environ.get('SCHEMA')"
   ]
  },
  {
   "cell_type": "code",
   "execution_count": 14,
   "metadata": {},
   "outputs": [],
   "source": [
    "conn = snowflake.connector.connect(\n",
    "    user=USER,\n",
    "    password=PASSWORD,\n",
    "    account=ACCOUNT,\n",
    "    warehouse=WAREHOUSE,\n",
    "    database=DATABASE\n",
    ")\n",
    "cs = conn.cursor()\n"
   ]
  },
  {
   "cell_type": "code",
   "execution_count": 15,
   "metadata": {},
   "outputs": [
    {
     "data": {
      "text/plain": [
       "[(datetime.datetime(2022, 9, 29, 1, 9, 44, 900000, tzinfo=<DstTzInfo 'America/Los_Angeles' PDT-1 day, 17:00:00 DST>),\n",
       "  'BIKE',\n",
       "  'N',\n",
       "  'N',\n",
       "  'DELATON',\n",
       "  'SYSADMIN',\n",
       "  '',\n",
       "  '',\n",
       "  '1'),\n",
       " (datetime.datetime(2022, 10, 4, 3, 5, 27, 865000, tzinfo=<DstTzInfo 'America/Los_Angeles' PDT-1 day, 17:00:00 DST>),\n",
       "  'INFORMATION_SCHEMA',\n",
       "  'N',\n",
       "  'N',\n",
       "  'DELATON',\n",
       "  '',\n",
       "  'Views describing the contents of schemas in this database',\n",
       "  '',\n",
       "  '1'),\n",
       " (datetime.datetime(2022, 9, 29, 1, 9, 6, 401000, tzinfo=<DstTzInfo 'America/Los_Angeles' PDT-1 day, 17:00:00 DST>),\n",
       "  'PUBLIC',\n",
       "  'N',\n",
       "  'N',\n",
       "  'DELATON',\n",
       "  'SYSADMIN',\n",
       "  '',\n",
       "  '',\n",
       "  '1'),\n",
       " (datetime.datetime(2022, 10, 4, 3, 4, 46, 918000, tzinfo=<DstTzInfo 'America/Los_Angeles' PDT-1 day, 17:00:00 DST>),\n",
       "  'ZOOKEEPERS_BATCH_PRODUCTION',\n",
       "  'N',\n",
       "  'N',\n",
       "  'DELATON',\n",
       "  'SYSADMIN',\n",
       "  '',\n",
       "  '',\n",
       "  '1')]"
      ]
     },
     "execution_count": 15,
     "metadata": {},
     "output_type": "execute_result"
    }
   ],
   "source": [
    "query = \"SHOW SCHEMAS\"\n",
    "result = cs.execute(query)\n",
    "result.fetchmany(100)"
   ]
  }
 ],
 "metadata": {
  "kernelspec": {
   "display_name": "Python 3.9.13 64-bit",
   "language": "python",
   "name": "python3"
  },
  "language_info": {
   "codemirror_mode": {
    "name": "ipython",
    "version": 3
   },
   "file_extension": ".py",
   "mimetype": "text/x-python",
   "name": "python",
   "nbconvert_exporter": "python",
   "pygments_lexer": "ipython3",
   "version": "3.9.13"
  },
  "orig_nbformat": 4,
  "vscode": {
   "interpreter": {
    "hash": "b0fa6594d8f4cbf19f97940f81e996739fb7646882a419484c72d19e05852a7e"
   }
  }
 },
 "nbformat": 4,
 "nbformat_minor": 2
}
