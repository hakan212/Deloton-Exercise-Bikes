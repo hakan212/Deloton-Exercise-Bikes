{
 "cells": [
  {
   "cell_type": "markdown",
   "metadata": {},
   "source": [
    "## Kafka Ingestion\n",
    "\n",
    "### Required Imports + Subscribing to topic"
   ]
  },
  {
   "cell_type": "code",
   "execution_count": 11,
   "metadata": {},
   "outputs": [],
   "source": [
    "from confluent_kafka import Consumer\n",
    "import uuid\n",
    "import os\n",
    "from dotenv import load_dotenv\n",
    "import snowflake.connector\n",
    "import os\n",
    "load_dotenv()\n",
    "\n",
    "KAFKA_SERVER = os.getenv('KAFKA_SERVER')\n",
    "KAFKA_USERNAME=os.getenv('KAFKA_USERNAME')\n",
    "KAFKA_PASSWORD=os.getenv('KAFKA_PASSWORD')\n",
    "KAFKA_TOPIC_NAME = os.getenv('KAFKA_TOPIC_NAME')\n",
    "\n",
    "values = []\n",
    "\n",
    "# Consumer with `confluent_kafka`\n",
    "c = Consumer({\n",
    "    'bootstrap.servers': KAFKA_SERVER,\n",
    "    'group.id': f'deleton' +str(uuid.uuid1()),\n",
    "    'security.protocol': 'SASL_SSL',\n",
    "    'sasl.mechanisms': 'PLAIN',\n",
    "    'sasl.username': KAFKA_USERNAME,\n",
    "    'sasl.password': KAFKA_PASSWORD,\n",
    "    'session.timeout.ms': 6000,\n",
    "    'heartbeat.interval.ms': 1000,\n",
    "    'fetch.wait.max.ms': 6000,\n",
    "    'auto.offset.reset': 'latest',\n",
    "    'enable.auto.commit': 'false',\n",
    "    'max.poll.interval.ms': '86400000',\n",
    "    'topic.metadata.refresh.interval.ms': \"-1\",\n",
    "    \"client.id\": 'id-002-005',\n",
    "})\n",
    "\n",
    "c.subscribe([KAFKA_TOPIC_NAME])\n",
    "\"\"\"Kafka consumer ready and consumes messages\"\"\""
   ]
  },
  {
   "cell_type": "markdown",
   "metadata": {},
   "source": [
    "### Testing Kafka Messages"
   ]
  },
  {
   "cell_type": "code",
   "execution_count": 111,
   "metadata": {},
   "outputs": [
    {
     "name": "stdout",
     "output_type": "stream",
     "text": [
      "2022-10-04 10:41:31.070420 ['132', '51', '14.31786487']\n",
      "2022-10-04 10:41:32.071779 ['132', '52', '14.75785543']\n",
      "2022-10-04 10:41:33.073167 ['131', '51', '14.31786487']\n",
      "2022-10-04 10:41:34.074526 ['131', '53', '15.20140731']\n",
      "2022-10-04 10:41:35.075889 ['131', '56', '16.55272673']\n",
      "2022-10-04 10:41:36.077258 ['133', '55', '16.09890976']\n",
      "2022-10-04 10:41:37.078631 ['134', '55', '16.09890976']\n",
      "2022-10-04 10:41:38.080004 ['134', '54', '15.64844827']\n",
      "2022-10-04 10:41:39.081435 ['134', '48', '13.02004103']\n",
      "2022-10-04 10:41:40.082800 ['133', '53', '15.20140731']\n",
      "2022-10-04 10:41:41.084143 ['133', '51', '14.31786487']\n",
      "2022-10-04 10:41:42.085407 ['133', '48', '13.02004103']\n",
      "2022-10-04 10:41:43.086746 ['133', '51', '14.31786487']\n",
      "2022-10-04 10:41:44.088108 ['133', '53', '15.20140731']\n",
      "2022-10-04 10:41:45.089558 ['133', '53', '15.20140731']\n",
      "2022-10-04 10:41:46.090907 ['132', '51', '14.31786487']\n",
      "2022-10-04 10:41:47.092258 ['132', '49', '13.448875699999999']\n",
      "2022-10-04 10:41:48.093610 ['131', '51', '14.31786487']\n",
      "2022-10-04 10:41:49.094958 ['131', '56', '16.55272673']\n",
      "2022-10-04 10:41:50.096309 ['131', '55', '16.09890976']\n",
      "2022-10-04 10:41:51.097682 ['130', '50', '13.88151165']\n",
      "2022-10-04 10:41:52.099035 ['130', '51', '14.31786487']\n",
      "2022-10-04 10:41:53.100431 ['130', '52', '14.75785543']\n",
      "2022-10-04 10:41:54.101778 ['132', '53', '15.20140731']\n",
      "2022-10-04 10:41:55.103126 ['133', '53', '15.20140731']\n"
     ]
    }
   ],
   "source": [
    "import json\n",
    "import re\n",
    "i = 0\n",
    "while i < 50:\n",
    "    kafka_message = c.poll(0.5) #poll all messages\n",
    "\n",
    "    if kafka_message is not None: #exclude none values\n",
    "        log = kafka_message.value().decode('utf-8')\n",
    "\n",
    "        if 'INFO' in log: #only check for strings with INFO\n",
    "            values = json.loads(log)\n",
    "            new_log = values.get('log')\n",
    "            # print(new_log) #Get value inside dict\n",
    "\n",
    "            if 'Ride' in new_log: #process strings with Ride info\n",
    "                new_log = new_log.split(' mendoza v9: [INFO]: Ride - ')\n",
    "                timestamp = new_log[0]\n",
    "                duration_and_resistance = re.findall(r'\\d+.?\\d+',new_log[1])\n",
    "\n",
    "                # print(timestamp,duration_and_resistance)\n",
    "            \n",
    "            if 'Telemetry' in new_log:\n",
    "                new_log = new_log.split(' mendoza v9: [INFO]: Telemetry - ')\n",
    "                timestamp = new_log[0]\n",
    "                duration_and_resistance = re.findall(r'\\d+.?\\d+',new_log[1])\n",
    "                print(timestamp,duration_and_resistance)\n",
    "\n",
    "\n",
    "    i += 1"
   ]
  },
  {
   "cell_type": "markdown",
   "metadata": {},
   "source": [
    "### TODO: \n",
    "\n",
    "* Read kafka data into a dataframe (Pandas or PySpark?)\n",
    "* Write data into Snowflake"
   ]
  },
  {
   "cell_type": "code",
   "execution_count": 13,
   "metadata": {},
   "outputs": [],
   "source": [
    "USER = os.environ.get('USER')\n",
    "ACCOUNT = os.environ.get('ACCOUNT')\n",
    "PASSWORD = os.environ.get('PASSWORD')\n",
    "WAREHOUSE= os.environ.get('WAREHOUSE')\n",
    "DATABASE= os.environ.get('DATABASE')\n",
    "SCHEMA= os.environ.get('SCHEMA')"
   ]
  },
  {
   "cell_type": "code",
   "execution_count": 16,
   "metadata": {},
   "outputs": [],
   "source": [
    "conn = snowflake.connector.connect(\n",
    "    user=USER,\n",
    "    password=PASSWORD,\n",
    "    account=ACCOUNT,\n",
    "    warehouse=WAREHOUSE,\n",
    "    database=DATABASE,\n",
    "    schema='ZOOKEEPERS_BATCH_PRODUCTION'\n",
    ")\n",
    "cs = conn.cursor()\n",
    "\"\"\"Already created schema to use\"\"\""
   ]
  },
  {
   "cell_type": "code",
   "execution_count": 18,
   "metadata": {},
   "outputs": [
    {
     "data": {
      "text/plain": [
       "[]"
      ]
     },
     "execution_count": 18,
     "metadata": {},
     "output_type": "execute_result"
    }
   ],
   "source": [
    "query = \"SHOW TABLES\"\n",
    "result = cs.execute(query)\n",
    "result.fetchmany(100)"
   ]
  }
 ],
 "metadata": {
  "kernelspec": {
   "display_name": "Python 3.9.13 64-bit",
   "language": "python",
   "name": "python3"
  },
  "language_info": {
   "codemirror_mode": {
    "name": "ipython",
    "version": 3
   },
   "file_extension": ".py",
   "mimetype": "text/x-python",
   "name": "python",
   "nbconvert_exporter": "python",
   "pygments_lexer": "ipython3",
   "version": "3.9.13"
  },
  "orig_nbformat": 4,
  "vscode": {
   "interpreter": {
    "hash": "b0fa6594d8f4cbf19f97940f81e996739fb7646882a419484c72d19e05852a7e"
   }
  }
 },
 "nbformat": 4,
 "nbformat_minor": 2
}
