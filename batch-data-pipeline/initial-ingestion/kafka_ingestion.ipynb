{
 "cells": [
  {
   "cell_type": "markdown",
   "metadata": {},
   "source": [
    "## Kafka Ingestion\n",
    "\n",
    "### Required Imports + Subscribing to topic"
   ]
  },
  {
   "cell_type": "code",
   "execution_count": 11,
   "metadata": {},
   "outputs": [],
   "source": [
    "from confluent_kafka import Consumer\n",
    "import uuid\n",
    "import os\n",
    "from dotenv import load_dotenv\n",
    "import snowflake.connector\n",
    "import os\n",
    "load_dotenv()\n",
    "\n",
    "KAFKA_SERVER = os.getenv('KAFKA_SERVER')\n",
    "KAFKA_USERNAME=os.getenv('KAFKA_USERNAME')\n",
    "KAFKA_PASSWORD=os.getenv('KAFKA_PASSWORD')\n",
    "KAFKA_TOPIC_NAME = os.getenv('KAFKA_TOPIC_NAME')\n",
    "\n",
    "values = []\n",
    "\n",
    "# Consumer with `confluent_kafka`\n",
    "c = Consumer({\n",
    "    'bootstrap.servers': KAFKA_SERVER,\n",
    "    'group.id': f'deleton' +str(uuid.uuid1()),\n",
    "    'security.protocol': 'SASL_SSL',\n",
    "    'sasl.mechanisms': 'PLAIN',\n",
    "    'sasl.username': KAFKA_USERNAME,\n",
    "    'sasl.password': KAFKA_PASSWORD,\n",
    "    'session.timeout.ms': 6000,\n",
    "    'heartbeat.interval.ms': 1000,\n",
    "    'fetch.wait.max.ms': 6000,\n",
    "    'auto.offset.reset': 'latest',\n",
    "    'enable.auto.commit': 'false',\n",
    "    'max.poll.interval.ms': '86400000',\n",
    "    'topic.metadata.refresh.interval.ms': \"-1\",\n",
    "    \"client.id\": 'id-002-005',\n",
    "})\n",
    "\n",
    "c.subscribe([KAFKA_TOPIC_NAME])\n"
   ]
  },
  {
   "cell_type": "markdown",
   "metadata": {},
   "source": [
    "### Testing Kafka Messages"
   ]
  },
  {
   "cell_type": "code",
   "execution_count": 68,
   "metadata": {},
   "outputs": [
    {
     "name": "stdout",
     "output_type": "stream",
     "text": [
      "{'log': '2022-10-04 10:24:47.698653 mendoza v9: [INFO]: Telemetry - hrt = 109; rpm = 49; power = 13.448875699999999\\n'}\n",
      "{'log': '2022-10-04 10:24:48.199335 mendoza v9: [INFO]: Ride - duration = 195.0; resistance = 30\\n'}\n",
      "{'log': '2022-10-04 10:24:48.700018 mendoza v9: [INFO]: Telemetry - hrt = 109; rpm = 46; power = 12.17413263\\n'}\n",
      "{'log': '2022-10-04 10:24:49.200693 mendoza v9: [INFO]: Ride - duration = 196.0; resistance = 30\\n'}\n",
      "{'log': '2022-10-04 10:24:49.701369 mendoza v9: [INFO]: Telemetry - hrt = 109; rpm = 49; power = 13.448875699999999\\n'}\n",
      "{'log': '2022-10-04 10:24:50.202035 mendoza v9: [INFO]: Ride - duration = 197.0; resistance = 30\\n'}\n",
      "{'log': '2022-10-04 10:24:50.702765 mendoza v9: [INFO]: Telemetry - hrt = 109; rpm = 44; power = 11.34454484\\n'}\n",
      "{'log': '2022-10-04 10:24:51.203444 mendoza v9: [INFO]: Ride - duration = 198.0; resistance = 30\\n'}\n",
      "{'log': '2022-10-04 10:24:51.704119 mendoza v9: [INFO]: Telemetry - hrt = 109; rpm = 48; power = 13.02004103\\n'}\n",
      "{'log': '2022-10-04 10:24:52.204794 mendoza v9: [INFO]: Ride - duration = 199.0; resistance = 30\\n'}\n",
      "{'log': '2022-10-04 10:24:52.705466 mendoza v9: [INFO]: Telemetry - hrt = 109; rpm = 44; power = 11.34454484\\n'}\n",
      "{'log': '2022-10-04 10:24:53.206146 mendoza v9: [INFO]: Ride - duration = 200.0; resistance = 30\\n'}\n",
      "{'log': '2022-10-04 10:24:53.706817 mendoza v9: [INFO]: Telemetry - hrt = 109; rpm = 49; power = 13.448875699999999\\n'}\n",
      "{'log': '2022-10-04 10:24:54.207495 mendoza v9: [INFO]: Ride - duration = 201.0; resistance = 30\\n'}\n",
      "{'log': '2022-10-04 10:24:54.708167 mendoza v9: [INFO]: Telemetry - hrt = 108; rpm = 43; power = 10.93612828\\n'}\n",
      "{'log': '2022-10-04 10:24:55.208845 mendoza v9: [INFO]: Ride - duration = 202.0; resistance = 30\\n'}\n",
      "{'log': '2022-10-04 10:24:55.709520 mendoza v9: [INFO]: Telemetry - hrt = 108; rpm = 48; power = 13.02004103\\n'}\n",
      "{'log': '2022-10-04 10:24:56.210169 mendoza v9: [INFO]: Ride - duration = 203.0; resistance = 30\\n'}\n",
      "{'log': '2022-10-04 10:24:56.710841 mendoza v9: [INFO]: Telemetry - hrt = 108; rpm = 48; power = 13.02004103\\n'}\n",
      "{'log': '2022-10-04 10:24:57.211504 mendoza v9: [INFO]: Ride - duration = 204.0; resistance = 30\\n'}\n",
      "{'log': '2022-10-04 10:24:57.712178 mendoza v9: [INFO]: Telemetry - hrt = 107; rpm = 46; power = 12.17413263\\n'}\n",
      "{'log': '2022-10-04 10:24:58.212946 mendoza v9: [INFO]: Ride - duration = 205.0; resistance = 30\\n'}\n",
      "{'log': '2022-10-04 10:24:58.713623 mendoza v9: [INFO]: Telemetry - hrt = 107; rpm = 50; power = 13.88151165\\n'}\n",
      "{'log': '2022-10-04 10:24:59.214295 mendoza v9: [INFO]: Ride - duration = 206.0; resistance = 30\\n'}\n",
      "{'log': '2022-10-04 10:24:59.714969 mendoza v9: [INFO]: Telemetry - hrt = 106; rpm = 48; power = 13.02004103\\n'}\n",
      "{'log': '2022-10-04 10:25:00.215635 mendoza v9: [INFO]: Ride - duration = 207.0; resistance = 30\\n'}\n",
      "{'log': '2022-10-04 10:25:00.716312 mendoza v9: [INFO]: Telemetry - hrt = 106; rpm = 49; power = 13.448875699999999\\n'}\n",
      "{'log': '2022-10-04 10:25:01.217000 mendoza v9: [INFO]: Ride - duration = 208.0; resistance = 30\\n'}\n",
      "{'log': '2022-10-04 10:25:01.717974 mendoza v9: [INFO]: Telemetry - hrt = 105; rpm = 50; power = 13.88151165\\n'}\n",
      "{'log': '2022-10-04 10:25:02.218717 mendoza v9: [INFO]: Ride - duration = 209.0; resistance = 30\\n'}\n",
      "{'log': '2022-10-04 10:25:02.719403 mendoza v9: [INFO]: Telemetry - hrt = 105; rpm = 45; power = 11.75724842\\n'}\n",
      "{'log': '2022-10-04 10:25:03.220077 mendoza v9: [INFO]: Ride - duration = 210.0; resistance = 30\\n'}\n",
      "{'log': '2022-10-04 10:25:03.720752 mendoza v9: [INFO]: Telemetry - hrt = 105; rpm = 50; power = 13.88151165\\n'}\n",
      "{'log': '2022-10-04 10:25:04.221430 mendoza v9: [INFO]: Ride - duration = 211.0; resistance = 30\\n'}\n",
      "{'log': '2022-10-04 10:25:04.722113 mendoza v9: [INFO]: Telemetry - hrt = 105; rpm = 47; power = 12.59509583\\n'}\n",
      "{'log': '2022-10-04 10:25:05.222793 mendoza v9: [INFO]: Ride - duration = 212.0; resistance = 30\\n'}\n",
      "{'log': '2022-10-04 10:25:05.723467 mendoza v9: [INFO]: Telemetry - hrt = 105; rpm = 51; power = 14.31786487\\n'}\n",
      "{'log': '2022-10-04 10:25:06.224140 mendoza v9: [INFO]: Ride - duration = 213.0; resistance = 30\\n'}\n",
      "{'log': '2022-10-04 10:25:06.724811 mendoza v9: [INFO]: Telemetry - hrt = 105; rpm = 48; power = 13.02004103\\n'}\n",
      "{'log': '2022-10-04 10:25:07.225485 mendoza v9: [INFO]: Ride - duration = 214.0; resistance = 30\\n'}\n",
      "{'log': '2022-10-04 10:25:07.726163 mendoza v9: [INFO]: Telemetry - hrt = 104; rpm = 49; power = 13.448875699999999\\n'}\n",
      "{'log': '2022-10-04 10:25:08.226840 mendoza v9: [INFO]: Ride - duration = 215.0; resistance = 30\\n'}\n",
      "{'log': '2022-10-04 10:25:08.727516 mendoza v9: [INFO]: Telemetry - hrt = 104; rpm = 45; power = 11.75724842\\n'}\n",
      "{'log': '2022-10-04 10:25:09.228189 mendoza v9: [INFO]: Ride - duration = 216.0; resistance = 30\\n'}\n",
      "{'log': '2022-10-04 10:25:09.728860 mendoza v9: [INFO]: Telemetry - hrt = 104; rpm = 48; power = 13.02004103\\n'}\n",
      "{'log': '2022-10-04 10:25:10.229547 mendoza v9: [INFO]: Ride - duration = 217.0; resistance = 30\\n'}\n",
      "{'log': '2022-10-04 10:25:10.730222 mendoza v9: [INFO]: Telemetry - hrt = 104; rpm = 47; power = 12.59509583\\n'}\n",
      "{'log': '2022-10-04 10:25:11.230938 mendoza v9: [INFO]: Ride - duration = 218.0; resistance = 30\\n'}\n",
      "{'log': '2022-10-04 10:25:11.731620 mendoza v9: [INFO]: Telemetry - hrt = 104; rpm = 48; power = 13.02004103\\n'}\n",
      "{'log': '2022-10-04 10:25:12.232301 mendoza v9: [INFO]: Ride - duration = 219.0; resistance = 30\\n'}\n"
     ]
    }
   ],
   "source": [
    "import json\n",
    "i = 0\n",
    "while i < 50:\n",
    "    kafka_message = c.poll(1)\n",
    "\n",
    "    if kafka_message is not None:\n",
    "        \n",
    "        log = kafka_message.value().decode('utf-8')\n",
    "        jsoned = json.loads(log)\n",
    "        print(jsoned)\n",
    "\n",
    "    i += 1"
   ]
  },
  {
   "cell_type": "markdown",
   "metadata": {},
   "source": [
    "### TODO: \n",
    "\n",
    "* Read kafka data into a dataframe (Pandas or PySpark?)\n",
    "* Write data into Snowflake"
   ]
  },
  {
   "cell_type": "code",
   "execution_count": 13,
   "metadata": {},
   "outputs": [],
   "source": [
    "USER = os.environ.get('USER')\n",
    "ACCOUNT = os.environ.get('ACCOUNT')\n",
    "PASSWORD = os.environ.get('PASSWORD')\n",
    "WAREHOUSE= os.environ.get('WAREHOUSE')\n",
    "DATABASE= os.environ.get('DATABASE')\n",
    "SCHEMA= os.environ.get('SCHEMA')"
   ]
  },
  {
   "cell_type": "code",
   "execution_count": 16,
   "metadata": {},
   "outputs": [],
   "source": [
    "conn = snowflake.connector.connect(\n",
    "    user=USER,\n",
    "    password=PASSWORD,\n",
    "    account=ACCOUNT,\n",
    "    warehouse=WAREHOUSE,\n",
    "    database=DATABASE,\n",
    "    schema='ZOOKEEPERS_BATCH_PRODUCTION'\n",
    ")\n",
    "cs = conn.cursor()\n"
   ]
  },
  {
   "cell_type": "code",
   "execution_count": 18,
   "metadata": {},
   "outputs": [
    {
     "data": {
      "text/plain": [
       "[]"
      ]
     },
     "execution_count": 18,
     "metadata": {},
     "output_type": "execute_result"
    }
   ],
   "source": [
    "query = \"SHOW TABLES\"\n",
    "result = cs.execute(query)\n",
    "result.fetchmany(100)"
   ]
  }
 ],
 "metadata": {
  "kernelspec": {
   "display_name": "Python 3.9.13 64-bit",
   "language": "python",
   "name": "python3"
  },
  "language_info": {
   "codemirror_mode": {
    "name": "ipython",
    "version": 3
   },
   "file_extension": ".py",
   "mimetype": "text/x-python",
   "name": "python",
   "nbconvert_exporter": "python",
   "pygments_lexer": "ipython3",
   "version": "3.9.13"
  },
  "orig_nbformat": 4,
  "vscode": {
   "interpreter": {
    "hash": "b0fa6594d8f4cbf19f97940f81e996739fb7646882a419484c72d19e05852a7e"
   }
  }
 },
 "nbformat": 4,
 "nbformat_minor": 2
}
