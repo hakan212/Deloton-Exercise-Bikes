{
 "cells": [
  {
   "cell_type": "markdown",
   "metadata": {},
   "source": [
    "## Kafka Ingestion\n",
    "\n",
    "### Required Imports + Subscribing to topic"
   ]
  },
  {
   "cell_type": "code",
   "execution_count": 11,
   "metadata": {},
   "outputs": [],
   "source": [
    "from confluent_kafka import Consumer\n",
    "import uuid\n",
    "import os\n",
    "from dotenv import load_dotenv\n",
    "import snowflake.connector\n",
    "import os\n",
    "load_dotenv()\n",
    "\n",
    "KAFKA_SERVER = os.getenv('KAFKA_SERVER')\n",
    "KAFKA_USERNAME=os.getenv('KAFKA_USERNAME')\n",
    "KAFKA_PASSWORD=os.getenv('KAFKA_PASSWORD')\n",
    "KAFKA_TOPIC_NAME = os.getenv('KAFKA_TOPIC_NAME')\n",
    "\n",
    "values = []\n",
    "\n",
    "# Consumer with `confluent_kafka`\n",
    "c = Consumer({\n",
    "    'bootstrap.servers': KAFKA_SERVER,\n",
    "    'group.id': f'deleton' +str(uuid.uuid1()),\n",
    "    'security.protocol': 'SASL_SSL',\n",
    "    'sasl.mechanisms': 'PLAIN',\n",
    "    'sasl.username': KAFKA_USERNAME,\n",
    "    'sasl.password': KAFKA_PASSWORD,\n",
    "    'session.timeout.ms': 6000,\n",
    "    'heartbeat.interval.ms': 1000,\n",
    "    'fetch.wait.max.ms': 6000,\n",
    "    'auto.offset.reset': 'latest',\n",
    "    'enable.auto.commit': 'false',\n",
    "    'max.poll.interval.ms': '86400000',\n",
    "    'topic.metadata.refresh.interval.ms': \"-1\",\n",
    "    \"client.id\": 'id-002-005',\n",
    "})\n",
    "\n",
    "c.subscribe([KAFKA_TOPIC_NAME])\n",
    "\"\"\"Kafka consumer ready and consumes messages\"\"\""
   ]
  },
  {
   "cell_type": "markdown",
   "metadata": {},
   "source": [
    "### Testing Kafka Messages"
   ]
  },
  {
   "cell_type": "code",
   "execution_count": 114,
   "metadata": {},
   "outputs": [
    {
     "name": "stdout",
     "output_type": "stream",
     "text": [
      "{\"log\": \"2022-10-04 10:47:40.576790 mendoza v9: [SYSTEM] data = {\\\"user_id\\\":4526,\\\"name\\\":\\\"Charlene Brown\\\",\\\"gender\\\":\\\"female\\\",\\\"address\\\":\\\"Flat 98y,Carolyn haven,East Valeriemouth,S5T 0TT\\\",\\\"date_of_birth\\\":-842140800000,\\\"email_address\\\":\\\"charlene.b72@gmail.com\\\",\\\"height_cm\\\":166,\\\"weight_kg\\\":71,\\\"account_create_date\\\":1643760000000,\\\"bike_serial\\\":\\\"SN0000\\\",\\\"original_source\\\":\\\"google ads\\\"}\\n\"}\n",
      "{\"log\": \"2022-10-04 10:56:21.286263 mendoza v9: [SYSTEM] data = {\\\"user_id\\\":4526,\\\"name\\\":\\\"Charlene Brown\\\",\\\"gender\\\":\\\"female\\\",\\\"address\\\":\\\"Flat 98y,Carolyn haven,East Valeriemouth,S5T 0TT\\\",\\\"date_of_birth\\\":-842140800000,\\\"email_address\\\":\\\"charlene.b72@gmail.com\\\",\\\"height_cm\\\":166,\\\"weight_kg\\\":71,\\\"account_create_date\\\":1643760000000,\\\"bike_serial\\\":\\\"SN0000\\\",\\\"original_source\\\":\\\"google ads\\\"}\\n\"}\n",
      "{\"log\": \"2022-10-04 11:05:04.002255 mendoza v9: [SYSTEM] data = {\\\"user_id\\\":4526,\\\"name\\\":\\\"Charlene Brown\\\",\\\"gender\\\":\\\"female\\\",\\\"address\\\":\\\"Flat 98y,Carolyn haven,East Valeriemouth,S5T 0TT\\\",\\\"date_of_birth\\\":-842140800000,\\\"email_address\\\":\\\"charlene.b72@gmail.com\\\",\\\"height_cm\\\":166,\\\"weight_kg\\\":71,\\\"account_create_date\\\":1643760000000,\\\"bike_serial\\\":\\\"SN0000\\\",\\\"original_source\\\":\\\"google ads\\\"}\\n\"}\n",
      "{\"log\": \"2022-10-04 11:13:46.728169 mendoza v9: [SYSTEM] data = {\\\"user_id\\\":4527,\\\"name\\\":\\\"Mr Stuart Austin\\\",\\\"gender\\\":\\\"male\\\",\\\"address\\\":\\\"Studio 73,Stuart turnpike,South Owenshire,SA4N 2PJ\\\",\\\"date_of_birth\\\":384912000000,\\\"email_address\\\":\\\"mr.s@gmail.com\\\",\\\"height_cm\\\":159,\\\"weight_kg\\\":48,\\\"account_create_date\\\":1645660800000,\\\"bike_serial\\\":\\\"SN0000\\\",\\\"original_source\\\":\\\"direct\\\"}\\n\"}\n",
      "{\"log\": \"2022-10-04 11:22:29.446683 mendoza v9: [SYSTEM] data = {\\\"user_id\\\":4527,\\\"name\\\":\\\"Mr Stuart Austin\\\",\\\"gender\\\":\\\"male\\\",\\\"address\\\":\\\"Studio 73,Stuart turnpike,South Owenshire,SA4N 2PJ\\\",\\\"date_of_birth\\\":384912000000,\\\"email_address\\\":\\\"mr.s@gmail.com\\\",\\\"height_cm\\\":159,\\\"weight_kg\\\":48,\\\"account_create_date\\\":1645660800000,\\\"bike_serial\\\":\\\"SN0000\\\",\\\"original_source\\\":\\\"direct\\\"}\\n\"}\n",
      "{\"log\": \"2022-10-04 11:30:14.080864 mendoza v9: [SYSTEM] data = {\\\"user_id\\\":4527,\\\"name\\\":\\\"Mr Stuart Austin\\\",\\\"gender\\\":\\\"male\\\",\\\"address\\\":\\\"Studio 73,Stuart turnpike,South Owenshire,SA4N 2PJ\\\",\\\"date_of_birth\\\":384912000000,\\\"email_address\\\":\\\"mr.s@gmail.com\\\",\\\"height_cm\\\":159,\\\"weight_kg\\\":48,\\\"account_create_date\\\":1645660800000,\\\"bike_serial\\\":\\\"SN0000\\\",\\\"original_source\\\":\\\"direct\\\"}\\n\"}\n",
      "{\"log\": \"2022-10-04 11:38:55.797306 mendoza v9: [SYSTEM] data = {\\\"user_id\\\":4527,\\\"name\\\":\\\"Mr Stuart Austin\\\",\\\"gender\\\":\\\"male\\\",\\\"address\\\":\\\"Studio 73,Stuart turnpike,South Owenshire,SA4N 2PJ\\\",\\\"date_of_birth\\\":384912000000,\\\"email_address\\\":\\\"mr.s@gmail.com\\\",\\\"height_cm\\\":159,\\\"weight_kg\\\":48,\\\"account_create_date\\\":1645660800000,\\\"bike_serial\\\":\\\"SN0000\\\",\\\"original_source\\\":\\\"direct\\\"}\\n\"}\n",
      "{\"log\": \"2022-10-04 11:47:37.519739 mendoza v9: [SYSTEM] data = {\\\"user_id\\\":4527,\\\"name\\\":\\\"Mr Stuart Austin\\\",\\\"gender\\\":\\\"male\\\",\\\"address\\\":\\\"Studio 73,Stuart turnpike,South Owenshire,SA4N 2PJ\\\",\\\"date_of_birth\\\":384912000000,\\\"email_address\\\":\\\"mr.s@gmail.com\\\",\\\"height_cm\\\":159,\\\"weight_kg\\\":48,\\\"account_create_date\\\":1645660800000,\\\"bike_serial\\\":\\\"SN0000\\\",\\\"original_source\\\":\\\"direct\\\"}\\n\"}\n"
     ]
    },
    {
     "name": "stderr",
     "output_type": "stream",
     "text": [
      "%4|1664884561.019|SESSTMOUT|id-002-005#consumer-2| [thrd:main]: Consumer group session timed out (in join-state steady) after 6030 ms without a successful response from the group coordinator (broker 6, last error was Success): revoking assignment and rejoining group\n"
     ]
    },
    {
     "name": "stdout",
     "output_type": "stream",
     "text": [
      "{\"log\": \"2022-10-04 11:56:20.246964 mendoza v9: [SYSTEM] data = {\\\"user_id\\\":4527,\\\"name\\\":\\\"Mr Stuart Austin\\\",\\\"gender\\\":\\\"male\\\",\\\"address\\\":\\\"Studio 73,Stuart turnpike,South Owenshire,SA4N 2PJ\\\",\\\"date_of_birth\\\":384912000000,\\\"email_address\\\":\\\"mr.s@gmail.com\\\",\\\"height_cm\\\":159,\\\"weight_kg\\\":48,\\\"account_create_date\\\":1645660800000,\\\"bike_serial\\\":\\\"SN0000\\\",\\\"original_source\\\":\\\"direct\\\"}\\n\"}\n"
     ]
    },
    {
     "ename": "KeyboardInterrupt",
     "evalue": "",
     "output_type": "error",
     "traceback": [
      "\u001b[0;31m---------------------------------------------------------------------------\u001b[0m",
      "\u001b[0;31mKeyboardInterrupt\u001b[0m                         Traceback (most recent call last)",
      "\u001b[1;32m/Users/hakanbas/Documents/group-project/Deloton-Exercise-Bikes/batch-data-pipeline/initial-ingestion/kafka_ingestion.ipynb Cell 4\u001b[0m in \u001b[0;36m<cell line: 4>\u001b[0;34m()\u001b[0m\n\u001b[1;32m      <a href='vscode-notebook-cell:/Users/hakanbas/Documents/group-project/Deloton-Exercise-Bikes/batch-data-pipeline/initial-ingestion/kafka_ingestion.ipynb#W3sZmlsZQ%3D%3D?line=2'>3</a>\u001b[0m i \u001b[39m=\u001b[39m \u001b[39m0\u001b[39m\n\u001b[1;32m      <a href='vscode-notebook-cell:/Users/hakanbas/Documents/group-project/Deloton-Exercise-Bikes/batch-data-pipeline/initial-ingestion/kafka_ingestion.ipynb#W3sZmlsZQ%3D%3D?line=3'>4</a>\u001b[0m \u001b[39mwhile\u001b[39;00m i \u001b[39m<\u001b[39m \u001b[39m500000\u001b[39m:\n\u001b[0;32m----> <a href='vscode-notebook-cell:/Users/hakanbas/Documents/group-project/Deloton-Exercise-Bikes/batch-data-pipeline/initial-ingestion/kafka_ingestion.ipynb#W3sZmlsZQ%3D%3D?line=4'>5</a>\u001b[0m     kafka_message \u001b[39m=\u001b[39m c\u001b[39m.\u001b[39;49mpoll(\u001b[39m0.5\u001b[39;49m) \u001b[39m#poll all messages\u001b[39;00m\n\u001b[1;32m      <a href='vscode-notebook-cell:/Users/hakanbas/Documents/group-project/Deloton-Exercise-Bikes/batch-data-pipeline/initial-ingestion/kafka_ingestion.ipynb#W3sZmlsZQ%3D%3D?line=6'>7</a>\u001b[0m     \u001b[39mif\u001b[39;00m kafka_message \u001b[39mis\u001b[39;00m \u001b[39mnot\u001b[39;00m \u001b[39mNone\u001b[39;00m: \u001b[39m#exclude none values\u001b[39;00m\n\u001b[1;32m      <a href='vscode-notebook-cell:/Users/hakanbas/Documents/group-project/Deloton-Exercise-Bikes/batch-data-pipeline/initial-ingestion/kafka_ingestion.ipynb#W3sZmlsZQ%3D%3D?line=7'>8</a>\u001b[0m         log \u001b[39m=\u001b[39m kafka_message\u001b[39m.\u001b[39mvalue()\u001b[39m.\u001b[39mdecode(\u001b[39m'\u001b[39m\u001b[39mutf-8\u001b[39m\u001b[39m'\u001b[39m)\n",
      "\u001b[0;31mKeyboardInterrupt\u001b[0m: "
     ]
    }
   ],
   "source": [
    "import json\n",
    "import re\n",
    "i = 0\n",
    "while i < 500000:\n",
    "    kafka_message = c.poll(0.5) #poll all messages\n",
    "\n",
    "    if kafka_message is not None: #exclude none values\n",
    "        log = kafka_message.value().decode('utf-8')\n",
    "\n",
    "        if 'INFO' in log: #only check for strings with INFO\n",
    "            values = json.loads(log)\n",
    "            new_log = values.get('log')\n",
    "            # print(new_log) #Get value inside dict\n",
    "\n",
    "            if 'Ride' in new_log: #process strings with Ride info\n",
    "                new_log = new_log.split(' mendoza v9: [INFO]: Ride - ')\n",
    "                timestamp = new_log[0]\n",
    "                duration_and_resistance = re.findall(r'\\d+.?\\d+',new_log[1])\n",
    "\n",
    "                # print(timestamp,duration_and_resistance)\n",
    "            \n",
    "            if 'Telemetry' in new_log:\n",
    "                new_log = new_log.split(' mendoza v9: [INFO]: Telemetry - ')\n",
    "                timestamp = new_log[0]\n",
    "                duration_and_resistance = re.findall(r'\\d+.?\\d+',new_log[1])\n",
    "                # print(timestamp,duration_and_resistance)\n",
    "                \n",
    "        if 'SYSTEM' in log:\n",
    "            print(log)\n",
    "\n",
    "\n",
    "    i += 1"
   ]
  },
  {
   "cell_type": "markdown",
   "metadata": {},
   "source": [
    "### TODO: \n",
    "\n",
    "* Read kafka data into a dataframe (Pandas or PySpark?)\n",
    "* Write data into Snowflake"
   ]
  },
  {
   "cell_type": "code",
   "execution_count": 13,
   "metadata": {},
   "outputs": [],
   "source": [
    "USER = os.environ.get('USER')\n",
    "ACCOUNT = os.environ.get('ACCOUNT')\n",
    "PASSWORD = os.environ.get('PASSWORD')\n",
    "WAREHOUSE= os.environ.get('WAREHOUSE')\n",
    "DATABASE= os.environ.get('DATABASE')\n",
    "SCHEMA= os.environ.get('SCHEMA')"
   ]
  },
  {
   "cell_type": "code",
   "execution_count": 16,
   "metadata": {},
   "outputs": [],
   "source": [
    "conn = snowflake.connector.connect(\n",
    "    user=USER,\n",
    "    password=PASSWORD,\n",
    "    account=ACCOUNT,\n",
    "    warehouse=WAREHOUSE,\n",
    "    database=DATABASE,\n",
    "    schema='ZOOKEEPERS_BATCH_PRODUCTION'\n",
    ")\n",
    "cs = conn.cursor()\n",
    "\"\"\"Already created schema to use\"\"\""
   ]
  },
  {
   "cell_type": "code",
   "execution_count": 113,
   "metadata": {},
   "outputs": [
    {
     "data": {
      "text/plain": [
       "[]"
      ]
     },
     "execution_count": 113,
     "metadata": {},
     "output_type": "execute_result"
    }
   ],
   "source": [
    "query = \"SHOW TABLES\"\n",
    "result = cs.execute(query)\n",
    "result.fetchmany(100)"
   ]
  }
 ],
 "metadata": {
  "kernelspec": {
   "display_name": "Python 3.9.13 64-bit",
   "language": "python",
   "name": "python3"
  },
  "language_info": {
   "codemirror_mode": {
    "name": "ipython",
    "version": 3
   },
   "file_extension": ".py",
   "mimetype": "text/x-python",
   "name": "python",
   "nbconvert_exporter": "python",
   "pygments_lexer": "ipython3",
   "version": "3.9.13"
  },
  "orig_nbformat": 4,
  "vscode": {
   "interpreter": {
    "hash": "b0fa6594d8f4cbf19f97940f81e996739fb7646882a419484c72d19e05852a7e"
   }
  }
 },
 "nbformat": 4,
 "nbformat_minor": 2
}
