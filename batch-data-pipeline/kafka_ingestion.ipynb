{
 "cells": [
  {
   "cell_type": "code",
   "execution_count": 222,
   "metadata": {},
   "outputs": [
    {
     "data": {
      "text/plain": [
       "'Kafka consumer ready and consumes messages'"
      ]
     },
     "execution_count": 222,
     "metadata": {},
     "output_type": "execute_result"
    }
   ],
   "source": [
    "from confluent_kafka import Consumer\n",
    "from datetime import datetime\n",
    "import uuid\n",
    "import os\n",
    "from dotenv import load_dotenv\n",
    "import snowflake.connector\n",
    "import os\n",
    "import json\n",
    "import re\n",
    "from statistics import mean\n",
    "load_dotenv()\n",
    "\n",
    "KAFKA_SERVER = os.getenv('KAFKA_SERVER')\n",
    "KAFKA_USERNAME=os.getenv('KAFKA_USERNAME')\n",
    "KAFKA_PASSWORD=os.getenv('KAFKA_PASSWORD')\n",
    "KAFKA_TOPIC_NAME = os.getenv('KAFKA_TOPIC_NAME')\n",
    "\n",
    "values = []\n",
    "\n",
    "c = Consumer({\n",
    "    'bootstrap.servers': KAFKA_SERVER,\n",
    "    'group.id': f'deleton' +str(uuid.uuid1()),\n",
    "    'security.protocol': 'SASL_SSL',\n",
    "    'sasl.mechanisms': 'PLAIN',\n",
    "    'sasl.username': KAFKA_USERNAME,\n",
    "    'sasl.password': KAFKA_PASSWORD,\n",
    "    'session.timeout.ms': 6000,\n",
    "    'heartbeat.interval.ms': 1000,\n",
    "    'fetch.wait.max.ms': 6000,\n",
    "    'auto.offset.reset': 'latest',\n",
    "    'enable.auto.commit': 'false',\n",
    "    'max.poll.interval.ms': '86400000',\n",
    "    'topic.metadata.refresh.interval.ms': \"-1\",\n",
    "    \"client.id\": 'id-002-005',\n",
    "})\n",
    "\n",
    "c.subscribe([KAFKA_TOPIC_NAME])\n",
    "\"\"\"Kafka consumer ready and consumes messages\"\"\""
   ]
  },
  {
   "cell_type": "code",
   "execution_count": 223,
   "metadata": {},
   "outputs": [],
   "source": [
    "def extract_values_from_log(string):\n",
    "    regex=r'\\d+.?\\d+|\\d'\n",
    "    log_values = re.findall(regex,string)\n",
    "    return log_values"
   ]
  },
  {
   "cell_type": "code",
   "execution_count": 236,
   "metadata": {},
   "outputs": [],
   "source": [
    "def wait_for_system_log():\n",
    "    while True:\n",
    "        kafka_message = c.poll(0.5)\n",
    "        if kafka_message is not None:\n",
    "            log = kafka_message.value().decode('utf-8')\n",
    "\n",
    "            if 'SYSTEM' in log:\n",
    "                return kafka_message"
   ]
  },
  {
   "cell_type": "code",
   "execution_count": 237,
   "metadata": {},
   "outputs": [],
   "source": [
    "def convert_unix_to_date(unix_timestamp):\n",
    "    unix_timestamp /= 1000  #convert to seconds as unix timestamp is in milliseconds\n",
    "    converted_to_date = datetime.utcfromtimestamp(unix_timestamp) \n",
    "  \n",
    "    current_time = datetime.now()\n",
    "    if converted_to_date > current_time:\n",
    "        return 'N/A'\n",
    "\n",
    "    return converted_to_date.strftime('%Y-%m-%d')"
   ]
  },
  {
   "cell_type": "code",
   "execution_count": 238,
   "metadata": {},
   "outputs": [],
   "source": [
    "def split_full_name(name):\n",
    "    name_list = name.split(' ')\n",
    "    titles = ['Mr','Mrs','Miss','Ms','Dr']\n",
    "\n",
    "    if name_list[0] in titles:\n",
    "        first_name = name_list[1]\n",
    "        try:\n",
    "            last_name = name_list[2]\n",
    "        except IndexError:\n",
    "            last_name = None\n",
    "\n",
    "    else:\n",
    "        first_name = name_list[0]\n",
    "        last_name = name_list[1]\n",
    "\n",
    "    return first_name,last_name"
   ]
  },
  {
   "cell_type": "code",
   "execution_count": 239,
   "metadata": {},
   "outputs": [],
   "source": [
    "def flatten_list(address_list):\n",
    "    flat_list = []\n",
    "\n",
    "    for element in address_list:\n",
    "        if type(element) is list:\n",
    "          \n",
    "            for item in element:\n",
    "                flat_list.append(item)\n",
    "        else:\n",
    "            flat_list.append(element)\n",
    "    return flat_list\n",
    "\n",
    "\n",
    "def split_address(address):\n",
    "    address_list = address.split(',')\n",
    "\n",
    "    if len(address_list) < 4:\n",
    "        address_list[0] = address_list[0].split(' ', 1) \n",
    "        address_list = flatten_list(address_list)\n",
    "\n",
    "    house_number = address_list[0]\n",
    "    street_name = address_list[1].title()\n",
    "    region = address_list[2].title()\n",
    "    postcode = address_list[3]\n",
    "\n",
    "    return house_number,street_name,region,postcode"
   ]
  },
  {
   "cell_type": "code",
   "execution_count": 240,
   "metadata": {},
   "outputs": [],
   "source": [
    "def clean_user_data(user_dictionary):\n",
    "    \n",
    "    user_dictionary['account_create_date'] = convert_unix_to_date(user_dictionary['account_create_date'])\n",
    "    user_dictionary['date_of_birth'] = convert_unix_to_date(user_dictionary['date_of_birth'])\n",
    "\n",
    "    first_name,last_name = split_full_name(user_dictionary['name'])\n",
    "\n",
    "    user_dictionary['first_name'] = first_name\n",
    "    user_dictionary['last_name'] = last_name\n",
    "\n",
    "    house_number,street_name,region,postcode = split_address(user_dictionary['address'])\n",
    "\n",
    "    user_dictionary['house_number'] = house_number\n",
    "    user_dictionary['street_name'] = street_name\n",
    "    user_dictionary['region'] = region\n",
    "    user_dictionary['postcode'] = postcode\n",
    "    user_dictionary['gender'] = user_dictionary['gender'].title()\n",
    "\n",
    "    return user_dictionary"
   ]
  },
  {
   "cell_type": "code",
   "execution_count": 242,
   "metadata": {},
   "outputs": [
    {
     "name": "stdout",
     "output_type": "stream",
     "text": [
      "2022-10-05 13:21:25.537016\n",
      "{'user_id': 4568, 'name': 'Christine Powell', 'gender': 'Female', 'address': 'Studio 28D,Alexander village,Barberland,WC6M 5LH', 'date_of_birth': '1995-04-03', 'email_address': 'christine.powell@gmail.com', 'height_cm': 152, 'weight_kg': 46, 'account_create_date': '2022-02-01', 'bike_serial': 'SN0000', 'original_source': 'google ads', 'first_name': 'Christine', 'last_name': 'Powell', 'house_number': 'Studio 28D', 'street_name': 'Alexander Village', 'region': 'Barberland', 'postcode': 'WC6M 5LH'}\n"
     ]
    },
    {
     "ename": "KeyboardInterrupt",
     "evalue": "",
     "output_type": "error",
     "traceback": [
      "\u001b[0;31m---------------------------------------------------------------------------\u001b[0m",
      "\u001b[0;31mKeyboardInterrupt\u001b[0m                         Traceback (most recent call last)",
      "\u001b[1;32m/Users/hakanbas/Documents/group-project/Deloton-Exercise-Bikes/batch-data-pipeline/kafka_ingestion.ipynb Cell 8\u001b[0m in \u001b[0;36m<cell line: 10>\u001b[0;34m()\u001b[0m\n\u001b[1;32m      <a href='vscode-notebook-cell:/Users/hakanbas/Documents/group-project/Deloton-Exercise-Bikes/batch-data-pipeline/kafka_ingestion.ipynb#X25sZmlsZQ%3D%3D?line=6'>7</a>\u001b[0m rpm_list \u001b[39m=\u001b[39m []\n\u001b[1;32m      <a href='vscode-notebook-cell:/Users/hakanbas/Documents/group-project/Deloton-Exercise-Bikes/batch-data-pipeline/kafka_ingestion.ipynb#X25sZmlsZQ%3D%3D?line=8'>9</a>\u001b[0m \u001b[39mwhile\u001b[39;00m \u001b[39mTrue\u001b[39;00m:\n\u001b[0;32m---> <a href='vscode-notebook-cell:/Users/hakanbas/Documents/group-project/Deloton-Exercise-Bikes/batch-data-pipeline/kafka_ingestion.ipynb#X25sZmlsZQ%3D%3D?line=9'>10</a>\u001b[0m     kafka_message \u001b[39m=\u001b[39m c\u001b[39m.\u001b[39;49mpoll(\u001b[39m0.5\u001b[39;49m)\n\u001b[1;32m     <a href='vscode-notebook-cell:/Users/hakanbas/Documents/group-project/Deloton-Exercise-Bikes/batch-data-pipeline/kafka_ingestion.ipynb#X25sZmlsZQ%3D%3D?line=11'>12</a>\u001b[0m     \u001b[39mif\u001b[39;00m wait_for_first_user:\n\u001b[1;32m     <a href='vscode-notebook-cell:/Users/hakanbas/Documents/group-project/Deloton-Exercise-Bikes/batch-data-pipeline/kafka_ingestion.ipynb#X25sZmlsZQ%3D%3D?line=12'>13</a>\u001b[0m         kafka_message \u001b[39m=\u001b[39m wait_for_system_log()\n",
      "\u001b[0;31mKeyboardInterrupt\u001b[0m: "
     ]
    }
   ],
   "source": [
    "wait_for_first_user = True #Wait for current user to finish, so can obtain all relevant information\n",
    "first_user_collected = False #Add check for first user so data is not sent to snowflake prematurely\n",
    "\n",
    "resistance_list = []\n",
    "power_list = []\n",
    "heart_rate_list = []\n",
    "rpm_list = []\n",
    "\n",
    "while True:\n",
    "    kafka_message = c.poll(0.5)\n",
    "\n",
    "    if wait_for_first_user:\n",
    "        kafka_message = wait_for_system_log()\n",
    "        wait_for_first_user = False\n",
    "\n",
    "\n",
    "    if kafka_message is not None: #exclude none values\n",
    "        log = kafka_message.value().decode('utf-8')\n",
    "\n",
    "\n",
    "        if 'SYSTEM' in log:\n",
    "            first_user_collected = True\n",
    "            \n",
    "            system_log = json.loads(log).get('log')\n",
    "            split_log = system_log.split(' mendoza v9: [SYSTEM] data = ')\n",
    "            begin_timestamp = split_log[0]\n",
    "            print(begin_timestamp)\n",
    "            dictionary_string = split_log[1][:-1]\n",
    "            user_dictionary = json.loads(dictionary_string)\n",
    "            \n",
    "            user_dictionary = clean_user_data(user_dictionary)\n",
    "\n",
    "            print(user_dictionary)\n",
    "\n",
    "\n",
    "        elif 'INFO' in log: #only check for strings with INFO\n",
    "\n",
    "            values = json.loads(log)\n",
    "            new_log = values.get('log')\n",
    "         \n",
    "\n",
    "            if 'Ride' in new_log: #process strings with Ride info\n",
    "                new_log = new_log.split(' mendoza v9: [INFO]: Ride - ')\n",
    "               \n",
    "                log_values = extract_values_from_log(new_log[1])\n",
    "\n",
    "                duration = int(float(log_values[0]))\n",
    "                resistance_list.append(int(log_values[1]))\n",
    "         \n",
    "\n",
    "            elif 'Telemetry' in new_log:\n",
    "                new_log = new_log.split(' mendoza v9: [INFO]: Telemetry - ')\n",
    "               \n",
    "                log_values = extract_values_from_log(new_log[1])\n",
    "\n",
    "                heart_rate_list.append(int(log_values[0]))\n",
    "                rpm_list.append(int(log_values[1]))\n",
    "                power_list.append(round(float(log_values[2]),3))\n",
    "\n",
    "\n",
    "        elif '---' in log and first_user_collected: #New user is starting, so load collected data into snowflake\n",
    "            total_power = sum(power_list)\n",
    "            mean_power = mean(power_list)\n",
    "            mean_rpm = mean(rpm_list)\n",
    "            mean_heart_rate = mean(heart_rate_list)\n",
    "            mean_resistance = mean(resistance_list)\n",
    "                \n"
   ]
  },
  {
   "cell_type": "code",
   "execution_count": 243,
   "metadata": {},
   "outputs": [],
   "source": [
    "USER = os.environ.get('USER')\n",
    "ACCOUNT = os.environ.get('ACCOUNT')\n",
    "PASSWORD = os.environ.get('PASSWORD')\n",
    "WAREHOUSE= os.environ.get('WAREHOUSE')\n",
    "DATABASE= os.environ.get('DATABASE')\n",
    "SCHEMA= os.environ.get('SCHEMA')"
   ]
  },
  {
   "cell_type": "code",
   "execution_count": 244,
   "metadata": {},
   "outputs": [
    {
     "data": {
      "text/plain": [
       "'Already created schema to use'"
      ]
     },
     "execution_count": 244,
     "metadata": {},
     "output_type": "execute_result"
    }
   ],
   "source": [
    "conn = snowflake.connector.connect(\n",
    "    user=USER,\n",
    "    password=PASSWORD,\n",
    "    account=ACCOUNT,\n",
    "    warehouse=WAREHOUSE,\n",
    "    database=DATABASE,\n",
    "    schema='ZOOKEEPERS_BATCH_PRODUCTION'\n",
    ")\n",
    "cs = conn.cursor()\n",
    "\"\"\"Already created schema to use\"\"\""
   ]
  },
  {
   "cell_type": "code",
   "execution_count": 279,
   "metadata": {},
   "outputs": [
    {
     "ename": "ProgrammingError",
     "evalue": "001456 (42601): SQL compilation error:\nprimary or unique key does not exist for the columns referenced by the foreign key",
     "output_type": "error",
     "traceback": [
      "\u001b[0;31m---------------------------------------------------------------------------\u001b[0m",
      "\u001b[0;31mProgrammingError\u001b[0m                          Traceback (most recent call last)",
      "\u001b[1;32m/Users/hakanbas/Documents/group-project/Deloton-Exercise-Bikes/batch-data-pipeline/kafka_ingestion.ipynb Cell 11\u001b[0m in \u001b[0;36m<cell line: 17>\u001b[0;34m()\u001b[0m\n\u001b[1;32m      <a href='vscode-notebook-cell:/Users/hakanbas/Documents/group-project/Deloton-Exercise-Bikes/batch-data-pipeline/kafka_ingestion.ipynb#X36sZmlsZQ%3D%3D?line=1'>2</a>\u001b[0m create_table \u001b[39m=\u001b[39m \u001b[39m\"\"\"\u001b[39m\u001b[39mCREATE TABLE IF NOT EXISTS rides (\u001b[39m\n\u001b[1;32m      <a href='vscode-notebook-cell:/Users/hakanbas/Documents/group-project/Deloton-Exercise-Bikes/batch-data-pipeline/kafka_ingestion.ipynb#X36sZmlsZQ%3D%3D?line=2'>3</a>\u001b[0m \u001b[39m  ride_id INT DEFAULT seq1.nextval PRIMARY KEY,\u001b[39m\n\u001b[1;32m      <a href='vscode-notebook-cell:/Users/hakanbas/Documents/group-project/Deloton-Exercise-Bikes/batch-data-pipeline/kafka_ingestion.ipynb#X36sZmlsZQ%3D%3D?line=3'>4</a>\u001b[0m \u001b[39m  user_id INT,\u001b[39m\n\u001b[0;32m   (...)\u001b[0m\n\u001b[1;32m     <a href='vscode-notebook-cell:/Users/hakanbas/Documents/group-project/Deloton-Exercise-Bikes/batch-data-pipeline/kafka_ingestion.ipynb#X36sZmlsZQ%3D%3D?line=10'>11</a>\u001b[0m \u001b[39m  mean_heart_rate FLOAT NOT NULL\u001b[39m\n\u001b[1;32m     <a href='vscode-notebook-cell:/Users/hakanbas/Documents/group-project/Deloton-Exercise-Bikes/batch-data-pipeline/kafka_ingestion.ipynb#X36sZmlsZQ%3D%3D?line=11'>12</a>\u001b[0m \u001b[39m);\u001b[39m\u001b[39m\"\"\"\u001b[39m\n\u001b[1;32m     <a href='vscode-notebook-cell:/Users/hakanbas/Documents/group-project/Deloton-Exercise-Bikes/batch-data-pipeline/kafka_ingestion.ipynb#X36sZmlsZQ%3D%3D?line=13'>14</a>\u001b[0m alter_table \u001b[39m=\u001b[39m \u001b[39m\"\"\"\u001b[39m\u001b[39mALTER TABLE users\u001b[39m\n\u001b[1;32m     <a href='vscode-notebook-cell:/Users/hakanbas/Documents/group-project/Deloton-Exercise-Bikes/batch-data-pipeline/kafka_ingestion.ipynb#X36sZmlsZQ%3D%3D?line=14'>15</a>\u001b[0m \u001b[39m  ADD FOREIGN KEY (user_id) REFERENCES rides(user_id);\u001b[39m\u001b[39m\"\"\"\u001b[39m\n\u001b[0;32m---> <a href='vscode-notebook-cell:/Users/hakanbas/Documents/group-project/Deloton-Exercise-Bikes/batch-data-pipeline/kafka_ingestion.ipynb#X36sZmlsZQ%3D%3D?line=16'>17</a>\u001b[0m result \u001b[39m=\u001b[39m cs\u001b[39m.\u001b[39;49mexecute(alter_table)\n\u001b[1;32m     <a href='vscode-notebook-cell:/Users/hakanbas/Documents/group-project/Deloton-Exercise-Bikes/batch-data-pipeline/kafka_ingestion.ipynb#X36sZmlsZQ%3D%3D?line=17'>18</a>\u001b[0m result\u001b[39m.\u001b[39mfetchmany(\u001b[39m100\u001b[39m)\n",
      "File \u001b[0;32m/opt/homebrew/lib/python3.9/site-packages/snowflake/connector/cursor.py:803\u001b[0m, in \u001b[0;36mSnowflakeCursor.execute\u001b[0;34m(self, command, params, _bind_stage, timeout, _exec_async, _no_retry, _do_reset, _put_callback, _put_azure_callback, _put_callback_output_stream, _get_callback, _get_azure_callback, _get_callback_output_stream, _show_progress_bar, _statement_params, _is_internal, _describe_only, _no_results, _is_put_get, _raise_put_get_error, _force_put_overwrite, file_stream)\u001b[0m\n\u001b[1;32m    799\u001b[0m     is_integrity_error \u001b[39m=\u001b[39m (\n\u001b[1;32m    800\u001b[0m         code \u001b[39m==\u001b[39m \u001b[39m\"\u001b[39m\u001b[39m100072\u001b[39m\u001b[39m\"\u001b[39m\n\u001b[1;32m    801\u001b[0m     )  \u001b[39m# NULL result in a non-nullable column\u001b[39;00m\n\u001b[1;32m    802\u001b[0m     error_class \u001b[39m=\u001b[39m IntegrityError \u001b[39mif\u001b[39;00m is_integrity_error \u001b[39melse\u001b[39;00m ProgrammingError\n\u001b[0;32m--> 803\u001b[0m     Error\u001b[39m.\u001b[39;49merrorhandler_wrapper(\u001b[39mself\u001b[39;49m\u001b[39m.\u001b[39;49mconnection, \u001b[39mself\u001b[39;49m, error_class, errvalue)\n\u001b[1;32m    804\u001b[0m \u001b[39mreturn\u001b[39;00m \u001b[39mself\u001b[39m\n",
      "File \u001b[0;32m/opt/homebrew/lib/python3.9/site-packages/snowflake/connector/errors.py:275\u001b[0m, in \u001b[0;36mError.errorhandler_wrapper\u001b[0;34m(connection, cursor, error_class, error_value)\u001b[0m\n\u001b[1;32m    252\u001b[0m \u001b[39m@staticmethod\u001b[39m\n\u001b[1;32m    253\u001b[0m \u001b[39mdef\u001b[39;00m \u001b[39merrorhandler_wrapper\u001b[39m(\n\u001b[1;32m    254\u001b[0m     connection: SnowflakeConnection \u001b[39m|\u001b[39m \u001b[39mNone\u001b[39;00m,\n\u001b[0;32m   (...)\u001b[0m\n\u001b[1;32m    257\u001b[0m     error_value: \u001b[39mdict\u001b[39m[\u001b[39mstr\u001b[39m, \u001b[39mstr\u001b[39m \u001b[39m|\u001b[39m \u001b[39mbool\u001b[39m \u001b[39m|\u001b[39m \u001b[39mint\u001b[39m],\n\u001b[1;32m    258\u001b[0m ) \u001b[39m-\u001b[39m\u001b[39m>\u001b[39m \u001b[39mNone\u001b[39;00m:\n\u001b[1;32m    259\u001b[0m     \u001b[39m\"\"\"Error handler wrapper that calls the errorhandler method.\u001b[39;00m\n\u001b[1;32m    260\u001b[0m \n\u001b[1;32m    261\u001b[0m \u001b[39m    Args:\u001b[39;00m\n\u001b[0;32m   (...)\u001b[0m\n\u001b[1;32m    272\u001b[0m \u001b[39m        exception to the first handler in that order.\u001b[39;00m\n\u001b[1;32m    273\u001b[0m \u001b[39m    \"\"\"\u001b[39;00m\n\u001b[0;32m--> 275\u001b[0m     handed_over \u001b[39m=\u001b[39m Error\u001b[39m.\u001b[39;49mhand_to_other_handler(\n\u001b[1;32m    276\u001b[0m         connection,\n\u001b[1;32m    277\u001b[0m         cursor,\n\u001b[1;32m    278\u001b[0m         error_class,\n\u001b[1;32m    279\u001b[0m         error_value,\n\u001b[1;32m    280\u001b[0m     )\n\u001b[1;32m    281\u001b[0m     \u001b[39mif\u001b[39;00m \u001b[39mnot\u001b[39;00m handed_over:\n\u001b[1;32m    282\u001b[0m         \u001b[39mraise\u001b[39;00m Error\u001b[39m.\u001b[39merrorhandler_make_exception(\n\u001b[1;32m    283\u001b[0m             error_class,\n\u001b[1;32m    284\u001b[0m             error_value,\n\u001b[1;32m    285\u001b[0m         )\n",
      "File \u001b[0;32m/opt/homebrew/lib/python3.9/site-packages/snowflake/connector/errors.py:330\u001b[0m, in \u001b[0;36mError.hand_to_other_handler\u001b[0;34m(connection, cursor, error_class, error_value)\u001b[0m\n\u001b[1;32m    328\u001b[0m \u001b[39mif\u001b[39;00m cursor \u001b[39mis\u001b[39;00m \u001b[39mnot\u001b[39;00m \u001b[39mNone\u001b[39;00m:\n\u001b[1;32m    329\u001b[0m     cursor\u001b[39m.\u001b[39mmessages\u001b[39m.\u001b[39mappend((error_class, error_value))\n\u001b[0;32m--> 330\u001b[0m     cursor\u001b[39m.\u001b[39;49merrorhandler(connection, cursor, error_class, error_value)\n\u001b[1;32m    331\u001b[0m     \u001b[39mreturn\u001b[39;00m \u001b[39mTrue\u001b[39;00m\n\u001b[1;32m    332\u001b[0m \u001b[39melif\u001b[39;00m connection \u001b[39mis\u001b[39;00m \u001b[39mnot\u001b[39;00m \u001b[39mNone\u001b[39;00m:\n",
      "File \u001b[0;32m/opt/homebrew/lib/python3.9/site-packages/snowflake/connector/errors.py:209\u001b[0m, in \u001b[0;36mError.default_errorhandler\u001b[0;34m(connection, cursor, error_class, error_value)\u001b[0m\n\u001b[1;32m    191\u001b[0m \u001b[39m@staticmethod\u001b[39m\n\u001b[1;32m    192\u001b[0m \u001b[39mdef\u001b[39;00m \u001b[39mdefault_errorhandler\u001b[39m(\n\u001b[1;32m    193\u001b[0m     connection: SnowflakeConnection,\n\u001b[0;32m   (...)\u001b[0m\n\u001b[1;32m    196\u001b[0m     error_value: \u001b[39mdict\u001b[39m[\u001b[39mstr\u001b[39m, \u001b[39mstr\u001b[39m],\n\u001b[1;32m    197\u001b[0m ) \u001b[39m-\u001b[39m\u001b[39m>\u001b[39m \u001b[39mNone\u001b[39;00m:\n\u001b[1;32m    198\u001b[0m     \u001b[39m\"\"\"Default error handler that raises an error.\u001b[39;00m\n\u001b[1;32m    199\u001b[0m \n\u001b[1;32m    200\u001b[0m \u001b[39m    Args:\u001b[39;00m\n\u001b[0;32m   (...)\u001b[0m\n\u001b[1;32m    207\u001b[0m \u001b[39m        A Snowflake error.\u001b[39;00m\n\u001b[1;32m    208\u001b[0m \u001b[39m    \"\"\"\u001b[39;00m\n\u001b[0;32m--> 209\u001b[0m     \u001b[39mraise\u001b[39;00m error_class(\n\u001b[1;32m    210\u001b[0m         msg\u001b[39m=\u001b[39merror_value\u001b[39m.\u001b[39mget(\u001b[39m\"\u001b[39m\u001b[39mmsg\u001b[39m\u001b[39m\"\u001b[39m),\n\u001b[1;32m    211\u001b[0m         errno\u001b[39m=\u001b[39merror_value\u001b[39m.\u001b[39mget(\u001b[39m\"\u001b[39m\u001b[39merrno\u001b[39m\u001b[39m\"\u001b[39m),\n\u001b[1;32m    212\u001b[0m         sqlstate\u001b[39m=\u001b[39merror_value\u001b[39m.\u001b[39mget(\u001b[39m\"\u001b[39m\u001b[39msqlstate\u001b[39m\u001b[39m\"\u001b[39m),\n\u001b[1;32m    213\u001b[0m         sfqid\u001b[39m=\u001b[39merror_value\u001b[39m.\u001b[39mget(\u001b[39m\"\u001b[39m\u001b[39msfqid\u001b[39m\u001b[39m\"\u001b[39m),\n\u001b[1;32m    214\u001b[0m         done_format_msg\u001b[39m=\u001b[39merror_value\u001b[39m.\u001b[39mget(\u001b[39m\"\u001b[39m\u001b[39mdone_format_msg\u001b[39m\u001b[39m\"\u001b[39m),\n\u001b[1;32m    215\u001b[0m         connection\u001b[39m=\u001b[39mconnection,\n\u001b[1;32m    216\u001b[0m         cursor\u001b[39m=\u001b[39mcursor,\n\u001b[1;32m    217\u001b[0m     )\n",
      "\u001b[0;31mProgrammingError\u001b[0m: 001456 (42601): SQL compilation error:\nprimary or unique key does not exist for the columns referenced by the foreign key"
     ]
    }
   ],
   "source": [
    "query = \"SHOW SCHEMAS\"\n",
    "create_table = \"\"\"CREATE TABLE IF NOT EXISTS rides (\n",
    "  ride_id INT DEFAULT seq1.nextval PRIMARY KEY,\n",
    "  user_id INT,\n",
    "  begin_timestamp TIMESTAMP NOT NULL,\n",
    "  total_duration_sec INT NOT NULL,\n",
    "  total_power FLOAT NOT NULL,\n",
    "  mean_power FLOAT NOT NULL,\n",
    "  mean_resistance FLOAT NOT NULL,\n",
    "  mean_rpm FLOAT NOT NULL,\n",
    "  mean_heart_rate FLOAT NOT NULL\n",
    ");\"\"\"\n",
    "\n",
    "alter_table = \"\"\"ALTER TABLE users\n",
    "  ADD FOREIGN KEY (user_id) REFERENCES rides(user_id);\"\"\"\n",
    "\n",
    "result = cs.execute(alter_table)\n",
    "result.fetchmany(100)"
   ]
  }
 ],
 "metadata": {
  "kernelspec": {
   "display_name": "Python 3.9.13 64-bit",
   "language": "python",
   "name": "python3"
  },
  "language_info": {
   "codemirror_mode": {
    "name": "ipython",
    "version": 3
   },
   "file_extension": ".py",
   "mimetype": "text/x-python",
   "name": "python",
   "nbconvert_exporter": "python",
   "pygments_lexer": "ipython3",
   "version": "3.9.13"
  },
  "orig_nbformat": 4,
  "vscode": {
   "interpreter": {
    "hash": "b0fa6594d8f4cbf19f97940f81e996739fb7646882a419484c72d19e05852a7e"
   }
  }
 },
 "nbformat": 4,
 "nbformat_minor": 2
}
