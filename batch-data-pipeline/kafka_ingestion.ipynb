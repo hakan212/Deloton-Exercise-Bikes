{
 "cells": [
  {
   "cell_type": "markdown",
   "metadata": {},
   "source": [
    "## Kafka Ingestion\n",
    "\n",
    "### Required Imports + Subscribing to topic"
   ]
  },
  {
   "cell_type": "code",
   "execution_count": 1,
   "metadata": {},
   "outputs": [
    {
     "name": "stderr",
     "output_type": "stream",
     "text": [
      "/opt/homebrew/lib/python3.9/site-packages/snowflake/connector/options.py:96: UserWarning: You have an incompatible version of 'pyarrow' installed (9.0.0), please install a version that adheres to: 'pyarrow<8.1.0,>=8.0.0; extra == \"pandas\"'\n",
      "  warn_incompatible_dep(\n"
     ]
    },
    {
     "data": {
      "text/plain": [
       "'Kafka consumer ready and consumes messages'"
      ]
     },
     "execution_count": 1,
     "metadata": {},
     "output_type": "execute_result"
    }
   ],
   "source": [
    "from confluent_kafka import Consumer\n",
    "import uuid\n",
    "import os\n",
    "from dotenv import load_dotenv\n",
    "import snowflake.connector\n",
    "import os\n",
    "load_dotenv()\n",
    "\n",
    "KAFKA_SERVER = os.getenv('KAFKA_SERVER')\n",
    "KAFKA_USERNAME=os.getenv('KAFKA_USERNAME')\n",
    "KAFKA_PASSWORD=os.getenv('KAFKA_PASSWORD')\n",
    "KAFKA_TOPIC_NAME = os.getenv('KAFKA_TOPIC_NAME')\n",
    "\n",
    "values = []\n",
    "\n",
    "# Consumer with `confluent_kafka`\n",
    "c = Consumer({\n",
    "    'bootstrap.servers': KAFKA_SERVER,\n",
    "    'group.id': f'deleton' +str(uuid.uuid1()),\n",
    "    'security.protocol': 'SASL_SSL',\n",
    "    'sasl.mechanisms': 'PLAIN',\n",
    "    'sasl.username': KAFKA_USERNAME,\n",
    "    'sasl.password': KAFKA_PASSWORD,\n",
    "    'session.timeout.ms': 6000,\n",
    "    'heartbeat.interval.ms': 1000,\n",
    "    'fetch.wait.max.ms': 6000,\n",
    "    'auto.offset.reset': 'latest',\n",
    "    'enable.auto.commit': 'false',\n",
    "    'max.poll.interval.ms': '86400000',\n",
    "    'topic.metadata.refresh.interval.ms': \"-1\",\n",
    "    \"client.id\": 'id-002-005',\n",
    "})\n",
    "\n",
    "c.subscribe([KAFKA_TOPIC_NAME])\n",
    "\"\"\"Kafka consumer ready and consumes messages\"\"\""
   ]
  },
  {
   "cell_type": "code",
   "execution_count": 83,
   "metadata": {},
   "outputs": [],
   "source": [
    "def extract_values_from_log(string):\n",
    "    regex=r'\\d+.?\\d+|\\d'\n",
    "    log_values = re.findall(regex,string)\n",
    "    return log_values"
   ]
  },
  {
   "cell_type": "markdown",
   "metadata": {},
   "source": [
    "### Testing Kafka Messages"
   ]
  },
  {
   "cell_type": "code",
   "execution_count": 120,
   "metadata": {},
   "outputs": [
    {
     "name": "stdout",
     "output_type": "stream",
     "text": [
      "{'user_id': 4563, 'name': 'Ms Jodie Dale', 'gender': 'female', 'address': '74 Robert wall,Port James,B9S 4DS', 'date_of_birth': 329184000000, 'email_address': 'ms.jodie28@yahoo.com', 'height_cm': 163, 'weight_kg': 55, 'account_create_date': 1643932800000, 'bike_serial': 'SN0000', 'original_source': 'offline'}\n"
     ]
    },
    {
     "ename": "KeyboardInterrupt",
     "evalue": "",
     "output_type": "error",
     "traceback": [
      "\u001b[0;31m---------------------------------------------------------------------------\u001b[0m",
      "\u001b[0;31mKeyboardInterrupt\u001b[0m                         Traceback (most recent call last)",
      "\u001b[1;32m/Users/hakanbas/Documents/group-project/Deloton-Exercise-Bikes/batch-data-pipeline/kafka_ingestion.ipynb Cell 5\u001b[0m in \u001b[0;36m<cell line: 5>\u001b[0;34m()\u001b[0m\n\u001b[1;32m      <a href='vscode-notebook-cell:/Users/hakanbas/Documents/group-project/Deloton-Exercise-Bikes/batch-data-pipeline/kafka_ingestion.ipynb#W3sZmlsZQ%3D%3D?line=3'>4</a>\u001b[0m no_system_log \u001b[39m=\u001b[39m \u001b[39mTrue\u001b[39;00m\n\u001b[1;32m      <a href='vscode-notebook-cell:/Users/hakanbas/Documents/group-project/Deloton-Exercise-Bikes/batch-data-pipeline/kafka_ingestion.ipynb#W3sZmlsZQ%3D%3D?line=4'>5</a>\u001b[0m \u001b[39mwhile\u001b[39;00m no_system_log:\n\u001b[0;32m----> <a href='vscode-notebook-cell:/Users/hakanbas/Documents/group-project/Deloton-Exercise-Bikes/batch-data-pipeline/kafka_ingestion.ipynb#W3sZmlsZQ%3D%3D?line=5'>6</a>\u001b[0m     kafka_message \u001b[39m=\u001b[39m c\u001b[39m.\u001b[39;49mpoll(\u001b[39m0.5\u001b[39;49m) \u001b[39m#poll all messages\u001b[39;00m\n\u001b[1;32m      <a href='vscode-notebook-cell:/Users/hakanbas/Documents/group-project/Deloton-Exercise-Bikes/batch-data-pipeline/kafka_ingestion.ipynb#W3sZmlsZQ%3D%3D?line=7'>8</a>\u001b[0m     \u001b[39mif\u001b[39;00m kafka_message \u001b[39mis\u001b[39;00m \u001b[39mnot\u001b[39;00m \u001b[39mNone\u001b[39;00m: \u001b[39m#exclude none values\u001b[39;00m\n\u001b[1;32m      <a href='vscode-notebook-cell:/Users/hakanbas/Documents/group-project/Deloton-Exercise-Bikes/batch-data-pipeline/kafka_ingestion.ipynb#W3sZmlsZQ%3D%3D?line=8'>9</a>\u001b[0m         log \u001b[39m=\u001b[39m kafka_message\u001b[39m.\u001b[39mvalue()\u001b[39m.\u001b[39mdecode(\u001b[39m'\u001b[39m\u001b[39mutf-8\u001b[39m\u001b[39m'\u001b[39m)\n",
      "\u001b[0;31mKeyboardInterrupt\u001b[0m: "
     ]
    }
   ],
   "source": [
    "import json\n",
    "import re\n",
    "i = 0\n",
    "no_system_log = True\n",
    "while no_system_log:\n",
    "    kafka_message = c.poll(0.5) #poll all messages\n",
    "\n",
    "    if kafka_message is not None: #exclude none values\n",
    "        log = kafka_message.value().decode('utf-8')\n",
    "\n",
    "        if 'INFO' in log: #only check for strings with INFO\n",
    "            values = json.loads(log)\n",
    "            new_log = values.get('log')\n",
    "         \n",
    "\n",
    "            if 'Ride' in new_log: #process strings with Ride info\n",
    "                new_log = new_log.split(' mendoza v9: [INFO]: Ride - ')\n",
    "            \n",
    "                timestamp = new_log[0]\n",
    "               \n",
    "                log_values = extract_values_from_log(new_log[1])\n",
    "                duration=int(float(log_values[0]))\n",
    "                resistance=log_values[1]\n",
    "         \n",
    "\n",
    "           \n",
    "            if 'Telemetry' in new_log:\n",
    "                new_log = new_log.split(' mendoza v9: [INFO]: Telemetry - ')\n",
    "               \n",
    "                timestamp = new_log[0]\n",
    "                log_values = extract_values_from_log(new_log[1])\n",
    "                heart_rate = log_values[0]\n",
    "                rpm = log_values[1]\n",
    "                power= round(float(log_values[2]),3)\n",
    "\n",
    "        \n",
    "        if 'SYSTEM' in log:\n",
    "            system_log = json.loads(log).get('log')\n",
    "            split_log = system_log.split(' mendoza v9: [SYSTEM] data = ')\n",
    "            timestamp = split_log[0]\n",
    "            dictionary_string = split_log[1][:-1]\n",
    "            user_dictionary = json.loads(dictionary_string)\n",
    "            print(user_dictionary)\n",
    "\n",
    "\n",
    "    i += 1"
   ]
  },
  {
   "cell_type": "code",
   "execution_count": 157,
   "metadata": {},
   "outputs": [
    {
     "data": {
      "text/plain": [
       "{'user_id': 4563,\n",
       " 'name': 'Ms Jodie Dale',\n",
       " 'gender': 'female',\n",
       " 'address': '74 Robert wall,Port James,B9S 4DS',\n",
       " 'date_of_birth': 329184000000,\n",
       " 'email_address': 'ms.jodie28@yahoo.com',\n",
       " 'height_cm': 163,\n",
       " 'weight_kg': 55,\n",
       " 'account_create_date': 1643932800000,\n",
       " 'bike_serial': 'SN0000',\n",
       " 'original_source': 'offline'}"
      ]
     },
     "execution_count": 157,
     "metadata": {},
     "output_type": "execute_result"
    }
   ],
   "source": [
    "# system_log = json.loads(system_log).get('log')\n",
    "split_log = system_log.split(' mendoza v9: [SYSTEM] data = ')\n",
    "timestamp = split_log[0]\n",
    "dictionary_string = split_log[1][:-1]\n",
    "user_dictionary = json.loads(dictionary_string)\n",
    "user_dictionary"
   ]
  },
  {
   "cell_type": "code",
   "execution_count": 158,
   "metadata": {},
   "outputs": [
    {
     "data": {
      "text/plain": [
       "{'user_id': 4563,\n",
       " 'name': 'Ms Jodie Dale',\n",
       " 'gender': 'female',\n",
       " 'address': '74 Robert wall,Port James,B9S 4DS',\n",
       " 'date_of_birth': '1980-06-07',\n",
       " 'email_address': 'ms.jodie28@yahoo.com',\n",
       " 'height_cm': 163,\n",
       " 'weight_kg': 55,\n",
       " 'account_create_date': '2022-02-04',\n",
       " 'bike_serial': 'SN0000',\n",
       " 'original_source': 'offline'}"
      ]
     },
     "execution_count": 158,
     "metadata": {},
     "output_type": "execute_result"
    }
   ],
   "source": [
    "from datetime import datetime,date\n",
    "\n",
    "def convert_unix_to_date(unix_timestamp):\n",
    "    unix_timestamp /= 1000  #convert to seconds as unix timestamp is in milliseconds\n",
    "    converted_to_date = datetime.utcfromtimestamp(unix_timestamp) \n",
    "  \n",
    "    current_time = datetime.now()\n",
    "    if converted_to_date > current_time:\n",
    "        return 'N/A'\n",
    "\n",
    " \n",
    "    return converted_to_date.strftime('%Y-%m-%d')\n",
    "\n",
    "user_dictionary['account_create_date'] = convert_unix_to_date(user_dictionary['account_create_date'])\n",
    "user_dictionary['date_of_birth'] = convert_unix_to_date(user_dictionary['date_of_birth'])\n",
    "\n",
    "user_dictionary"
   ]
  },
  {
   "cell_type": "code",
   "execution_count": null,
   "metadata": {},
   "outputs": [],
   "source": []
  },
  {
   "cell_type": "markdown",
   "metadata": {},
   "source": [
    "### TODO: \n",
    "\n",
    "* Read kafka data into a dataframe (Pandas or PySpark?)\n",
    "* Write data into Snowflake"
   ]
  },
  {
   "cell_type": "code",
   "execution_count": null,
   "metadata": {},
   "outputs": [],
   "source": [
    "USER = os.environ.get('USER')\n",
    "ACCOUNT = os.environ.get('ACCOUNT')\n",
    "PASSWORD = os.environ.get('PASSWORD')\n",
    "WAREHOUSE= os.environ.get('WAREHOUSE')\n",
    "DATABASE= os.environ.get('DATABASE')\n",
    "SCHEMA= os.environ.get('SCHEMA')"
   ]
  },
  {
   "cell_type": "code",
   "execution_count": null,
   "metadata": {},
   "outputs": [],
   "source": [
    "conn = snowflake.connector.connect(\n",
    "    user=USER,\n",
    "    password=PASSWORD,\n",
    "    account=ACCOUNT,\n",
    "    warehouse=WAREHOUSE,\n",
    "    database=DATABASE,\n",
    "    schema='ZOOKEEPERS_BATCH_PRODUCTION'\n",
    ")\n",
    "cs = conn.cursor()\n",
    "\"\"\"Already created schema to use\"\"\""
   ]
  },
  {
   "cell_type": "code",
   "execution_count": null,
   "metadata": {},
   "outputs": [
    {
     "data": {
      "text/plain": [
       "[]"
      ]
     },
     "execution_count": 113,
     "metadata": {},
     "output_type": "execute_result"
    }
   ],
   "source": [
    "query = \"SHOW TABLES\"\n",
    "result = cs.execute(query)\n",
    "result.fetchmany(100)"
   ]
  }
 ],
 "metadata": {
  "kernelspec": {
   "display_name": "Python 3.9.13 64-bit",
   "language": "python",
   "name": "python3"
  },
  "language_info": {
   "codemirror_mode": {
    "name": "ipython",
    "version": 3
   },
   "file_extension": ".py",
   "mimetype": "text/x-python",
   "name": "python",
   "nbconvert_exporter": "python",
   "pygments_lexer": "ipython3",
   "version": "3.9.13"
  },
  "orig_nbformat": 4,
  "vscode": {
   "interpreter": {
    "hash": "b0fa6594d8f4cbf19f97940f81e996739fb7646882a419484c72d19e05852a7e"
   }
  }
 },
 "nbformat": 4,
 "nbformat_minor": 2
}
