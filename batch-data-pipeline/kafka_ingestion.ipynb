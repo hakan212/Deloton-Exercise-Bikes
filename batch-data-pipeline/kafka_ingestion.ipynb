{
 "cells": [
  {
   "cell_type": "markdown",
   "metadata": {},
   "source": [
    "## Kafka Ingestion\n",
    "\n",
    "### Required Imports + Subscribing to topic"
   ]
  },
  {
   "cell_type": "code",
   "execution_count": 187,
   "metadata": {},
   "outputs": [
    {
     "data": {
      "text/plain": [
       "'Kafka consumer ready and consumes messages'"
      ]
     },
     "execution_count": 187,
     "metadata": {},
     "output_type": "execute_result"
    }
   ],
   "source": [
    "from confluent_kafka import Consumer\n",
    "from datetime import datetime\n",
    "import uuid\n",
    "import os\n",
    "from dotenv import load_dotenv\n",
    "import snowflake.connector\n",
    "import os\n",
    "import json\n",
    "import re\n",
    "load_dotenv()\n",
    "\n",
    "KAFKA_SERVER = os.getenv('KAFKA_SERVER')\n",
    "KAFKA_USERNAME=os.getenv('KAFKA_USERNAME')\n",
    "KAFKA_PASSWORD=os.getenv('KAFKA_PASSWORD')\n",
    "KAFKA_TOPIC_NAME = os.getenv('KAFKA_TOPIC_NAME')\n",
    "\n",
    "values = []\n",
    "\n",
    "c = Consumer({\n",
    "    'bootstrap.servers': KAFKA_SERVER,\n",
    "    'group.id': f'deleton' +str(uuid.uuid1()),\n",
    "    'security.protocol': 'SASL_SSL',\n",
    "    'sasl.mechanisms': 'PLAIN',\n",
    "    'sasl.username': KAFKA_USERNAME,\n",
    "    'sasl.password': KAFKA_PASSWORD,\n",
    "    'session.timeout.ms': 6000,\n",
    "    'heartbeat.interval.ms': 1000,\n",
    "    'fetch.wait.max.ms': 6000,\n",
    "    'auto.offset.reset': 'latest',\n",
    "    'enable.auto.commit': 'false',\n",
    "    'max.poll.interval.ms': '86400000',\n",
    "    'topic.metadata.refresh.interval.ms': \"-1\",\n",
    "    \"client.id\": 'id-002-005',\n",
    "})\n",
    "\n",
    "c.subscribe([KAFKA_TOPIC_NAME])\n",
    "\"\"\"Kafka consumer ready and consumes messages\"\"\""
   ]
  },
  {
   "cell_type": "code",
   "execution_count": 188,
   "metadata": {},
   "outputs": [],
   "source": [
    "def extract_values_from_log(string):\n",
    "    regex=r'\\d+.?\\d+|\\d'\n",
    "    log_values = re.findall(regex,string)\n",
    "    return log_values"
   ]
  },
  {
   "cell_type": "markdown",
   "metadata": {},
   "source": [
    "### Testing Kafka Messages"
   ]
  },
  {
   "cell_type": "code",
   "execution_count": 207,
   "metadata": {},
   "outputs": [],
   "source": [
    "def wait_for_system_log():\n",
    "    while True:\n",
    "        kafka_message = c.poll(0.5)\n",
    "        if kafka_message is not None:\n",
    "            log = kafka_message.value().decode('utf-8')\n",
    "\n",
    "            if 'SYSTEM' in log:\n",
    "                return kafka_message"
   ]
  },
  {
   "cell_type": "code",
   "execution_count": 208,
   "metadata": {},
   "outputs": [
    {
     "name": "stderr",
     "output_type": "stream",
     "text": [
      "%4|1664968245.204|SESSTMOUT|id-002-005#consumer-2| [thrd:main]: Consumer group session timed out (in join-state steady) after 24571 ms without a successful response from the group coordinator (broker 6, last error was Success): revoking assignment and rejoining group\n"
     ]
    },
    {
     "name": "stdout",
     "output_type": "stream",
     "text": [
      "{'user_id': 4565, 'name': 'Mr Julian Webster', 'gender': 'male', 'address': 'Flat 25p,Walsh shores,Martinport,IG1 1UF', 'date_of_birth': -284601600000, 'email_address': 'mr_j@yahoo.com', 'height_cm': 165, 'weight_kg': 62, 'account_create_date': 1642032000000, 'bike_serial': 'SN0000', 'original_source': 'direct'}\n",
      "['1.0', '30']\n",
      "['0', '55', '16.09890976']\n",
      "['2.0', '30']\n",
      "['0', '57', '17.00983757']\n",
      "['3.0', '30']\n",
      "['0', '57', '17.00983757']\n",
      "['4.0', '30']\n",
      "['0', '57', '17.00983757']\n",
      "['5.0', '30']\n",
      "['0', '56', '16.55272673']\n",
      "['6.0', '30']\n",
      "['0', '53', '15.20140731']\n",
      "['7.0', '30']\n",
      "['0', '44', '11.34454484']\n",
      "['8.0', '30']\n",
      "['0', '53', '15.20140731']\n",
      "['9.0', '30']\n",
      "['0', '56', '16.55272673']\n",
      "['10.0', '30']\n",
      "['0', '51', '14.31786487']\n",
      "['11.0', '30']\n",
      "['0', '53', '15.20140731']\n",
      "['12.0', '30']\n",
      "['0', '56', '16.55272673']\n",
      "['13.0', '30']\n",
      "['0', '57', '17.00983757']\n",
      "['14.0', '30']\n",
      "['0', '56', '16.55272673']\n",
      "['15.0', '30']\n",
      "['83', '54', '15.64844827']\n",
      "['16.0', '30']\n",
      "['83', '52', '14.75785543']\n",
      "['17.0', '30']\n",
      "['83', '51', '14.31786487']\n",
      "['18.0', '30']\n",
      "['83', '52', '14.75785543']\n",
      "['19.0', '30']\n",
      "['83', '50', '13.88151165']\n",
      "['20.0', '30']\n",
      "['85', '49', '13.448875699999999']\n",
      "['21.0', '30']\n",
      "['85', '52', '14.75785543']\n",
      "['22.0', '30']\n",
      "['86', '50', '13.88151165']\n",
      "['23.0', '30']\n",
      "['87', '51', '14.31786487']\n",
      "['24.0', '30']\n",
      "['87', '51', '14.31786487']\n",
      "['25.0', '30']\n",
      "['87', '50', '13.88151165']\n",
      "['26.0', '30']\n",
      "['88', '48', '13.02004103']\n",
      "['27.0', '30']\n",
      "['88', '50', '13.88151165']\n",
      "['28.0', '30']\n",
      "['89', '50', '13.88151165']\n",
      "['29.0', '30']\n",
      "['89', '47', '12.59509583']\n",
      "['30.0', '30']\n",
      "['89', '35', '7.837601654']\n",
      "['31.0', '30']\n",
      "['89', '45', '11.75724842']\n",
      "['32.0', '30']\n",
      "['89', '50', '13.88151165']\n",
      "['33.0', '30']\n",
      "['89', '47', '12.59509583']\n",
      "['34.0', '30']\n",
      "['89', '50', '13.88151165']\n",
      "['35.0', '30']\n",
      "['89', '50', '13.88151165']\n",
      "['36.0', '30']\n",
      "['89', '48', '13.02004103']\n",
      "['37.0', '30']\n",
      "['89', '50', '13.88151165']\n",
      "['38.0', '30']\n",
      "['90', '49', '13.448875699999999']\n",
      "['39.0', '30']\n",
      "['90', '49', '13.448875699999999']\n",
      "['40.0', '30']\n",
      "['90', '49', '13.448875699999999']\n",
      "['41.0', '30']\n",
      "['92', '47', '12.59509583']\n",
      "['42.0', '30']\n",
      "['92', '46', '12.17413263']\n",
      "['43.0', '30']\n",
      "['92', '42', '10.532110099999999']\n",
      "['44.0', '30']\n",
      "['91', '46', '12.17413263']\n",
      "['45.0', '30']\n",
      "['91', '45', '11.75724842']\n",
      "['46.0', '30']\n",
      "['94', '47', '12.59509583']\n"
     ]
    },
    {
     "ename": "KeyboardInterrupt",
     "evalue": "",
     "output_type": "error",
     "traceback": [
      "\u001b[0;31m---------------------------------------------------------------------------\u001b[0m",
      "\u001b[0;31mKeyboardInterrupt\u001b[0m                         Traceback (most recent call last)",
      "\u001b[1;32m/Users/hakanbas/Documents/group-project/Deloton-Exercise-Bikes/batch-data-pipeline/kafka_ingestion.ipynb Cell 6\u001b[0m in \u001b[0;36m<cell line: 5>\u001b[0;34m()\u001b[0m\n\u001b[1;32m      <a href='vscode-notebook-cell:/Users/hakanbas/Documents/group-project/Deloton-Exercise-Bikes/batch-data-pipeline/kafka_ingestion.ipynb#W3sZmlsZQ%3D%3D?line=1'>2</a>\u001b[0m wait_for_first_user \u001b[39m=\u001b[39m \u001b[39mTrue\u001b[39;00m \u001b[39m#Wait for current user to finish, so can obtain all relevant information\u001b[39;00m\n\u001b[1;32m      <a href='vscode-notebook-cell:/Users/hakanbas/Documents/group-project/Deloton-Exercise-Bikes/batch-data-pipeline/kafka_ingestion.ipynb#W3sZmlsZQ%3D%3D?line=3'>4</a>\u001b[0m \u001b[39mwhile\u001b[39;00m \u001b[39mTrue\u001b[39;00m:\n\u001b[0;32m----> <a href='vscode-notebook-cell:/Users/hakanbas/Documents/group-project/Deloton-Exercise-Bikes/batch-data-pipeline/kafka_ingestion.ipynb#W3sZmlsZQ%3D%3D?line=4'>5</a>\u001b[0m     kafka_message \u001b[39m=\u001b[39m c\u001b[39m.\u001b[39;49mpoll(\u001b[39m0.5\u001b[39;49m)\n\u001b[1;32m      <a href='vscode-notebook-cell:/Users/hakanbas/Documents/group-project/Deloton-Exercise-Bikes/batch-data-pipeline/kafka_ingestion.ipynb#W3sZmlsZQ%3D%3D?line=6'>7</a>\u001b[0m     \u001b[39mif\u001b[39;00m wait_for_first_user:\n\u001b[1;32m      <a href='vscode-notebook-cell:/Users/hakanbas/Documents/group-project/Deloton-Exercise-Bikes/batch-data-pipeline/kafka_ingestion.ipynb#W3sZmlsZQ%3D%3D?line=7'>8</a>\u001b[0m         kafka_message \u001b[39m=\u001b[39m wait_for_system_log()\n",
      "\u001b[0;31mKeyboardInterrupt\u001b[0m: "
     ]
    }
   ],
   "source": [
    "i = 0\n",
    "wait_for_first_user = True #Wait for current user to finish, so can obtain all relevant information\n",
    "\n",
    "while True:\n",
    "    kafka_message = c.poll(0.5)\n",
    "\n",
    "    if wait_for_first_user:\n",
    "        kafka_message = wait_for_system_log()\n",
    "        wait_for_first_user = False\n",
    "\n",
    "\n",
    "    if kafka_message is not None: #exclude none values\n",
    "        log = kafka_message.value().decode('utf-8')\n",
    "\n",
    "        if 'SYSTEM' in log:\n",
    "            system_log = json.loads(log).get('log')\n",
    "            split_log = system_log.split(' mendoza v9: [SYSTEM] data = ')\n",
    "            timestamp = split_log[0]\n",
    "            dictionary_string = split_log[1][:-1]\n",
    "            user_dictionary = json.loads(dictionary_string)\n",
    "            print(user_dictionary)\n",
    "\n",
    "        if 'INFO' in log: #only check for strings with INFO\n",
    "            values = json.loads(log)\n",
    "            new_log = values.get('log')\n",
    "         \n",
    "\n",
    "            if 'Ride' in new_log: #process strings with Ride info\n",
    "                new_log = new_log.split(' mendoza v9: [INFO]: Ride - ')\n",
    "            \n",
    "                timestamp = new_log[0]\n",
    "               \n",
    "                log_values = extract_values_from_log(new_log[1])\n",
    "                duration=int(float(log_values[0]))\n",
    "                resistance=log_values[1]\n",
    "                print(log_values)\n",
    "\n",
    "            if 'Telemetry' in new_log:\n",
    "                new_log = new_log.split(' mendoza v9: [INFO]: Telemetry - ')\n",
    "               \n",
    "                timestamp = new_log[0]\n",
    "                log_values = extract_values_from_log(new_log[1])\n",
    "                heart_rate = log_values[0]\n",
    "                rpm = log_values[1]\n",
    "                power= round(float(log_values[2]),3)\n",
    "                print(log_values)\n",
    "        \n",
    "\n",
    "\n",
    "    i += 1"
   ]
  },
  {
   "cell_type": "code",
   "execution_count": 209,
   "metadata": {},
   "outputs": [
    {
     "data": {
      "text/plain": [
       "{'user_id': 4565,\n",
       " 'name': 'Mr Julian Webster',\n",
       " 'gender': 'male',\n",
       " 'address': 'Flat 25p,Walsh shores,Martinport,IG1 1UF',\n",
       " 'date_of_birth': -284601600000,\n",
       " 'email_address': 'mr_j@yahoo.com',\n",
       " 'height_cm': 165,\n",
       " 'weight_kg': 62,\n",
       " 'account_create_date': 1642032000000,\n",
       " 'bike_serial': 'SN0000',\n",
       " 'original_source': 'direct'}"
      ]
     },
     "execution_count": 209,
     "metadata": {},
     "output_type": "execute_result"
    }
   ],
   "source": [
    "# system_log = json.loads(system_log).get('log')\n",
    "split_log = system_log.split(' mendoza v9: [SYSTEM] data = ')\n",
    "timestamp = split_log[0]\n",
    "dictionary_string = split_log[1][:-1]\n",
    "user_dictionary = json.loads(dictionary_string)\n",
    "user_dictionary"
   ]
  },
  {
   "cell_type": "code",
   "execution_count": 210,
   "metadata": {},
   "outputs": [
    {
     "data": {
      "text/plain": [
       "{'user_id': 4565,\n",
       " 'name': 'Mr Julian Webster',\n",
       " 'gender': 'male',\n",
       " 'address': 'Flat 25p,Walsh shores,Martinport,IG1 1UF',\n",
       " 'date_of_birth': '1960-12-25',\n",
       " 'email_address': 'mr_j@yahoo.com',\n",
       " 'height_cm': 165,\n",
       " 'weight_kg': 62,\n",
       " 'account_create_date': '2022-01-13',\n",
       " 'bike_serial': 'SN0000',\n",
       " 'original_source': 'direct'}"
      ]
     },
     "execution_count": 210,
     "metadata": {},
     "output_type": "execute_result"
    }
   ],
   "source": [
    "def convert_unix_to_date(unix_timestamp):\n",
    "    unix_timestamp /= 1000  #convert to seconds as unix timestamp is in milliseconds\n",
    "    converted_to_date = datetime.utcfromtimestamp(unix_timestamp) \n",
    "  \n",
    "    current_time = datetime.now()\n",
    "    if converted_to_date > current_time:\n",
    "        return 'N/A'\n",
    "\n",
    "    return converted_to_date.strftime('%Y-%m-%d')\n",
    "\n",
    "user_dictionary['account_create_date'] = convert_unix_to_date(user_dictionary['account_create_date'])\n",
    "user_dictionary['date_of_birth'] = convert_unix_to_date(user_dictionary['date_of_birth'])\n",
    "\n",
    "user_dictionary"
   ]
  },
  {
   "cell_type": "code",
   "execution_count": 211,
   "metadata": {},
   "outputs": [
    {
     "data": {
      "text/plain": [
       "{'user_id': 4565,\n",
       " 'name': 'Mr Julian Webster',\n",
       " 'gender': 'male',\n",
       " 'address': 'Flat 25p,Walsh shores,Martinport,IG1 1UF',\n",
       " 'date_of_birth': '1960-12-25',\n",
       " 'email_address': 'mr_j@yahoo.com',\n",
       " 'height_cm': 165,\n",
       " 'weight_kg': 62,\n",
       " 'account_create_date': '2022-01-13',\n",
       " 'bike_serial': 'SN0000',\n",
       " 'original_source': 'direct',\n",
       " 'first_name': 'Julian',\n",
       " 'last_name': 'Webster'}"
      ]
     },
     "execution_count": 211,
     "metadata": {},
     "output_type": "execute_result"
    }
   ],
   "source": [
    "def split_full_name(name):\n",
    "    name_list = user_dictionary.get('name').split(' ')\n",
    "    titles = ['Mr','Mrs','Miss','Ms','Dr']\n",
    "\n",
    "    if name_list[0] in titles:\n",
    "        first_name = name_list[1]\n",
    "        try:\n",
    "            last_name = name_list[2]\n",
    "        except IndexError:\n",
    "            last_name = None\n",
    "\n",
    "    else:\n",
    "        first_name = name_list[0]\n",
    "        last_name = name_list[1]\n",
    "\n",
    "    return first_name,last_name\n",
    "\n",
    "first_name,last_name = split_full_name(user_dictionary['name'])\n",
    "\n",
    "user_dictionary['first_name'] = first_name\n",
    "user_dictionary['last_name'] = last_name\n",
    "user_dictionary"
   ]
  },
  {
   "cell_type": "code",
   "execution_count": 212,
   "metadata": {},
   "outputs": [
    {
     "data": {
      "text/plain": [
       "{'user_id': 4565,\n",
       " 'name': 'Mr Julian Webster',\n",
       " 'gender': 'Male',\n",
       " 'address': 'Flat 25p,Walsh shores,Martinport,IG1 1UF',\n",
       " 'date_of_birth': '1960-12-25',\n",
       " 'email_address': 'mr_j@yahoo.com',\n",
       " 'height_cm': 165,\n",
       " 'weight_kg': 62,\n",
       " 'account_create_date': '2022-01-13',\n",
       " 'bike_serial': 'SN0000',\n",
       " 'original_source': 'direct',\n",
       " 'first_name': 'Julian',\n",
       " 'last_name': 'Webster',\n",
       " 'house_number': 'Flat 25p',\n",
       " 'street_name': 'Walsh Shores',\n",
       " 'region': 'Martinport',\n",
       " 'postcode': 'IG1 1UF'}"
      ]
     },
     "execution_count": 212,
     "metadata": {},
     "output_type": "execute_result"
    }
   ],
   "source": [
    "def flatten_list(address_list):\n",
    "    flat_list = []\n",
    "\n",
    "    for element in address_list:\n",
    "        if type(element) is list:\n",
    "          \n",
    "            for item in element:\n",
    "                flat_list.append(item)\n",
    "        else:\n",
    "            flat_list.append(element)\n",
    "    return flat_list\n",
    "\n",
    "\n",
    "def split_address(address):\n",
    "    address_list = address.split(',')\n",
    "\n",
    "    if len(address_list) < 4:\n",
    "        address_list[0] = address_list[0].split(' ', 1) \n",
    "        address_list = flatten_list(address_list)\n",
    "\n",
    "    house_number = address_list[0]\n",
    "    street_name = address_list[1].title()\n",
    "    region = address_list[2].title()\n",
    "    postcode = address_list[3]\n",
    "\n",
    "    return house_number,street_name,region,postcode\n",
    "\n",
    "house_number,street_name,region,postcode = split_address(user_dictionary['address'])\n",
    "user_dictionary['house_number'] = house_number\n",
    "user_dictionary['street_name'] = street_name\n",
    "user_dictionary['region'] = region\n",
    "user_dictionary['postcode'] = postcode\n",
    "user_dictionary['gender'] = user_dictionary['gender'].title()\n",
    "user_dictionary\n",
    "\n",
    "    "
   ]
  },
  {
   "cell_type": "markdown",
   "metadata": {},
   "source": [
    "### TODO: \n",
    "\n",
    "* Read kafka data into a dataframe (Pandas or PySpark?)\n",
    "* Write data into Snowflake"
   ]
  },
  {
   "cell_type": "code",
   "execution_count": null,
   "metadata": {},
   "outputs": [],
   "source": [
    "USER = os.environ.get('USER')\n",
    "ACCOUNT = os.environ.get('ACCOUNT')\n",
    "PASSWORD = os.environ.get('PASSWORD')\n",
    "WAREHOUSE= os.environ.get('WAREHOUSE')\n",
    "DATABASE= os.environ.get('DATABASE')\n",
    "SCHEMA= os.environ.get('SCHEMA')"
   ]
  },
  {
   "cell_type": "code",
   "execution_count": null,
   "metadata": {},
   "outputs": [
    {
     "data": {
      "text/plain": [
       "'Already created schema to use'"
      ]
     },
     "execution_count": 184,
     "metadata": {},
     "output_type": "execute_result"
    }
   ],
   "source": [
    "conn = snowflake.connector.connect(\n",
    "    user=USER,\n",
    "    password=PASSWORD,\n",
    "    account=ACCOUNT,\n",
    "    warehouse=WAREHOUSE,\n",
    "    database=DATABASE,\n",
    "    schema='ZOOKEEPERS_BATCH_PRODUCTION'\n",
    ")\n",
    "cs = conn.cursor()\n",
    "\"\"\"Already created schema to use\"\"\""
   ]
  },
  {
   "cell_type": "code",
   "execution_count": null,
   "metadata": {},
   "outputs": [
    {
     "data": {
      "text/plain": [
       "[(datetime.datetime(2022, 10, 5, 2, 38, 0, 876000, tzinfo=<DstTzInfo 'America/Los_Angeles' PDT-1 day, 17:00:00 DST>),\n",
       "  'EZ_BROKERS',\n",
       "  'N',\n",
       "  'N',\n",
       "  'DELATON',\n",
       "  'SYSADMIN',\n",
       "  '',\n",
       "  '',\n",
       "  '1'),\n",
       " (datetime.datetime(2022, 10, 5, 3, 5, 26, 767000, tzinfo=<DstTzInfo 'America/Los_Angeles' PDT-1 day, 17:00:00 DST>),\n",
       "  'INFORMATION_SCHEMA',\n",
       "  'N',\n",
       "  'N',\n",
       "  'DELATON',\n",
       "  '',\n",
       "  'Views describing the contents of schemas in this database',\n",
       "  '',\n",
       "  '1'),\n",
       " (datetime.datetime(2022, 9, 29, 1, 9, 6, 401000, tzinfo=<DstTzInfo 'America/Los_Angeles' PDT-1 day, 17:00:00 DST>),\n",
       "  'PUBLIC',\n",
       "  'N',\n",
       "  'N',\n",
       "  'DELATON',\n",
       "  'SYSADMIN',\n",
       "  '',\n",
       "  '',\n",
       "  '1'),\n",
       " (datetime.datetime(2022, 10, 5, 2, 4, 16, 880000, tzinfo=<DstTzInfo 'America/Los_Angeles' PDT-1 day, 17:00:00 DST>),\n",
       "  'SNOW_STAGING_ZUCKERBERG',\n",
       "  'N',\n",
       "  'N',\n",
       "  'DELATON',\n",
       "  'SYSADMIN',\n",
       "  '',\n",
       "  '',\n",
       "  '1'),\n",
       " (datetime.datetime(2022, 9, 29, 1, 9, 44, 900000, tzinfo=<DstTzInfo 'America/Los_Angeles' PDT-1 day, 17:00:00 DST>),\n",
       "  'TEC_BIKE_PRODUCTION',\n",
       "  'N',\n",
       "  'N',\n",
       "  'DELATON',\n",
       "  'SYSADMIN',\n",
       "  '',\n",
       "  '',\n",
       "  '1'),\n",
       " (datetime.datetime(2022, 10, 4, 6, 15, 58, 74000, tzinfo=<DstTzInfo 'America/Los_Angeles' PDT-1 day, 17:00:00 DST>),\n",
       "  'TEC_BIKE_STAGING',\n",
       "  'N',\n",
       "  'N',\n",
       "  'DELATON',\n",
       "  'SYSADMIN',\n",
       "  '',\n",
       "  '',\n",
       "  '1'),\n",
       " (datetime.datetime(2022, 10, 4, 4, 39, 6, 77000, tzinfo=<DstTzInfo 'America/Los_Angeles' PDT-1 day, 17:00:00 DST>),\n",
       "  'YUSRA_STORIES_STAGING',\n",
       "  'N',\n",
       "  'N',\n",
       "  'DELATON',\n",
       "  'SYSADMIN',\n",
       "  '',\n",
       "  '',\n",
       "  '1'),\n",
       " (datetime.datetime(2022, 10, 4, 3, 4, 46, 918000, tzinfo=<DstTzInfo 'America/Los_Angeles' PDT-1 day, 17:00:00 DST>),\n",
       "  'ZOOKEEPERS_BATCH_PRODUCTION',\n",
       "  'N',\n",
       "  'Y',\n",
       "  'DELATON',\n",
       "  'SYSADMIN',\n",
       "  '',\n",
       "  '',\n",
       "  '1')]"
      ]
     },
     "execution_count": 186,
     "metadata": {},
     "output_type": "execute_result"
    }
   ],
   "source": [
    "query = \"SHOW SCHEMAS\"\n",
    "result = cs.execute(query)\n",
    "result.fetchmany(100)"
   ]
  }
 ],
 "metadata": {
  "kernelspec": {
   "display_name": "Python 3.9.13 64-bit",
   "language": "python",
   "name": "python3"
  },
  "language_info": {
   "codemirror_mode": {
    "name": "ipython",
    "version": 3
   },
   "file_extension": ".py",
   "mimetype": "text/x-python",
   "name": "python",
   "nbconvert_exporter": "python",
   "pygments_lexer": "ipython3",
   "version": "3.9.13"
  },
  "orig_nbformat": 4,
  "vscode": {
   "interpreter": {
    "hash": "b0fa6594d8f4cbf19f97940f81e996739fb7646882a419484c72d19e05852a7e"
   }
  }
 },
 "nbformat": 4,
 "nbformat_minor": 2
}
