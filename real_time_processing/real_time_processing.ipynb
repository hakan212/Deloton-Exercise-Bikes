{
 "cells": [
  {
   "cell_type": "code",
   "execution_count": 51,
   "metadata": {},
   "outputs": [],
   "source": [
    "from confluent_kafka import Consumer\n",
    "import uuid\n",
    "import os\n",
    "from dotenv import load_dotenv\n",
    "load_dotenv()\n",
    "import json\n",
    "import re"
   ]
  },
  {
   "cell_type": "code",
   "execution_count": 52,
   "metadata": {},
   "outputs": [],
   "source": [
    "KAFKA_SERVER = os.getenv('KAFKA_SERVER')\n",
    "KAFKA_USERNAME=os.getenv('KAFKA_USERNAME')\n",
    "KAFKA_PASSWORD=os.getenv('KAFKA_PASSWORD')\n",
    "KAFKA_TOPIC_NAME = os.getenv('KAFKA_TOPIC_NAME')"
   ]
  },
  {
   "cell_type": "code",
   "execution_count": 53,
   "metadata": {},
   "outputs": [],
   "source": [
    "c = Consumer({\n",
    "    'bootstrap.servers': KAFKA_SERVER,\n",
    "    'group.id': f'deleton' +str(uuid.uuid1()),\n",
    "    'security.protocol': 'SASL_SSL',\n",
    "    'sasl.mechanisms': 'PLAIN',\n",
    "    'sasl.username': KAFKA_USERNAME,\n",
    "    'sasl.password': KAFKA_PASSWORD,\n",
    "    'session.timeout.ms': 6000,\n",
    "    'heartbeat.interval.ms': 1000,\n",
    "    'fetch.wait.max.ms': 6000,\n",
    "    'auto.offset.reset': 'latest',\n",
    "    'enable.auto.commit': 'false',\n",
    "    'max.poll.interval.ms': '86400000',\n",
    "    'topic.metadata.refresh.interval.ms': \"-1\",\n",
    "    \"client.id\": 'id-002-005',\n",
    "})\n",
    "\n",
    "c.subscribe([KAFKA_TOPIC_NAME])"
   ]
  },
  {
   "cell_type": "code",
   "execution_count": 42,
   "metadata": {},
   "outputs": [
    {
     "name": "stdout",
     "output_type": "stream",
     "text": [
      "{\"log\": \"2022-10-04 10:32:39.344776 mendoza v9: [INFO]: Telemetry - hrt = 122; rpm = 28; power = 5.413223856\\n\"}\n",
      "{\"log\": \"2022-10-04 10:32:39.845460 mendoza v9: [INFO]: Ride - duration = 145.0; resistance = 30\\n\"}\n",
      "{\"log\": \"2022-10-04 10:32:40.346146 mendoza v9: [INFO]: Telemetry - hrt = 125; rpm = 31; power = 6.415485154\\n\"}\n",
      "{\"log\": \"2022-10-04 10:32:40.846831 mendoza v9: [INFO]: Ride - duration = 146.0; resistance = 30\\n\"}\n",
      "{\"log\": \"2022-10-04 10:32:41.347504 mendoza v9: [INFO]: Telemetry - hrt = 126; rpm = 38; power = 8.962429663\\n\"}\n",
      "{\"log\": \"2022-10-04 10:32:41.848176 mendoza v9: [INFO]: Ride - duration = 147.0; resistance = 30\\n\"}\n",
      "{\"log\": \"2022-10-04 10:32:42.348849 mendoza v9: [INFO]: Telemetry - hrt = 126; rpm = 37; power = 8.582257545\\n\"}\n"
     ]
    }
   ],
   "source": [
    "i = 0\n",
    "while i < 10:\n",
    "    kafka_message = c.poll(0.5)\n",
    "\n",
    "    if kafka_message is not None:\n",
    "\n",
    "        kafka_message_value = kafka_message.value().decode('utf-8')\n",
    "\n",
    "        kafka_message_json = json.loads(kafka_message_value)\n",
    "\n",
    "        print(kafka_message_value)\n",
    "\n",
    "    i += 1\n"
   ]
  },
  {
   "cell_type": "code",
   "execution_count": 50,
   "metadata": {},
   "outputs": [
    {
     "name": "stdout",
     "output_type": "stream",
     "text": [
      "2022-10-04 10:33:14.392128 mendoza v9: [INFO]: Telemetry - hrt = 134; rpm = 35; power = 7.837601654\n",
      "\n",
      "2022-10-04 10:33:14.892809 mendoza v9: [INFO]: Ride - duration = 180.0; resistance = 30\n",
      "\n",
      "2022-10-04 10:33:15.393146 mendoza v9: [INFO]: Telemetry - hrt = 132; rpm = 35; power = 7.837601654\n",
      "\n",
      "2022-10-04 10:33:15.893828 mendoza v9: [INFO]: Ride - duration = 181.0; resistance = 30\n",
      "\n",
      "2022-10-04 10:33:16.394471 mendoza v9: [INFO]: Telemetry - hrt = 132; rpm = 31; power = 6.415485154\n",
      "\n",
      "2022-10-04 10:33:16.895167 mendoza v9: [INFO]: Ride - duration = 182.0; resistance = 30\n",
      "\n",
      "2022-10-04 10:33:17.395958 mendoza v9: [INFO]: Telemetry - hrt = 133; rpm = 34; power = 7.473425372\n",
      "\n",
      "2022-10-04 10:33:17.896632 mendoza v9: [INFO]: Ride - duration = 183.0; resistance = 30\n",
      "\n",
      "2022-10-04 10:33:18.397269 mendoza v9: [INFO]: Telemetry - hrt = 132; rpm = 36; power = 8.207264682\n",
      "\n",
      "2022-10-04 10:33:18.897937 mendoza v9: [INFO]: Ride - duration = 184.0; resistance = 30\n",
      "\n"
     ]
    },
    {
     "name": "stderr",
     "output_type": "stream",
     "text": [
      "%4|1664880491.935|SESSTMOUT|id-002-005#consumer-10| [thrd:main]: Consumer group session timed out (in join-state steady) after 717285 ms without a successful response from the group coordinator (broker 9, last error was Success): revoking assignment and rejoining group\n",
      "%5|1664880492.044|REQTMOUT|id-002-005#consumer-10| [thrd:sasl_ssl://b13-pkc-l6wr6.europe-west2.gcp.confluent.cloud:9092/]: sasl_ssl://b13-pkc-l6wr6.europe-west2.gcp.confluent.cloud:9092/13: Timed out FetchRequest in flight (after 717396ms, timeout #0)\n",
      "%4|1664880492.052|REQTMOUT|id-002-005#consumer-10| [thrd:sasl_ssl://b13-pkc-l6wr6.europe-west2.gcp.confluent.cloud:9092/]: sasl_ssl://b13-pkc-l6wr6.europe-west2.gcp.confluent.cloud:9092/13: Timed out 1 in-flight, 0 retry-queued, 0 out-queue, 0 partially-sent requests\n",
      "%3|1664880492.069|FAIL|id-002-005#consumer-10| [thrd:sasl_ssl://b13-pkc-l6wr6.europe-west2.gcp.confluent.cloud:9092/]: sasl_ssl://b13-pkc-l6wr6.europe-west2.gcp.confluent.cloud:9092/13: 1 request(s) timed out: disconnect (after 905085ms in state UP)\n",
      "%5|1664880492.095|REQTMOUT|id-002-005#consumer-10| [thrd:GroupCoordinator]: GroupCoordinator/9: Timed out HeartbeatRequest in flight (after 716459ms, timeout #0)\n",
      "%4|1664880492.095|REQTMOUT|id-002-005#consumer-10| [thrd:GroupCoordinator]: GroupCoordinator/9: Timed out 1 in-flight, 0 retry-queued, 0 out-queue, 0 partially-sent requests\n",
      "%3|1664880492.095|FAIL|id-002-005#consumer-10| [thrd:GroupCoordinator]: GroupCoordinator: b9-pkc-l6wr6.europe-west2.gcp.confluent.cloud:9092: 1 request(s) timed out: disconnect (after 907468ms in state UP)\n",
      "%3|1664880492.589|FAIL|id-002-005#consumer-10| [thrd:GroupCoordinator]: GroupCoordinator: b9-pkc-l6wr6.europe-west2.gcp.confluent.cloud:9092: Failed to resolve 'b9-pkc-l6wr6.europe-west2.gcp.confluent.cloud:9092': nodename nor servname provided, or not known (after 494ms in state CONNECT)\n",
      "%3|1664880492.590|FAIL|id-002-005#consumer-10| [thrd:sasl_ssl://b13-pkc-l6wr6.europe-west2.gcp.confluent.cloud:9092/]: sasl_ssl://b13-pkc-l6wr6.europe-west2.gcp.confluent.cloud:9092/13: Failed to resolve 'b13-pkc-l6wr6.europe-west2.gcp.confluent.cloud:9092': nodename nor servname provided, or not known (after 517ms in state CONNECT)\n",
      "%3|1664880493.597|FAIL|id-002-005#consumer-10| [thrd:GroupCoordinator]: GroupCoordinator: b9-pkc-l6wr6.europe-west2.gcp.confluent.cloud:9092: Failed to resolve 'b9-pkc-l6wr6.europe-west2.gcp.confluent.cloud:9092': nodename nor servname provided, or not known (after 1ms in state CONNECT, 1 identical error(s) suppressed)\n",
      "%4|1664880503.350|FAIL|id-002-005#consumer-10| [thrd:sasl_ssl://pkc-l6wr6.europe-west2.gcp.confluent.cloud:9092/boot]: sasl_ssl://pkc-l6wr6.europe-west2.gcp.confluent.cloud:9092/bootstrap: Disconnected (after 919068ms in state UP)\n"
     ]
    }
   ],
   "source": [
    "i = 0\n",
    "while i < 10:\n",
    "    kafka_message = c.poll(0.5)\n",
    "\n",
    "    if kafka_message is not None:\n",
    "\n",
    "        kafka_message_value = kafka_message.value().decode('utf-8')\n",
    "\n",
    "        kafka_message_json = json.loads(kafka_message_value)\n",
    "\n",
    "        print(kafka_message_json['log'])\n",
    "\n",
    "    i += 1"
   ]
  },
  {
   "cell_type": "code",
   "execution_count": 61,
   "metadata": {},
   "outputs": [
    {
     "name": "stdout",
     "output_type": "stream",
     "text": [
      "{}\n",
      "{}\n",
      "{'timestamp': '2022-10-04 11:51:33.341183', 'duration': '236.0', 'resistance': '30'}\n",
      "{'timestamp': '2022-10-04 11:51:33.841860', 'duration': '236.0', 'resistance': '30', 'heart_rate': '116', 'rpm': '39', 'power': '9.347636596000001'}\n",
      "{'timestamp': '2022-10-04 11:51:34.342536', 'duration': '237.0', 'resistance': '30', 'heart_rate': '116', 'rpm': '39', 'power': '9.347636596000001'}\n",
      "{'timestamp': '2022-10-04 11:51:34.342536', 'duration': '237.0', 'resistance': '30', 'heart_rate': '116', 'rpm': '39', 'power': '9.347636596000001'}\n",
      "{'timestamp': '2022-10-04 11:51:34.843230', 'duration': '237.0', 'resistance': '30', 'heart_rate': '115', 'rpm': '38', 'power': '8.962429663'}\n",
      "{'timestamp': '2022-10-04 11:51:35.343912', 'duration': '238.0', 'resistance': '30', 'heart_rate': '115', 'rpm': '38', 'power': '8.962429663'}\n",
      "{'timestamp': '2022-10-04 11:51:35.343912', 'duration': '238.0', 'resistance': '30', 'heart_rate': '115', 'rpm': '38', 'power': '8.962429663'}\n",
      "{'timestamp': '2022-10-04 11:51:35.844606', 'duration': '238.0', 'resistance': '30', 'heart_rate': '114', 'rpm': '36', 'power': '8.207264682'}\n"
     ]
    }
   ],
   "source": [
    "i = 0\n",
    "current_data = {}\n",
    "\n",
    "def update_duration_and_resistance(current_data: dict, duration_and_resistance: list):\n",
    "## Will update current data given [duration, resistance]\n",
    "    duration = duration_and_resistance[0]\n",
    "    resistance = duration_and_resistance[1]\n",
    "\n",
    "    current_data['duration'] = duration\n",
    "    current_data['resistance'] = resistance\n",
    "\n",
    "def update_heart_rpm_and_power(current_data, heart_rpm_and_power):\n",
    "## Will update current data given [heart, rpm, power]\n",
    "    heart_rate = heart_rpm_and_power[0]\n",
    "    rpm = heart_rpm_and_power[1]\n",
    "    power = heart_rpm_and_power[2]\n",
    "\n",
    "    current_data['heart_rate'] = heart_rate\n",
    "    current_data['rpm'] = rpm\n",
    "    current_data['power'] = power\n",
    "\n",
    "while i < 10:\n",
    "    kafka_message = c.poll(0.5) #poll all messages that have occurred in last 0.5 seconds\n",
    "\n",
    "    if kafka_message is not None: #ensure we have a message\n",
    "        log = kafka_message.value().decode('utf-8')\n",
    "\n",
    "        if 'INFO' in log: #only check for strings with INFO\n",
    "            values = json.loads(log)\n",
    "            new_log = values.get('log')\n",
    "\n",
    "            if 'Ride' in new_log: #process strings with Ride info\n",
    "                new_log = new_log.split(' mendoza v9: [INFO]: Ride - ')\n",
    "                timestamp = new_log[0]\n",
    "                current_data['timestamp'] = timestamp\n",
    "\n",
    "                duration_and_resistance = re.findall(r'\\d+.?\\d+',new_log[1])\n",
    "                update_duration_and_resistance(current_data, duration_and_resistance)\n",
    "\n",
    "            \n",
    "            if 'Telemetry' in new_log:\n",
    "                new_log = new_log.split(' mendoza v9: [INFO]: Telemetry - ')\n",
    "                timestamp = new_log[0]\n",
    "                current_data['timestamp'] = timestamp\n",
    "\n",
    "                heart_rpm_and_power = re.findall(r'\\d+.?\\d+',new_log[1])\n",
    "                update_heart_rpm_and_power(current_data, heart_rpm_and_power)\n",
    "        \n",
    "        if 'SYSTEM' in log:\n",
    "            values = json.loads(log)\n",
    "            new_log = values.get('log')\n",
    "\n",
    "\n",
    "    print(current_data)\n",
    "    \n",
    "    i +=1"
   ]
  }
 ],
 "metadata": {
  "kernelspec": {
   "display_name": "Python 3.9.13 64-bit",
   "language": "python",
   "name": "python3"
  },
  "language_info": {
   "codemirror_mode": {
    "name": "ipython",
    "version": 3
   },
   "file_extension": ".py",
   "mimetype": "text/x-python",
   "name": "python",
   "nbconvert_exporter": "python",
   "pygments_lexer": "ipython3",
   "version": "3.9.13"
  },
  "orig_nbformat": 4,
  "vscode": {
   "interpreter": {
    "hash": "b0fa6594d8f4cbf19f97940f81e996739fb7646882a419484c72d19e05852a7e"
   }
  }
 },
 "nbformat": 4,
 "nbformat_minor": 2
}
