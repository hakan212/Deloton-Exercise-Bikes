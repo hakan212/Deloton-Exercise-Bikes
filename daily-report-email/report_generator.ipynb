{
 "cells": [
  {
   "cell_type": "code",
   "execution_count": 74,
   "metadata": {},
   "outputs": [],
   "source": [
    "from fpdf import FPDF\n",
    "from datetime import date\n",
    "\n",
    "WIDTH = 210\n",
    "HEIGHT = 297\n",
    "\n",
    "def create_cover_title(pdf):\n",
    "    \"\"\"\n",
    "    Creates a cover title\n",
    "    \"\"\"\n",
    "    pdf.set_font(\"Times\", \"\", 36)\n",
    "    pdf.ln(100)\n",
    "    pdf.write(5, \"Deloton Daily Report\")\n",
    "    pdf.ln(10)\n",
    "    pdf.set_font(\"Times\", \"\", 16)\n",
    "    pdf.write(4, f\"{date.today()}\")\n",
    "    pdf.ln(5)\n",
    "\n",
    "def create_page_title(pdf, text):\n",
    "    \"\"\"Creates a page title\"\"\"\n",
    "    pdf.set_font(\"Times\", \"\", 30)\n",
    "    pdf.ln(10)\n",
    "    pdf.write(5, f\"{text}\")\n",
    "\n",
    "\n",
    "def generate_report():\n",
    "    pdf = FPDF() #A4 by default\n",
    "    pdf.compress = False\n",
    "\n",
    "    # Cover Page\n",
    "    pdf.add_page()\n",
    "    pdf.set_font('Times', '', 20)  \n",
    "    pdf.image(\"./assests/images/deloton-logo.png\", 0, 0, WIDTH)\n",
    "    create_cover_title(pdf)\n",
    "\n",
    "\n",
    "    # Page 1 Analytics\n",
    "    pdf.add_page() \n",
    "    create_page_title(pdf, \"Ride Analytics\")\n",
    "\n",
    "\n",
    "\n",
    "    pdf.output('py3k.pdf', 'F')\n",
    "\n",
    "generate_report()"
   ]
  },
  {
   "cell_type": "code",
   "execution_count": null,
   "metadata": {},
   "outputs": [],
   "source": []
  }
 ],
 "metadata": {
  "kernelspec": {
   "display_name": "Python 3.9.13 64-bit",
   "language": "python",
   "name": "python3"
  },
  "language_info": {
   "codemirror_mode": {
    "name": "ipython",
    "version": 3
   },
   "file_extension": ".py",
   "mimetype": "text/x-python",
   "name": "python",
   "nbconvert_exporter": "python",
   "pygments_lexer": "ipython3",
   "version": "3.9.13"
  },
  "orig_nbformat": 4,
  "vscode": {
   "interpreter": {
    "hash": "b0fa6594d8f4cbf19f97940f81e996739fb7646882a419484c72d19e05852a7e"
   }
  }
 },
 "nbformat": 4,
 "nbformat_minor": 2
}
