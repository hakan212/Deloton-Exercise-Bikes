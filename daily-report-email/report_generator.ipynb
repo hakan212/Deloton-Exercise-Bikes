{
 "cells": [
  {
   "cell_type": "code",
   "execution_count": 1,
   "metadata": {},
   "outputs": [],
   "source": [
    "from reportlab.pdfgen import canvas\n",
    "from reportlab.pdfbase.ttfonts import TTFont\n",
    "from reportlab.pdfbase import pdfmetrics\n",
    "from reportlab.lib import colors\n",
    "\n",
    "# initializing variables with values\n",
    "fileName = 'sample.pdf'\n",
    "documentTitle = 'sample'\n",
    "title = 'Deloton Exercise Bikes Report'\n",
    "subTitle = 'DELOTON DAILY REPORT'\n",
    "textLines = [\n",
    "    'Test',\n",
    "]\n",
    "\n",
    "# creating a pdf object\n",
    "pdf = canvas.Canvas(fileName)\n",
    "  \n",
    "# setting the title of the document\n",
    "pdf.setTitle(documentTitle)\n",
    "\n",
    "# creating the subtitle by setting it's font, \n",
    "# colour and putting it on the canvas\n",
    "pdf.setFillColorRGB(0, 0, 255)\n",
    "pdf.setFont(\"Courier-Bold\", 24)\n",
    "pdf.drawCentredString(290, 720, subTitle)\n",
    "\n",
    "\n",
    "# drawing a line\n",
    "pdf.line(30, 710, 550, 710)\n",
    "  \n",
    "# creating a multiline text using\n",
    "# textline and for loop\n",
    "text = pdf.beginText(40, 680)\n",
    "text.setFont(\"Courier\", 18)\n",
    "text.setFillColor(colors.red)\n",
    "  \n",
    "for line in textLines:\n",
    "    text.textLine(line)\n",
    "      \n",
    "pdf.drawText(text)"
   ]
  },
  {
   "cell_type": "code",
   "execution_count": 6,
   "metadata": {},
   "outputs": [],
   "source": [
    "# saving the pdf\n",
    "pdf.save()"
   ]
  },
  {
   "cell_type": "code",
   "execution_count": null,
   "metadata": {},
   "outputs": [],
   "source": []
  }
 ],
 "metadata": {
  "kernelspec": {
   "display_name": "Python 3.9.13 ('.venv': venv)",
   "language": "python",
   "name": "python3"
  },
  "language_info": {
   "codemirror_mode": {
    "name": "ipython",
    "version": 3
   },
   "file_extension": ".py",
   "mimetype": "text/x-python",
   "name": "python",
   "nbconvert_exporter": "python",
   "pygments_lexer": "ipython3",
   "version": "3.9.13"
  },
  "orig_nbformat": 4,
  "vscode": {
   "interpreter": {
    "hash": "da85ee258cf3914edf966df08c02018321763d9772fd11cff2ea728b28f71b17"
   }
  }
 },
 "nbformat": 4,
 "nbformat_minor": 2
}
