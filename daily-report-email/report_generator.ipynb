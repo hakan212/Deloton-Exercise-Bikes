{
 "cells": [
  {
   "cell_type": "code",
   "execution_count": 108,
   "metadata": {},
   "outputs": [],
   "source": [
    "from fpdf import FPDF\n",
    "from datetime import date\n",
    "\n",
    "from visualisation_generator import *\n",
    "\n",
    "WIDTH = 210\n",
    "HEIGHT = 297\n",
    "DF = get_dataframe()\n",
    "\n",
    "\n",
    "def create_cover_title(pdf):\n",
    "    \"\"\"\n",
    "    Creates a cover title\n",
    "    \"\"\"\n",
    "    pdf.set_font(\"Times\", \"\", 36)\n",
    "    pdf.ln(75)\n",
    "    pdf.write(5, \"Deloton Daily Report\")\n",
    "    pdf.ln(10)\n",
    "    pdf.set_font(\"Times\", \"\", 20)\n",
    "    pdf.write(4, f\"{date.today()}\")\n",
    "    pdf.ln(5)\n",
    "\n",
    "\n",
    "def create_page_title(pdf, text):\n",
    "    \"\"\"Creates a page title\"\"\"\n",
    "    pdf.set_font(\"Times\", \"\", 24)\n",
    "    pdf.ln(15)\n",
    "    pdf.write(5, f\"{text}\")\n",
    "\n",
    "\n",
    "def generate_report():\n",
    "    pdf = FPDF() #A4 by default\n",
    "    pdf.compress = False\n",
    "\n",
    "    pdf.add_page()\n",
    "    pdf.image(\"./assets/images/deloton-logo.png\", 0, 0, WIDTH)\n",
    "    pdf.ln(5)\n",
    "\n",
    "    create_cover_title(pdf)\n",
    "    pdf.line(0,110, 210,110)\n",
    "\n",
    "    pdf.ln(5)\n",
    "    create_page_title(pdf, \"Ride Analytics\")\n",
    "\n",
    "    pdf.set_font('Times', '', 16)\n",
    "    pdf.ln(15)\n",
    "    pdf.write(5, f\"Average total power generated: {round(get_mean_total_power(DF)/1000)} MW\" )\n",
    "    pdf.ln(10)\n",
    "    pdf.write(5, f\"Average power generated per rider: {get_mean_power_output(DF)} W\")\n",
    "    pdf.ln(10)\n",
    "    pdf.write(5, f\"Average heart rate per rider: {round(get_mean_heart_rate(DF))} bpm\")\n",
    "   \n",
    "    pdf.image(\"./assets/temp/gender_fig.png\", 0, 185, w=95, h=100)\n",
    "    pdf.image(\"./assets/temp/age_fig.png\", 100, 185, w=115, h=100)\n",
    "\n",
    "    pdf.output('py3k.pdf', 'F')\n",
    "\n",
    "generate_report()"
   ]
  },
  {
   "cell_type": "code",
   "execution_count": null,
   "metadata": {},
   "outputs": [],
   "source": []
  }
 ],
 "metadata": {
  "kernelspec": {
   "display_name": "Python 3.9.13 ('.venv': venv)",
   "language": "python",
   "name": "python3"
  },
  "language_info": {
   "codemirror_mode": {
    "name": "ipython",
    "version": 3
   },
   "file_extension": ".py",
   "mimetype": "text/x-python",
   "name": "python",
   "nbconvert_exporter": "python",
   "pygments_lexer": "ipython3",
   "version": "3.9.13"
  },
  "orig_nbformat": 4,
  "vscode": {
   "interpreter": {
    "hash": "da85ee258cf3914edf966df08c02018321763d9772fd11cff2ea728b28f71b17"
   }
  }
 },
 "nbformat": 4,
 "nbformat_minor": 2
}
