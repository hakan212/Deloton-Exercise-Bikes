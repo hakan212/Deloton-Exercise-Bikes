{
 "cells": [
  {
   "cell_type": "code",
   "execution_count": 53,
   "metadata": {},
   "outputs": [],
   "source": [
    "from fpdf import FPDF\n",
    "from datetime import date\n",
    "\n",
    "WIDTH = 210\n",
    "HEIGHT = 297\n",
    "\n",
    "pdf = FPDF()\n",
    "\n",
    "\n",
    "def generate_report():\n",
    "    pdf.compress = False\n",
    "\n",
    "    pdf.add_page()\n",
    " \n",
    "    pdf.set_font('Times', '', 20)  \n",
    "    \n",
    "    pdf.image(\"./assests/images/deloton-logo.png\", x=130, y=5, w=75, h=25)\n",
    "\n",
    "    pdf.cell(40, 10, f'Deloton Daily Report: {date.today()}')\n",
    "\n",
    "\n",
    "\n",
    "    pdf.output('py3k.pdf', 'F')\n",
    "\n",
    "generate_report()"
   ]
  },
  {
   "cell_type": "code",
   "execution_count": null,
   "metadata": {},
   "outputs": [],
   "source": []
  }
 ],
 "metadata": {
  "kernelspec": {
   "display_name": "Python 3.9.13 ('.venv': venv)",
   "language": "python",
   "name": "python3"
  },
  "language_info": {
   "codemirror_mode": {
    "name": "ipython",
    "version": 3
   },
   "file_extension": ".py",
   "mimetype": "text/x-python",
   "name": "python",
   "nbconvert_exporter": "python",
   "pygments_lexer": "ipython3",
   "version": "3.9.13"
  },
  "orig_nbformat": 4,
  "vscode": {
   "interpreter": {
    "hash": "da85ee258cf3914edf966df08c02018321763d9772fd11cff2ea728b28f71b17"
   }
  }
 },
 "nbformat": 4,
 "nbformat_minor": 2
}
