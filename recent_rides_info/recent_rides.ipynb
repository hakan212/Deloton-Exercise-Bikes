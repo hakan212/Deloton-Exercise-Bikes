{
 "cells": [
  {
   "cell_type": "code",
   "execution_count": null,
   "metadata": {},
   "outputs": [],
   "source": [
    "# !pip3.9 install psycopg2-binary --force-reinstall --no-cache-dir"
   ]
  },
  {
   "cell_type": "code",
   "execution_count": 86,
   "metadata": {},
   "outputs": [],
   "source": [
    "import os\n",
    "from dotenv import load_dotenv\n",
    "from sqlalchemy import create_engine, inspect\n",
    "import pandas as pd\n",
    "from sqlalchemy.orm import sessionmaker\n",
    "\n",
    "load_dotenv()\n",
    "\n",
    "pd.set_option('plotting.backend', 'plotly')"
   ]
  },
  {
   "cell_type": "code",
   "execution_count": 56,
   "metadata": {},
   "outputs": [],
   "source": [
    "DB_HOST = os.getenv(\"DB_HOST\")\n",
    "DB_PORT = os.getenv(\"DB_PORT\")\n",
    "DB_USER = os.getenv(\"DB_USER\")\n",
    "DB_PASSWORD = os.getenv(\"DB_PASSWORD\")\n",
    "DB_NAME = os.getenv(\"DB_NAME\")\n",
    "MART_SCHEMA = os.getenv(\"MART_SCHEMA\")\n",
    "\n",
    "table_name = \"recent_rides\""
   ]
  },
  {
   "cell_type": "code",
   "execution_count": 57,
   "metadata": {},
   "outputs": [],
   "source": [
    "def get_engine_connection():\n",
    "    \"\"\"\n",
    "    Connects to postgreSQL DBMS on AWS Aurora\n",
    "    \"\"\"\n",
    "    conn_string = f\"postgresql+psycopg2://{DB_USER}:{DB_PASSWORD}@{DB_HOST}:{DB_PORT}/{DB_NAME}\"\n",
    "\n",
    "    return create_engine(conn_string)\n",
    "\n",
    "sql_engine = get_engine_connection()"
   ]
  },
  {
   "cell_type": "code",
   "execution_count": 59,
   "metadata": {},
   "outputs": [
    {
     "data": {
      "text/html": [
       "<div>\n",
       "<style scoped>\n",
       "    .dataframe tbody tr th:only-of-type {\n",
       "        vertical-align: middle;\n",
       "    }\n",
       "\n",
       "    .dataframe tbody tr th {\n",
       "        vertical-align: top;\n",
       "    }\n",
       "\n",
       "    .dataframe thead th {\n",
       "        text-align: right;\n",
       "    }\n",
       "</style>\n",
       "<table border=\"1\" class=\"dataframe\">\n",
       "  <thead>\n",
       "    <tr style=\"text-align: right;\">\n",
       "      <th></th>\n",
       "      <th>user_id</th>\n",
       "      <th>ride_id</th>\n",
       "      <th>gender</th>\n",
       "      <th>age</th>\n",
       "      <th>begin_timestamp</th>\n",
       "      <th>total_duration_sec</th>\n",
       "      <th>total_power</th>\n",
       "      <th>mean_power</th>\n",
       "      <th>mean_resistance</th>\n",
       "      <th>mean_rpm</th>\n",
       "      <th>mean_heart_rate</th>\n",
       "    </tr>\n",
       "  </thead>\n",
       "  <tbody>\n",
       "    <tr>\n",
       "      <th>0</th>\n",
       "      <td>4712</td>\n",
       "      <td>326</td>\n",
       "      <td>Female</td>\n",
       "      <td>39</td>\n",
       "      <td>2022-10-09 12:02:24</td>\n",
       "      <td>520</td>\n",
       "      <td>30744.786</td>\n",
       "      <td>59.124588</td>\n",
       "      <td>41.715385</td>\n",
       "      <td>48.467308</td>\n",
       "      <td>96.426923</td>\n",
       "    </tr>\n",
       "    <tr>\n",
       "      <th>1</th>\n",
       "      <td>4712</td>\n",
       "      <td>327</td>\n",
       "      <td>Female</td>\n",
       "      <td>39</td>\n",
       "      <td>2022-10-09 12:11:07</td>\n",
       "      <td>520</td>\n",
       "      <td>31344.308</td>\n",
       "      <td>60.277515</td>\n",
       "      <td>41.792308</td>\n",
       "      <td>48.944231</td>\n",
       "      <td>104.357692</td>\n",
       "    </tr>\n",
       "    <tr>\n",
       "      <th>2</th>\n",
       "      <td>4712</td>\n",
       "      <td>328</td>\n",
       "      <td>Female</td>\n",
       "      <td>39</td>\n",
       "      <td>2022-10-09 12:19:50</td>\n",
       "      <td>520</td>\n",
       "      <td>30837.680</td>\n",
       "      <td>59.303231</td>\n",
       "      <td>41.703846</td>\n",
       "      <td>48.340385</td>\n",
       "      <td>115.567308</td>\n",
       "    </tr>\n",
       "    <tr>\n",
       "      <th>3</th>\n",
       "      <td>4712</td>\n",
       "      <td>329</td>\n",
       "      <td>Female</td>\n",
       "      <td>39</td>\n",
       "      <td>2022-10-09 12:28:32</td>\n",
       "      <td>520</td>\n",
       "      <td>33598.375</td>\n",
       "      <td>64.612260</td>\n",
       "      <td>41.800000</td>\n",
       "      <td>46.590385</td>\n",
       "      <td>102.544231</td>\n",
       "    </tr>\n",
       "    <tr>\n",
       "      <th>4</th>\n",
       "      <td>4712</td>\n",
       "      <td>330</td>\n",
       "      <td>Female</td>\n",
       "      <td>39</td>\n",
       "      <td>2022-10-09 12:37:15</td>\n",
       "      <td>520</td>\n",
       "      <td>29865.103</td>\n",
       "      <td>57.432890</td>\n",
       "      <td>41.707692</td>\n",
       "      <td>50.200000</td>\n",
       "      <td>102.675000</td>\n",
       "    </tr>\n",
       "    <tr>\n",
       "      <th>...</th>\n",
       "      <td>...</td>\n",
       "      <td>...</td>\n",
       "      <td>...</td>\n",
       "      <td>...</td>\n",
       "      <td>...</td>\n",
       "      <td>...</td>\n",
       "      <td>...</td>\n",
       "      <td>...</td>\n",
       "      <td>...</td>\n",
       "      <td>...</td>\n",
       "      <td>...</td>\n",
       "    </tr>\n",
       "    <tr>\n",
       "      <th>162</th>\n",
       "      <td>4752</td>\n",
       "      <td>488</td>\n",
       "      <td>Male</td>\n",
       "      <td>56</td>\n",
       "      <td>2022-10-10 10:52:26</td>\n",
       "      <td>520</td>\n",
       "      <td>28026.251</td>\n",
       "      <td>53.896637</td>\n",
       "      <td>41.307692</td>\n",
       "      <td>49.386538</td>\n",
       "      <td>93.405769</td>\n",
       "    </tr>\n",
       "    <tr>\n",
       "      <th>163</th>\n",
       "      <td>4752</td>\n",
       "      <td>489</td>\n",
       "      <td>Male</td>\n",
       "      <td>56</td>\n",
       "      <td>2022-10-10 11:01:09</td>\n",
       "      <td>520</td>\n",
       "      <td>23043.511</td>\n",
       "      <td>44.314444</td>\n",
       "      <td>41.323077</td>\n",
       "      <td>44.003846</td>\n",
       "      <td>134.826923</td>\n",
       "    </tr>\n",
       "    <tr>\n",
       "      <th>164</th>\n",
       "      <td>4752</td>\n",
       "      <td>490</td>\n",
       "      <td>Male</td>\n",
       "      <td>56</td>\n",
       "      <td>2022-10-10 11:09:52</td>\n",
       "      <td>520</td>\n",
       "      <td>29225.691</td>\n",
       "      <td>56.203252</td>\n",
       "      <td>41.300000</td>\n",
       "      <td>49.773077</td>\n",
       "      <td>108.692308</td>\n",
       "    </tr>\n",
       "    <tr>\n",
       "      <th>165</th>\n",
       "      <td>4752</td>\n",
       "      <td>491</td>\n",
       "      <td>Male</td>\n",
       "      <td>56</td>\n",
       "      <td>2022-10-10 11:18:35</td>\n",
       "      <td>520</td>\n",
       "      <td>34190.982</td>\n",
       "      <td>65.751888</td>\n",
       "      <td>41.392308</td>\n",
       "      <td>53.228846</td>\n",
       "      <td>121.384615</td>\n",
       "    </tr>\n",
       "    <tr>\n",
       "      <th>166</th>\n",
       "      <td>4752</td>\n",
       "      <td>492</td>\n",
       "      <td>Male</td>\n",
       "      <td>56</td>\n",
       "      <td>2022-10-10 11:27:17</td>\n",
       "      <td>464</td>\n",
       "      <td>28293.572</td>\n",
       "      <td>60.977526</td>\n",
       "      <td>42.672414</td>\n",
       "      <td>49.784483</td>\n",
       "      <td>104.215517</td>\n",
       "    </tr>\n",
       "  </tbody>\n",
       "</table>\n",
       "<p>167 rows × 11 columns</p>\n",
       "</div>"
      ],
      "text/plain": [
       "     user_id  ride_id  gender  age     begin_timestamp  total_duration_sec  \\\n",
       "0       4712      326  Female   39 2022-10-09 12:02:24                 520   \n",
       "1       4712      327  Female   39 2022-10-09 12:11:07                 520   \n",
       "2       4712      328  Female   39 2022-10-09 12:19:50                 520   \n",
       "3       4712      329  Female   39 2022-10-09 12:28:32                 520   \n",
       "4       4712      330  Female   39 2022-10-09 12:37:15                 520   \n",
       "..       ...      ...     ...  ...                 ...                 ...   \n",
       "162     4752      488    Male   56 2022-10-10 10:52:26                 520   \n",
       "163     4752      489    Male   56 2022-10-10 11:01:09                 520   \n",
       "164     4752      490    Male   56 2022-10-10 11:09:52                 520   \n",
       "165     4752      491    Male   56 2022-10-10 11:18:35                 520   \n",
       "166     4752      492    Male   56 2022-10-10 11:27:17                 464   \n",
       "\n",
       "     total_power  mean_power  mean_resistance   mean_rpm  mean_heart_rate  \n",
       "0      30744.786   59.124588        41.715385  48.467308        96.426923  \n",
       "1      31344.308   60.277515        41.792308  48.944231       104.357692  \n",
       "2      30837.680   59.303231        41.703846  48.340385       115.567308  \n",
       "3      33598.375   64.612260        41.800000  46.590385       102.544231  \n",
       "4      29865.103   57.432890        41.707692  50.200000       102.675000  \n",
       "..           ...         ...              ...        ...              ...  \n",
       "162    28026.251   53.896637        41.307692  49.386538        93.405769  \n",
       "163    23043.511   44.314444        41.323077  44.003846       134.826923  \n",
       "164    29225.691   56.203252        41.300000  49.773077       108.692308  \n",
       "165    34190.982   65.751888        41.392308  53.228846       121.384615  \n",
       "166    28293.572   60.977526        42.672414  49.784483       104.215517  \n",
       "\n",
       "[167 rows x 11 columns]"
      ]
     },
     "execution_count": 59,
     "metadata": {},
     "output_type": "execute_result"
    }
   ],
   "source": [
    "recent_rides_data = pd.read_sql_table(table_name, con=sql_engine, schema=MART_SCHEMA)\n",
    "recent_rides_data"
   ]
  },
  {
   "cell_type": "markdown",
   "metadata": {},
   "source": [
    "Share of rides across genders (in terms of ride number)"
   ]
  },
  {
   "cell_type": "code",
   "execution_count": 84,
   "metadata": {},
   "outputs": [
    {
     "data": {
      "text/plain": [
       "<AxesSubplot:title={'center':'Number of Rides By Gender'}, ylabel='user_id'>"
      ]
     },
     "execution_count": 84,
     "metadata": {},
     "output_type": "execute_result"
    },
    {
     "data": {
      "image/png": "[encoded data removed]",
      "text/plain": [
       "<Figure size 432x288 with 1 Axes>"
      ]
     },
     "metadata": {},
     "output_type": "display_data"
    }
   ],
   "source": [
    "gender_count = recent_rides_data.groupby([\"gender\"]).count()[\"user_id\"]\n",
    "\n",
    "gender_count.plot(\n",
    "    kind=\"pie\",\n",
    "    title=\"Number of Rides By Gender\"\n",
    ")"
   ]
  },
  {
   "cell_type": "markdown",
   "metadata": {},
   "source": [
    "Share of rides across genders (in terms of total duration)"
   ]
  },
  {
   "cell_type": "code",
   "execution_count": 85,
   "metadata": {},
   "outputs": [
    {
     "data": {
      "text/plain": [
       "<AxesSubplot:title={'center':'Total Ride Duration By Gender'}, ylabel='total_duration_sec'>"
      ]
     },
     "execution_count": 85,
     "metadata": {},
     "output_type": "execute_result"
    },
    {
     "data": {
      "image/png": "[encoded data removed]",
      "text/plain": [
       "<Figure size 432x288 with 1 Axes>"
      ]
     },
     "metadata": {},
     "output_type": "display_data"
    }
   ],
   "source": [
    "gender_duration = recent_rides_data.groupby([\"gender\"]).sum()[\"total_duration_sec\"]\n",
    "\n",
    "gender_duration.plot(\n",
    "    kind=\"pie\",\n",
    "    title=\"Total Ride Duration By Gender\"\n",
    ")\n"
   ]
  },
  {
   "cell_type": "markdown",
   "metadata": {},
   "source": [
    "Share of rides across age buckets"
   ]
  },
  {
   "cell_type": "code",
   "execution_count": 74,
   "metadata": {},
   "outputs": [
    {
     "data": {
      "text/plain": [
       "(17.999, 30.0]    18\n",
       "(30.0, 40.0]      20\n",
       "(40.0, 50.0]      21\n",
       "(50.0, 60.0]      36\n",
       "(60.0, 70.0]      39\n",
       "(70.0, 80.0]      33\n",
       "(80.0, 90.0]       0\n",
       "Name: age, dtype: int64"
      ]
     },
     "execution_count": 74,
     "metadata": {},
     "output_type": "execute_result"
    }
   ],
   "source": [
    "recent_rides_data[\"age\"].value_counts(bins=[18,30,40,50,60,70,80,90]).sort_index()"
   ]
  },
  {
   "cell_type": "markdown",
   "metadata": {},
   "source": [
    "Cumulative total power output over last 12 hours"
   ]
  },
  {
   "cell_type": "code",
   "execution_count": 79,
   "metadata": {},
   "outputs": [
    {
     "data": {
      "text/plain": [
       "4079497.642000006"
      ]
     },
     "execution_count": 79,
     "metadata": {},
     "output_type": "execute_result"
    }
   ],
   "source": [
    "recent_rides_data[\"total_power\"].sum()"
   ]
  },
  {
   "cell_type": "markdown",
   "metadata": {},
   "source": [
    "Cumulative average power output over last 12 hours"
   ]
  },
  {
   "cell_type": "code",
   "execution_count": 81,
   "metadata": {},
   "outputs": [
    {
     "data": {
      "text/plain": [
       "48.66292060156703"
      ]
     },
     "execution_count": 81,
     "metadata": {},
     "output_type": "execute_result"
    }
   ],
   "source": [
    "recent_rides_data[\"mean_power\"].mean()"
   ]
  }
 ],
 "metadata": {
  "kernelspec": {
   "display_name": "Python 3.9.13 64-bit",
   "language": "python",
   "name": "python3"
  },
  "language_info": {
   "codemirror_mode": {
    "name": "ipython",
    "version": 3
   },
   "file_extension": ".py",
   "mimetype": "text/x-python",
   "name": "python",
   "nbconvert_exporter": "python",
   "pygments_lexer": "ipython3",
   "version": "3.9.13"
  },
  "orig_nbformat": 4,
  "vscode": {
   "interpreter": {
    "hash": "b0fa6594d8f4cbf19f97940f81e996739fb7646882a419484c72d19e05852a7e"
   }
  }
 },
 "nbformat": 4,
 "nbformat_minor": 2
}
