{
 "cells": [
  {
   "cell_type": "markdown",
   "metadata": {},
   "source": [
    "## Kafka Ingestion\n",
    "\n",
    "### Required Imports + Subscribing to topic"
   ]
  },
  {
   "cell_type": "code",
   "execution_count": 1,
   "metadata": {},
   "outputs": [],
   "source": [
    "from confluent_kafka import Consumer\n",
    "import uuid\n",
    "import os\n",
    "from dotenv import load_dotenv\n",
    "load_dotenv()\n",
    "\n",
    "KAFKA_SERVER = os.getenv('KAFKA_SERVER')\n",
    "KAFKA_USERNAME=os.getenv('KAFKA_USERNAME')\n",
    "KAFKA_PASSWORD=os.getenv('KAFKA_PASSWORD')\n",
    "KAFKA_TOPIC_NAME = os.getenv('KAFKA_TOPIC_NAME')\n",
    "\n",
    "values = []\n",
    "\n",
    "# Consumer with `confluent_kafka`\n",
    "c = Consumer({\n",
    "    'bootstrap.servers': KAFKA_SERVER,\n",
    "    'group.id': f'deleton' +str(uuid.uuid1()),\n",
    "    'security.protocol': 'SASL_SSL',\n",
    "    'sasl.mechanisms': 'PLAIN',\n",
    "    'sasl.username': KAFKA_USERNAME,\n",
    "    'sasl.password': KAFKA_PASSWORD,\n",
    "    'session.timeout.ms': 6000,\n",
    "    'heartbeat.interval.ms': 1000,\n",
    "    'fetch.wait.max.ms': 6000,\n",
    "    'auto.offset.reset': 'latest',\n",
    "    'enable.auto.commit': 'false',\n",
    "    'max.poll.interval.ms': '86400000',\n",
    "    'topic.metadata.refresh.interval.ms': \"-1\",\n",
    "    \"client.id\": 'id-002-005',\n",
    "})\n",
    "\n",
    "c.subscribe([KAFKA_TOPIC_NAME])\n"
   ]
  },
  {
   "cell_type": "markdown",
   "metadata": {},
   "source": [
    "### Testing Kafka Messages"
   ]
  },
  {
   "cell_type": "code",
   "execution_count": 2,
   "metadata": {},
   "outputs": [
    {
     "name": "stdout",
     "output_type": "stream",
     "text": [
      "<cimpl.Message object at 0x11034b240>\n",
      "{\"log\": \"2022-10-04 09:28:25.540205 mendoza v9: [INFO]: Ride - duration = 465.0; resistance = 30\\n\"}\n",
      "<cimpl.Message object at 0x11034b2c0>\n",
      "{\"log\": \"2022-10-04 09:28:26.040953 mendoza v9: [INFO]: Telemetry - hrt = 92; rpm = 36; power = 8.207264682\\n\"}\n",
      "<cimpl.Message object at 0x11034b240>\n",
      "{\"log\": \"2022-10-04 09:28:26.541620 mendoza v9: [INFO]: Ride - duration = 466.0; resistance = 30\\n\"}\n",
      "<cimpl.Message object at 0x11034b240>\n",
      "{\"log\": \"2022-10-04 09:28:27.042293 mendoza v9: [INFO]: Telemetry - hrt = 92; rpm = 36; power = 8.207264682\\n\"}\n",
      "<cimpl.Message object at 0x11034b2c0>\n",
      "{\"log\": \"2022-10-04 09:28:27.543028 mendoza v9: [INFO]: Ride - duration = 467.0; resistance = 30\\n\"}\n",
      "<cimpl.Message object at 0x11034b2c0>\n",
      "{\"log\": \"2022-10-04 09:28:28.043704 mendoza v9: [INFO]: Telemetry - hrt = 92; rpm = 36; power = 8.207264682\\n\"}\n",
      "<cimpl.Message object at 0x11034b240>\n",
      "{\"log\": \"2022-10-04 09:28:28.544370 mendoza v9: [INFO]: Ride - duration = 468.0; resistance = 30\\n\"}\n",
      "<cimpl.Message object at 0x11034b240>\n",
      "{\"log\": \"2022-10-04 09:28:29.045050 mendoza v9: [INFO]: Telemetry - hrt = 92; rpm = 35; power = 7.837601654\\n\"}\n",
      "<cimpl.Message object at 0x11034b2c0>\n",
      "{\"log\": \"2022-10-04 09:28:29.545805 mendoza v9: [INFO]: Ride - duration = 469.0; resistance = 30\\n\"}\n",
      "<cimpl.Message object at 0x11034b2c0>\n",
      "{\"log\": \"2022-10-04 09:28:30.046475 mendoza v9: [INFO]: Telemetry - hrt = 92; rpm = 35; power = 7.837601654\\n\"}\n",
      "<cimpl.Message object at 0x11034b240>\n",
      "{\"log\": \"2022-10-04 09:28:30.547156 mendoza v9: [INFO]: Ride - duration = 470.0; resistance = 30\\n\"}\n",
      "<cimpl.Message object at 0x11034b2c0>\n",
      "{\"log\": \"2022-10-04 09:28:31.047837 mendoza v9: [INFO]: Telemetry - hrt = 92; rpm = 35; power = 7.837601654\\n\"}\n",
      "<cimpl.Message object at 0x11034b2c0>\n",
      "{\"log\": \"2022-10-04 09:28:31.548514 mendoza v9: [INFO]: Ride - duration = 471.0; resistance = 30\\n\"}\n",
      "<cimpl.Message object at 0x11034b240>\n",
      "{\"log\": \"2022-10-04 09:28:32.049225 mendoza v9: [INFO]: Telemetry - hrt = 92; rpm = 35; power = 7.837601654\\n\"}\n",
      "<cimpl.Message object at 0x11034b240>\n",
      "{\"log\": \"2022-10-04 09:28:32.550021 mendoza v9: [INFO]: Ride - duration = 472.0; resistance = 30\\n\"}\n",
      "<cimpl.Message object at 0x11034b240>\n",
      "{\"log\": \"2022-10-04 09:28:33.050689 mendoza v9: [INFO]: Telemetry - hrt = 92; rpm = 36; power = 8.207264682\\n\"}\n",
      "<cimpl.Message object at 0x11034b240>\n",
      "{\"log\": \"2022-10-04 09:28:33.551359 mendoza v9: [INFO]: Ride - duration = 473.0; resistance = 30\\n\"}\n",
      "<cimpl.Message object at 0x11034b2c0>\n",
      "{\"log\": \"2022-10-04 09:28:34.052063 mendoza v9: [INFO]: Telemetry - hrt = 92; rpm = 35; power = 7.837601654\\n\"}\n",
      "<cimpl.Message object at 0x11034b240>\n",
      "{\"log\": \"2022-10-04 09:28:34.552820 mendoza v9: [INFO]: Ride - duration = 474.0; resistance = 30\\n\"}\n",
      "<cimpl.Message object at 0x11034b2c0>\n",
      "{\"log\": \"2022-10-04 09:28:35.053498 mendoza v9: [INFO]: Telemetry - hrt = 92; rpm = 36; power = 8.207264682\\n\"}\n",
      "<cimpl.Message object at 0x11034b2c0>\n",
      "{\"log\": \"2022-10-04 09:28:35.554175 mendoza v9: [INFO]: Ride - duration = 475.0; resistance = 30\\n\"}\n",
      "<cimpl.Message object at 0x11034b2c0>\n",
      "{\"log\": \"2022-10-04 09:28:36.054842 mendoza v9: [INFO]: Telemetry - hrt = 92; rpm = 34; power = 7.473425372\\n\"}\n",
      "<cimpl.Message object at 0x11034b240>\n",
      "{\"log\": \"2022-10-04 09:28:36.555510 mendoza v9: [INFO]: Ride - duration = 476.0; resistance = 30\\n\"}\n",
      "<cimpl.Message object at 0x11034b240>\n",
      "{\"log\": \"2022-10-04 09:28:37.056158 mendoza v9: [INFO]: Telemetry - hrt = 92; rpm = 36; power = 8.207264682\\n\"}\n",
      "<cimpl.Message object at 0x11034b2c0>\n",
      "{\"log\": \"2022-10-04 09:28:37.556856 mendoza v9: [INFO]: Ride - duration = 477.0; resistance = 30\\n\"}\n",
      "<cimpl.Message object at 0x11034b240>\n",
      "{\"log\": \"2022-10-04 09:28:38.057537 mendoza v9: [INFO]: Telemetry - hrt = 91; rpm = 35; power = 7.837601654\\n\"}\n",
      "<cimpl.Message object at 0x11034b2c0>\n",
      "{\"log\": \"2022-10-04 09:28:38.558208 mendoza v9: [INFO]: Ride - duration = 478.0; resistance = 30\\n\"}\n",
      "<cimpl.Message object at 0x11034b240>\n",
      "{\"log\": \"2022-10-04 09:28:39.058872 mendoza v9: [INFO]: Telemetry - hrt = 91; rpm = 37; power = 8.582257545\\n\"}\n",
      "<cimpl.Message object at 0x11034b2c0>\n",
      "{\"log\": \"2022-10-04 09:28:39.559543 mendoza v9: [INFO]: Ride - duration = 479.0; resistance = 30\\n\"}\n",
      "<cimpl.Message object at 0x11034b240>\n",
      "{\"log\": \"2022-10-04 09:28:40.060214 mendoza v9: [INFO]: Telemetry - hrt = 91; rpm = 35; power = 7.837601654\\n\"}\n",
      "<cimpl.Message object at 0x11034b2c0>\n",
      "{\"log\": \"2022-10-04 09:28:40.560953 mendoza v9: [INFO]: Ride - duration = 480.0; resistance = 30\\n\"}\n",
      "<cimpl.Message object at 0x11034b2c0>\n",
      "{\"log\": \"2022-10-04 09:28:41.061621 mendoza v9: [INFO]: Telemetry - hrt = 91; rpm = 36; power = 8.207264682\\n\"}\n",
      "<cimpl.Message object at 0x11034b240>\n",
      "{\"log\": \"2022-10-04 09:28:41.562297 mendoza v9: [INFO]: Ride - duration = 481.0; resistance = 30\\n\"}\n",
      "<cimpl.Message object at 0x11034b240>\n",
      "{\"log\": \"2022-10-04 09:28:42.063030 mendoza v9: [INFO]: Telemetry - hrt = 90; rpm = 34; power = 7.473425372\\n\"}\n"
     ]
    },
    {
     "name": "stderr",
     "output_type": "stream",
     "text": [
      "%4|1664875773.592|SESSTMOUT|id-002-005#consumer-1| [thrd:main]: Consumer group session timed out (in join-state steady) after 6229 ms without a successful response from the group coordinator (broker 5, last error was Success): revoking assignment and rejoining group\n",
      "%5|1664875774.208|REQTMOUT|id-002-005#consumer-1| [thrd:GroupCoordinator]: GroupCoordinator/5: Timed out HeartbeatRequest in flight (after 6005ms, timeout #0)\n",
      "%4|1664875774.208|REQTMOUT|id-002-005#consumer-1| [thrd:GroupCoordinator]: GroupCoordinator/5: Timed out 1 in-flight, 0 retry-queued, 0 out-queue, 0 partially-sent requests\n",
      "%3|1664875774.215|FAIL|id-002-005#consumer-1| [thrd:GroupCoordinator]: GroupCoordinator: b5-pkc-l6wr6.europe-west2.gcp.confluent.cloud:9092: 1 request(s) timed out: disconnect (after 71858ms in state UP)\n"
     ]
    }
   ],
   "source": [
    "i = 0\n",
    "while i < 50:\n",
    "    kafka_message = c.poll(0.5)\n",
    "\n",
    "    if kafka_message is not None:\n",
    "        print(kafka_message)\n",
    "\n",
    "        kafka_message_value = kafka_message.value().decode('utf-8')\n",
    "\n",
    "        print(kafka_message_value)\n",
    "\n",
    "    i += 1"
   ]
  },
  {
   "cell_type": "markdown",
   "metadata": {},
   "source": [
    "### TODO: \n",
    "\n",
    "* Read kafka data into a dataframe (Pandas or PySpark?)\n",
    "* Write data into Snowflake"
   ]
  },
  {
   "cell_type": "markdown",
   "metadata": {},
   "source": []
  }
 ],
 "metadata": {
  "kernelspec": {
   "display_name": "Python 3.9.13 64-bit",
   "language": "python",
   "name": "python3"
  },
  "language_info": {
   "codemirror_mode": {
    "name": "ipython",
    "version": 3
   },
   "file_extension": ".py",
   "mimetype": "text/x-python",
   "name": "python",
   "nbconvert_exporter": "python",
   "pygments_lexer": "ipython3",
   "version": "3.9.13"
  },
  "orig_nbformat": 4,
  "vscode": {
   "interpreter": {
    "hash": "b0fa6594d8f4cbf19f97940f81e996739fb7646882a419484c72d19e05852a7e"
   }
  }
 },
 "nbformat": 4,
 "nbformat_minor": 2
}
