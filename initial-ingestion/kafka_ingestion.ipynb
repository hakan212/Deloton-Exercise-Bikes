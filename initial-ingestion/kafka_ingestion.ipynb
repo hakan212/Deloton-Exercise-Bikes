{
 "cells": [
  {
   "cell_type": "markdown",
   "metadata": {},
   "source": [
    "## Kafka Ingestion\n",
    "\n",
    "### Required Imports + Subscribing to topic"
   ]
  },
  {
   "cell_type": "code",
   "execution_count": 4,
   "metadata": {},
   "outputs": [],
   "source": [
    "from confluent_kafka import Consumer\n",
    "import uuid\n",
    "import os\n",
    "from dotenv import load_dotenv\n",
    "load_dotenv()\n",
    "\n",
    "KAFKA_SERVER = os.getenv('KAFKA_SERVER')\n",
    "KAFKA_USERNAME=os.getenv('KAFKA_USERNAME')\n",
    "KAFKA_PASSWORD=os.getenv('KAFKA_PASSWORD')\n",
    "KAFKA_TOPIC_NAME = os.getenv('KAFKA_TOPIC_NAME')\n",
    "\n",
    "values = []\n",
    "\n",
    "# Consumer with `confluent_kafka`\n",
    "c = Consumer({\n",
    "    'bootstrap.servers': KAFKA_SERVER,\n",
    "    'group.id': f'deleton' +str(uuid.uuid1()),\n",
    "    'security.protocol': 'SASL_SSL',\n",
    "    'sasl.mechanisms': 'PLAIN',\n",
    "    'sasl.username': KAFKA_USERNAME,\n",
    "    'sasl.password': KAFKA_PASSWORD,\n",
    "    'session.timeout.ms': 6000,\n",
    "    'heartbeat.interval.ms': 1000,\n",
    "    'fetch.wait.max.ms': 6000,\n",
    "    'auto.offset.reset': 'latest',\n",
    "    'enable.auto.commit': 'false',\n",
    "    'max.poll.interval.ms': '86400000',\n",
    "    'topic.metadata.refresh.interval.ms': \"-1\",\n",
    "    \"client.id\": 'id-002-005',\n",
    "})\n",
    "\n",
    "c.subscribe([KAFKA_TOPIC_NAME])\n"
   ]
  },
  {
   "cell_type": "markdown",
   "metadata": {},
   "source": [
    "### Testing Kafka Messages"
   ]
  },
  {
   "cell_type": "code",
   "execution_count": 5,
   "metadata": {},
   "outputs": [
    {
     "name": "stdout",
     "output_type": "stream",
     "text": [
      "<cimpl.Message object at 0x10c9c29c0>\n",
      "{\"log\": \"2022-10-03 19:18:07.087281 mendoza v9: [INFO]: Ride - duration = 107.0; resistance = 30\\n\"}\n",
      "<cimpl.Message object at 0x10a80e340>\n",
      "{\"log\": \"2022-10-03 19:18:07.587956 mendoza v9: [INFO]: Telemetry - hrt = 0; rpm = 40; power = 9.737739856000001\\n\"}\n",
      "<cimpl.Message object at 0x10a80e340>\n",
      "{\"log\": \"2022-10-03 19:18:08.088649 mendoza v9: [INFO]: Ride - duration = 108.0; resistance = 30\\n\"}\n",
      "<cimpl.Message object at 0x10a80e340>\n",
      "{\"log\": \"2022-10-03 19:18:08.589379 mendoza v9: [INFO]: Telemetry - hrt = 0; rpm = 40; power = 9.737739856000001\\n\"}\n",
      "<cimpl.Message object at 0x10c9c29c0>\n",
      "{\"log\": \"2022-10-03 19:18:09.090051 mendoza v9: [INFO]: Ride - duration = 109.0; resistance = 30\\n\"}\n",
      "<cimpl.Message object at 0x10a80e340>\n",
      "{\"log\": \"2022-10-03 19:18:09.590796 mendoza v9: [INFO]: Telemetry - hrt = 0; rpm = 42; power = 10.532110099999999\\n\"}\n",
      "<cimpl.Message object at 0x10c9c29c0>\n",
      "{\"log\": \"2022-10-03 19:18:10.091519 mendoza v9: [INFO]: Ride - duration = 110.0; resistance = 30\\n\"}\n",
      "<cimpl.Message object at 0x10a80e340>\n",
      "{\"log\": \"2022-10-03 19:18:10.592204 mendoza v9: [INFO]: Telemetry - hrt = 0; rpm = 25; power = 4.472024571\\n\"}\n",
      "<cimpl.Message object at 0x10c9c29c0>\n",
      "{\"log\": \"2022-10-03 19:18:11.092885 mendoza v9: [INFO]: Ride - duration = 111.0; resistance = 30\\n\"}\n",
      "<cimpl.Message object at 0x10a80e340>\n",
      "{\"log\": \"2022-10-03 19:18:11.593553 mendoza v9: [INFO]: Telemetry - hrt = 0; rpm = 41; power = 10.13260673\\n\"}\n",
      "<cimpl.Message object at 0x10a80e340>\n",
      "{\"log\": \"2022-10-03 19:18:12.094224 mendoza v9: [INFO]: Ride - duration = 112.0; resistance = 30\\n\"}\n",
      "<cimpl.Message object at 0x10a80e340>\n",
      "{\"log\": \"2022-10-03 19:18:12.594965 mendoza v9: [INFO]: Telemetry - hrt = 0; rpm = 18; power = 2.54858863\\n\"}\n",
      "<cimpl.Message object at 0x10c9c29c0>\n",
      "{\"log\": \"2022-10-03 19:18:13.095641 mendoza v9: [INFO]: Ride - duration = 113.0; resistance = 30\\n\"}\n",
      "<cimpl.Message object at 0x10a80e340>\n",
      "{\"log\": \"2022-10-03 19:18:13.596432 mendoza v9: [INFO]: Telemetry - hrt = 106; rpm = 43; power = 10.93612828\\n\"}\n",
      "<cimpl.Message object at 0x10c9c29c0>\n",
      "{\"log\": \"2022-10-03 19:18:14.097243 mendoza v9: [INFO]: Ride - duration = 114.0; resistance = 30\\n\"}\n",
      "<cimpl.Message object at 0x10a80e340>\n",
      "{\"log\": \"2022-10-03 19:18:14.597899 mendoza v9: [INFO]: Telemetry - hrt = 106; rpm = 44; power = 11.34454484\\n\"}\n",
      "<cimpl.Message object at 0x10a80e340>\n",
      "{\"log\": \"2022-10-03 19:18:15.098565 mendoza v9: [INFO]: Ride - duration = 115.0; resistance = 30\\n\"}\n",
      "<cimpl.Message object at 0x10c9c29c0>\n",
      "{\"log\": \"2022-10-03 19:18:15.599260 mendoza v9: [INFO]: Telemetry - hrt = 106; rpm = 45; power = 11.75724842\\n\"}\n",
      "<cimpl.Message object at 0x10a80e340>\n",
      "{\"log\": \"2022-10-03 19:18:16.099948 mendoza v9: [INFO]: Ride - duration = 116.0; resistance = 30\\n\"}\n",
      "<cimpl.Message object at 0x10c9c29c0>\n",
      "{\"log\": \"2022-10-03 19:18:16.600613 mendoza v9: [INFO]: Telemetry - hrt = 106; rpm = 44; power = 11.34454484\\n\"}\n",
      "<cimpl.Message object at 0x10a80e340>\n",
      "{\"log\": \"2022-10-03 19:18:17.101273 mendoza v9: [INFO]: Ride - duration = 117.0; resistance = 30\\n\"}\n",
      "<cimpl.Message object at 0x10a80e340>\n",
      "{\"log\": \"2022-10-03 19:18:17.602005 mendoza v9: [INFO]: Telemetry - hrt = 107; rpm = 43; power = 10.93612828\\n\"}\n",
      "<cimpl.Message object at 0x10c9c29c0>\n",
      "{\"log\": \"2022-10-03 19:18:18.102701 mendoza v9: [INFO]: Ride - duration = 118.0; resistance = 30\\n\"}\n",
      "<cimpl.Message object at 0x10a80e340>\n",
      "{\"log\": \"2022-10-03 19:18:18.603367 mendoza v9: [INFO]: Telemetry - hrt = 107; rpm = 42; power = 10.532110099999999\\n\"}\n",
      "<cimpl.Message object at 0x10a80e340>\n",
      "{\"log\": \"2022-10-03 19:18:19.104047 mendoza v9: [INFO]: Ride - duration = 119.0; resistance = 30\\n\"}\n",
      "<cimpl.Message object at 0x10c9c29c0>\n",
      "{\"log\": \"2022-10-03 19:18:19.604712 mendoza v9: [INFO]: Telemetry - hrt = 108; rpm = 44; power = 11.34454484\\n\"}\n",
      "<cimpl.Message object at 0x10a80e340>\n",
      "{\"log\": \"2022-10-03 19:18:20.105384 mendoza v9: [INFO]: Ride - duration = 120.0; resistance = 30\\n\"}\n",
      "<cimpl.Message object at 0x10c9c29c0>\n",
      "{\"log\": \"2022-10-03 19:18:20.606054 mendoza v9: [INFO]: Telemetry - hrt = 108; rpm = 66; power = 21.26343852\\n\"}\n",
      "<cimpl.Message object at 0x10a80e340>\n",
      "{\"log\": \"2022-10-03 19:18:21.106753 mendoza v9: [INFO]: Ride - duration = 121.0; resistance = 151\\n\"}\n",
      "<cimpl.Message object at 0x10c9c29c0>\n",
      "{\"log\": \"2022-10-03 19:18:21.607422 mendoza v9: [INFO]: Telemetry - hrt = 108; rpm = 98; power = 379.9871691\\n\"}\n"
     ]
    }
   ],
   "source": [
    "i = 0\n",
    "while i < 50:\n",
    "    kafka_message = c.poll(0.5)\n",
    "\n",
    "    if kafka_message is not None:\n",
    "        print(kafka_message)\n",
    "\n",
    "        kafka_message_value = kafka_message.value().decode('utf-8')\n",
    "\n",
    "        print(kafka_message_value)\n",
    "\n",
    "    i += 1"
   ]
  },
  {
   "cell_type": "markdown",
   "metadata": {},
   "source": [
    "### TODO: \n",
    "\n",
    "* Read kafka data into a dataframe (Pandas or PySpark?)\n",
    "* Write data into Snowflake"
   ]
  },
  {
   "cell_type": "code",
   "execution_count": null,
   "metadata": {},
   "outputs": [],
   "source": []
  }
 ],
 "metadata": {
  "kernelspec": {
   "display_name": "Python 3.9.13 64-bit",
   "language": "python",
   "name": "python3"
  },
  "language_info": {
   "codemirror_mode": {
    "name": "ipython",
    "version": 3
   },
   "file_extension": ".py",
   "mimetype": "text/x-python",
   "name": "python",
   "nbconvert_exporter": "python",
   "pygments_lexer": "ipython3",
   "version": "3.9.13"
  },
  "orig_nbformat": 4,
  "vscode": {
   "interpreter": {
    "hash": "b0fa6594d8f4cbf19f97940f81e996739fb7646882a419484c72d19e05852a7e"
   }
  }
 },
 "nbformat": 4,
 "nbformat_minor": 2
}
