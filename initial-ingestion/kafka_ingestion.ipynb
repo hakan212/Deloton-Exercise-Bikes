{
 "cells": [
  {
   "cell_type": "markdown",
   "metadata": {},
   "source": [
    "## Kafka Ingestion\n",
    "\n",
    "### Required Imports + Subscribing to topic"
   ]
  },
  {
   "cell_type": "code",
   "execution_count": 5,
   "metadata": {},
   "outputs": [],
   "source": [
    "from confluent_kafka import Consumer\n",
    "import uuid\n",
    "import os\n",
    "from dotenv import load_dotenv\n",
    "load_dotenv()\n",
    "\n",
    "KAFKA_SERVER = os.getenv('KAFKA_SERVER')\n",
    "KAFKA_USERNAME=os.getenv('KAFKA_USERNAME')\n",
    "KAFKA_PASSWORD=os.getenv('KAFKA_PASSWORD')\n",
    "KAFKA_TOPIC_NAME = os.getenv('KAFKA_TOPIC_NAME')\n",
    "\n",
    "values = []\n",
    "\n",
    "# Consumer with `confluent_kafka`\n",
    "c = Consumer({\n",
    "    'bootstrap.servers': KAFKA_SERVER,\n",
    "    'group.id': f'deleton' +str(uuid.uuid1()),\n",
    "    'security.protocol': 'SASL_SSL',\n",
    "    'sasl.mechanisms': 'PLAIN',\n",
    "    'sasl.username': KAFKA_USERNAME,\n",
    "    'sasl.password': KAFKA_PASSWORD,\n",
    "    'session.timeout.ms': 6000,\n",
    "    'heartbeat.interval.ms': 1000,\n",
    "    'fetch.wait.max.ms': 6000,\n",
    "    'auto.offset.reset': 'latest',\n",
    "    'enable.auto.commit': 'false',\n",
    "    'max.poll.interval.ms': '86400000',\n",
    "    'topic.metadata.refresh.interval.ms': \"-1\",\n",
    "    \"client.id\": 'id-002-005',\n",
    "})\n",
    "\n",
    "c.subscribe([KAFKA_TOPIC_NAME])\n"
   ]
  },
  {
   "cell_type": "markdown",
   "metadata": {},
   "source": [
    "### Testing Kafka Messages"
   ]
  },
  {
   "cell_type": "code",
   "execution_count": 6,
   "metadata": {},
   "outputs": [
    {
     "name": "stdout",
     "output_type": "stream",
     "text": [
      "{\"log\": \"2022-10-04 09:28:46.569129 mendoza v9: [INFO]: Ride - duration = 486.0; resistance = 30\\n\"}\n",
      "{\"log\": \"2022-10-04 09:28:47.069775 mendoza v9: [INFO]: Telemetry - hrt = 90; rpm = 39; power = 9.347636596000001\\n\"}\n",
      "{\"log\": \"2022-10-04 09:28:47.570446 mendoza v9: [INFO]: Ride - duration = 487.0; resistance = 30\\n\"}\n",
      "{\"log\": \"2022-10-04 09:28:48.071113 mendoza v9: [INFO]: Telemetry - hrt = 90; rpm = 38; power = 8.962429663\\n\"}\n",
      "{\"log\": \"2022-10-04 09:28:48.571779 mendoza v9: [INFO]: Ride - duration = 488.0; resistance = 30\\n\"}\n",
      "{\"log\": \"2022-10-04 09:28:49.072421 mendoza v9: [INFO]: Telemetry - hrt = 90; rpm = 38; power = 8.962429663\\n\"}\n",
      "{\"log\": \"2022-10-04 09:28:49.573089 mendoza v9: [INFO]: Ride - duration = 489.0; resistance = 30\\n\"}\n",
      "{\"log\": \"2022-10-04 09:28:50.073759 mendoza v9: [INFO]: Telemetry - hrt = 90; rpm = 34; power = 7.473425372\\n\"}\n",
      "{\"log\": \"2022-10-04 09:28:50.574427 mendoza v9: [INFO]: Ride - duration = 490.0; resistance = 30\\n\"}\n",
      "{\"log\": \"2022-10-04 09:28:51.075096 mendoza v9: [INFO]: Telemetry - hrt = 90; rpm = 37; power = 8.582257545\\n\"}\n",
      "{\"log\": \"2022-10-04 09:28:51.575765 mendoza v9: [INFO]: Ride - duration = 491.0; resistance = 30\\n\"}\n",
      "{\"log\": \"2022-10-04 09:28:52.076514 mendoza v9: [INFO]: Telemetry - hrt = 89; rpm = 38; power = 8.962429663\\n\"}\n",
      "{\"log\": \"2022-10-04 09:28:52.577207 mendoza v9: [INFO]: Ride - duration = 492.0; resistance = 30\\n\"}\n",
      "{\"log\": \"2022-10-04 09:28:53.077883 mendoza v9: [INFO]: Telemetry - hrt = 89; rpm = 37; power = 8.582257545\\n\"}\n",
      "{\"log\": \"2022-10-04 09:28:53.578565 mendoza v9: [INFO]: Ride - duration = 493.0; resistance = 30\\n\"}\n",
      "{\"log\": \"2022-10-04 09:28:54.079317 mendoza v9: [INFO]: Telemetry - hrt = 89; rpm = 38; power = 8.962429663\\n\"}\n",
      "{\"log\": \"2022-10-04 09:28:54.579987 mendoza v9: [INFO]: Ride - duration = 494.0; resistance = 30\\n\"}\n",
      "{\"log\": \"2022-10-04 09:28:55.080671 mendoza v9: [INFO]: Telemetry - hrt = 89; rpm = 35; power = 7.837601654\\n\"}\n",
      "{\"log\": \"2022-10-04 09:28:55.581350 mendoza v9: [INFO]: Ride - duration = 495.0; resistance = 30\\n\"}\n",
      "{\"log\": \"2022-10-04 09:28:56.082044 mendoza v9: [INFO]: Telemetry - hrt = 89; rpm = 37; power = 8.582257545\\n\"}\n",
      "{\"log\": \"2022-10-04 09:28:56.582723 mendoza v9: [INFO]: Ride - duration = 496.0; resistance = 30\\n\"}\n",
      "{\"log\": \"2022-10-04 09:28:57.083411 mendoza v9: [INFO]: Telemetry - hrt = 89; rpm = 37; power = 8.582257545\\n\"}\n",
      "{\"log\": \"2022-10-04 09:28:57.584067 mendoza v9: [INFO]: Ride - duration = 497.0; resistance = 30\\n\"}\n",
      "{\"log\": \"2022-10-04 09:28:58.084736 mendoza v9: [INFO]: Telemetry - hrt = 88; rpm = 37; power = 8.582257545\\n\"}\n",
      "{\"log\": \"2022-10-04 09:28:58.585404 mendoza v9: [INFO]: Ride - duration = 498.0; resistance = 30\\n\"}\n",
      "{\"log\": \"2022-10-04 09:28:59.086089 mendoza v9: [INFO]: Telemetry - hrt = 88; rpm = 37; power = 8.582257545\\n\"}\n",
      "{\"log\": \"2022-10-04 09:28:59.586765 mendoza v9: [INFO]: Ride - duration = 499.0; resistance = 30\\n\"}\n",
      "{\"log\": \"2022-10-04 09:29:00.087448 mendoza v9: [INFO]: Telemetry - hrt = 88; rpm = 35; power = 7.837601654\\n\"}\n",
      "{\"log\": \"2022-10-04 09:29:00.588134 mendoza v9: [INFO]: Ride - duration = 500.0; resistance = 30\\n\"}\n",
      "{\"log\": \"2022-10-04 09:29:01.088804 mendoza v9: [INFO]: Telemetry - hrt = 88; rpm = 37; power = 8.582257545\\n\"}\n",
      "{\"log\": \"2022-10-04 09:29:01.589479 mendoza v9: [INFO]: Ride - duration = 501.0; resistance = 30\\n\"}\n",
      "{\"log\": \"2022-10-04 09:29:02.090154 mendoza v9: [INFO]: Telemetry - hrt = 89; rpm = 36; power = 8.207264682\\n\"}\n",
      "{\"log\": \"2022-10-04 09:29:02.590833 mendoza v9: [INFO]: Ride - duration = 502.0; resistance = 30\\n\"}\n",
      "{\"log\": \"2022-10-04 09:29:03.091503 mendoza v9: [INFO]: Telemetry - hrt = 89; rpm = 36; power = 8.207264682\\n\"}\n",
      "{\"log\": \"2022-10-04 09:29:03.592178 mendoza v9: [INFO]: Ride - duration = 503.0; resistance = 30\\n\"}\n",
      "{\"log\": \"2022-10-04 09:29:04.092654 mendoza v9: [INFO]: Telemetry - hrt = 89; rpm = 37; power = 8.582257545\\n\"}\n",
      "{\"log\": \"2022-10-04 09:29:04.593339 mendoza v9: [INFO]: Ride - duration = 504.0; resistance = 30\\n\"}\n"
     ]
    }
   ],
   "source": [
    "i = 0\n",
    "while i < 50:\n",
    "    kafka_message = c.poll(0.5)\n",
    "\n",
    "    if kafka_message is not None:\n",
    "\n",
    "        kafka_message_value = kafka_message.value().decode('utf-8')\n",
    "\n",
    "        print(kafka_message_value)\n",
    "\n",
    "    i += 1"
   ]
  },
  {
   "cell_type": "markdown",
   "metadata": {},
   "source": [
    "### TODO: \n",
    "\n",
    "* Read kafka data into a dataframe (Pandas or PySpark?)\n",
    "* Write data into Snowflake"
   ]
  },
  {
   "cell_type": "code",
   "execution_count": null,
   "metadata": {},
   "outputs": [],
   "source": []
  }
 ],
 "metadata": {
  "kernelspec": {
   "display_name": "Python 3.9.13 64-bit",
   "language": "python",
   "name": "python3"
  },
  "language_info": {
   "codemirror_mode": {
    "name": "ipython",
    "version": 3
   },
   "file_extension": ".py",
   "mimetype": "text/x-python",
   "name": "python",
   "nbconvert_exporter": "python",
   "pygments_lexer": "ipython3",
   "version": "3.9.13"
  },
  "orig_nbformat": 4,
  "vscode": {
   "interpreter": {
    "hash": "b0fa6594d8f4cbf19f97940f81e996739fb7646882a419484c72d19e05852a7e"
   }
  }
 },
 "nbformat": 4,
 "nbformat_minor": 2
}
