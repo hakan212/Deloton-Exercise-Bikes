{
 "cells": [
  {
   "cell_type": "code",
   "execution_count": 8,
   "metadata": {},
   "outputs": [
    {
     "data": {
      "text/plain": [
       "False"
      ]
     },
     "execution_count": 8,
     "metadata": {},
     "output_type": "execute_result"
    }
   ],
   "source": [
    "def calculate_max_heart_rate (age: int):\n",
    "    if age <=40:\n",
    "        return 211 - (0.64 * age)\n",
    "    else:\n",
    "        return 208 - (0.7 * age)\n",
    "\n",
    "def check_if_heart_rate_abnormal (current_heart_rate: int, max_heart_rate:int):\n",
    "    upper_limit = 0.9 * max_heart_rate\n",
    "    lower_limit = 0.5 * max_heart_rate\n",
    "\n",
    "    if lower_limit <= current_heart_rate <= max_heart_rate:\n",
    "        return False\n",
    "    else:\n",
    "        return True\n",
    "\n",
    "\n",
    "check_if_heart_rate_abnormal(100, 100)    \n",
    "\n",
    "    "
   ]
  },
  {
   "cell_type": "code",
   "execution_count": null,
   "metadata": {},
   "outputs": [],
   "source": []
  }
 ],
 "metadata": {
  "kernelspec": {
   "display_name": "Python 3.9.13 64-bit",
   "language": "python",
   "name": "python3"
  },
  "language_info": {
   "codemirror_mode": {
    "name": "ipython",
    "version": 3
   },
   "file_extension": ".py",
   "mimetype": "text/x-python",
   "name": "python",
   "nbconvert_exporter": "python",
   "pygments_lexer": "ipython3",
   "version": "3.9.13"
  },
  "orig_nbformat": 4,
  "vscode": {
   "interpreter": {
    "hash": "b0fa6594d8f4cbf19f97940f81e996739fb7646882a419484c72d19e05852a7e"
   }
  }
 },
 "nbformat": 4,
 "nbformat_minor": 2
}
