{
 "cells": [
  {
   "cell_type": "markdown",
   "metadata": {},
   "source": [
    "TODO: \n",
    "\n",
    "* setup streams using python snowflake connector"
   ]
  },
  {
   "cell_type": "code",
   "execution_count": 1,
   "metadata": {},
   "outputs": [
    {
     "name": "stderr",
     "output_type": "stream",
     "text": [
      "/Users/jordanpacho/Desktop/Sigma_Labs/Coursework/Deloton-Exercise-Bikes/.venv/lib/python3.9/site-packages/snowflake/connector/options.py:96: UserWarning: You have an incompatible version of 'pyarrow' installed (9.0.0), please install a version that adheres to: 'pyarrow<8.1.0,>=8.0.0; extra == \"pandas\"'\n",
      "  warn_incompatible_dep(\n"
     ]
    }
   ],
   "source": [
    "import snowflake.connector\n",
    "import os"
   ]
  },
  {
   "cell_type": "code",
   "execution_count": 2,
   "metadata": {},
   "outputs": [],
   "source": [
    "USER = os.environ.get('USER')\n",
    "ACCOUNT = os.environ.get('ACCOUNT')\n",
    "PASSWORD = os.environ.get('PASSWORD')\n",
    "WAREHOUSE= os.environ.get('WAREHOUSE')\n",
    "DATABASE= os.environ.get('DATABASE')\n",
    "BATCH_SCHEMA= os.environ.get('BATCH_SCHEMA')"
   ]
  },
  {
   "cell_type": "code",
   "execution_count": 3,
   "metadata": {},
   "outputs": [],
   "source": [
    "conn = snowflake.connector.connect(\n",
    "    user=USER,\n",
    "    password=PASSWORD,\n",
    "    account=ACCOUNT,\n",
    "    warehouse=WAREHOUSE,\n",
    "    database=DATABASE,\n",
    "    schema=BATCH_SCHEMA\n",
    ")\n",
    "cs = conn.cursor()"
   ]
  },
  {
   "cell_type": "markdown",
   "metadata": {},
   "source": [
    "#### Making table streams"
   ]
  },
  {
   "cell_type": "code",
   "execution_count": 4,
   "metadata": {},
   "outputs": [],
   "source": [
    "query = \"\"\"\n",
    "    CREATE STREAM rides_stream\n",
    "    ON TABLE rides\n",
    "\"\"\"\n",
    "# cs.execute(query)"
   ]
  },
  {
   "cell_type": "code",
   "execution_count": 19,
   "metadata": {},
   "outputs": [
    {
     "data": {
      "text/html": [
       "<div>\n",
       "<style scoped>\n",
       "    .dataframe tbody tr th:only-of-type {\n",
       "        vertical-align: middle;\n",
       "    }\n",
       "\n",
       "    .dataframe tbody tr th {\n",
       "        vertical-align: top;\n",
       "    }\n",
       "\n",
       "    .dataframe thead th {\n",
       "        text-align: right;\n",
       "    }\n",
       "</style>\n",
       "<table border=\"1\" class=\"dataframe\">\n",
       "  <thead>\n",
       "    <tr style=\"text-align: right;\">\n",
       "      <th></th>\n",
       "      <th>RIDE_ID</th>\n",
       "      <th>USER_ID</th>\n",
       "      <th>BEGIN_TIMESTAMP</th>\n",
       "      <th>TOTAL_DURATION_SEC</th>\n",
       "      <th>TOTAL_POWER</th>\n",
       "      <th>MEAN_POWER</th>\n",
       "      <th>MEAN_RESISTANCE</th>\n",
       "      <th>MEAN_RPM</th>\n",
       "      <th>MEAN_HEART_RATE</th>\n",
       "      <th>METADATA$ACTION</th>\n",
       "      <th>METADATA$ISUPDATE</th>\n",
       "      <th>METADATA$ROW_ID</th>\n",
       "    </tr>\n",
       "  </thead>\n",
       "  <tbody>\n",
       "    <tr>\n",
       "      <th>0</th>\n",
       "      <td>50</td>\n",
       "      <td>4609</td>\n",
       "      <td>{'epoch': 1665058732, 'fraction': 0}</td>\n",
       "      <td>519</td>\n",
       "      <td>24850.436</td>\n",
       "      <td>47.881380</td>\n",
       "      <td>40.897881</td>\n",
       "      <td>37.104046</td>\n",
       "      <td>111.263969</td>\n",
       "      <td>INSERT</td>\n",
       "      <td>False</td>\n",
       "      <td>84caf69c94c0a32bc51c3f0ec78a2074bf5c4811</td>\n",
       "    </tr>\n",
       "    <tr>\n",
       "      <th>1</th>\n",
       "      <td>49</td>\n",
       "      <td>4608</td>\n",
       "      <td>{'epoch': 1665058209, 'fraction': 0}</td>\n",
       "      <td>520</td>\n",
       "      <td>18181.857</td>\n",
       "      <td>34.965110</td>\n",
       "      <td>39.900000</td>\n",
       "      <td>52.311538</td>\n",
       "      <td>104.361538</td>\n",
       "      <td>INSERT</td>\n",
       "      <td>False</td>\n",
       "      <td>2fe1e68fe1479ada14fa27202a9632e84901d6cd</td>\n",
       "    </tr>\n",
       "    <tr>\n",
       "      <th>2</th>\n",
       "      <td>47</td>\n",
       "      <td>4608</td>\n",
       "      <td>{'epoch': 1665057197, 'fraction': 0}</td>\n",
       "      <td>517</td>\n",
       "      <td>20884.968</td>\n",
       "      <td>40.396456</td>\n",
       "      <td>40.015474</td>\n",
       "      <td>41.827853</td>\n",
       "      <td>114.294004</td>\n",
       "      <td>INSERT</td>\n",
       "      <td>False</td>\n",
       "      <td>17d703d74565e9c741bce3bf0b8b46e0fc630060</td>\n",
       "    </tr>\n",
       "    <tr>\n",
       "      <th>3</th>\n",
       "      <td>48</td>\n",
       "      <td>4608</td>\n",
       "      <td>{'epoch': 1665057717, 'fraction': 0}</td>\n",
       "      <td>490</td>\n",
       "      <td>22375.036</td>\n",
       "      <td>45.663339</td>\n",
       "      <td>40.579592</td>\n",
       "      <td>49.783673</td>\n",
       "      <td>107.720408</td>\n",
       "      <td>INSERT</td>\n",
       "      <td>False</td>\n",
       "      <td>0c4a6f1ad74772ba94a4aac6b5b6819c52e947bf</td>\n",
       "    </tr>\n",
       "  </tbody>\n",
       "</table>\n",
       "</div>"
      ],
      "text/plain": [
       "  RIDE_ID USER_ID                       BEGIN_TIMESTAMP TOTAL_DURATION_SEC  \\\n",
       "0      50    4609  {'epoch': 1665058732, 'fraction': 0}                519   \n",
       "1      49    4608  {'epoch': 1665058209, 'fraction': 0}                520   \n",
       "2      47    4608  {'epoch': 1665057197, 'fraction': 0}                517   \n",
       "3      48    4608  {'epoch': 1665057717, 'fraction': 0}                490   \n",
       "\n",
       "   TOTAL_POWER  MEAN_POWER  MEAN_RESISTANCE   MEAN_RPM  MEAN_HEART_RATE  \\\n",
       "0    24850.436   47.881380        40.897881  37.104046       111.263969   \n",
       "1    18181.857   34.965110        39.900000  52.311538       104.361538   \n",
       "2    20884.968   40.396456        40.015474  41.827853       114.294004   \n",
       "3    22375.036   45.663339        40.579592  49.783673       107.720408   \n",
       "\n",
       "  METADATA$ACTION  METADATA$ISUPDATE                           METADATA$ROW_ID  \n",
       "0          INSERT              False  84caf69c94c0a32bc51c3f0ec78a2074bf5c4811  \n",
       "1          INSERT              False  2fe1e68fe1479ada14fa27202a9632e84901d6cd  \n",
       "2          INSERT              False  17d703d74565e9c741bce3bf0b8b46e0fc630060  \n",
       "3          INSERT              False  0c4a6f1ad74772ba94a4aac6b5b6819c52e947bf  "
      ]
     },
     "execution_count": 19,
     "metadata": {},
     "output_type": "execute_result"
    }
   ],
   "source": [
    "query_stream = \"\"\"\n",
    "    SELECT *\n",
    "    FROM rides_stream\n",
    "\"\"\"\n",
    "\n",
    "cs.execute(query_stream).fetch_pandas_all()"
   ]
  },
  {
   "cell_type": "code",
   "execution_count": 24,
   "metadata": {},
   "outputs": [
    {
     "data": {
      "text/html": [
       "<div>\n",
       "<style scoped>\n",
       "    .dataframe tbody tr th:only-of-type {\n",
       "        vertical-align: middle;\n",
       "    }\n",
       "\n",
       "    .dataframe tbody tr th {\n",
       "        vertical-align: top;\n",
       "    }\n",
       "\n",
       "    .dataframe thead th {\n",
       "        text-align: right;\n",
       "    }\n",
       "</style>\n",
       "<table border=\"1\" class=\"dataframe\">\n",
       "  <thead>\n",
       "    <tr style=\"text-align: right;\">\n",
       "      <th></th>\n",
       "      <th>USER_ID</th>\n",
       "    </tr>\n",
       "  </thead>\n",
       "  <tbody>\n",
       "    <tr>\n",
       "      <th>0</th>\n",
       "      <td>4603</td>\n",
       "    </tr>\n",
       "    <tr>\n",
       "      <th>1</th>\n",
       "      <td>4604</td>\n",
       "    </tr>\n",
       "    <tr>\n",
       "      <th>2</th>\n",
       "      <td>4607</td>\n",
       "    </tr>\n",
       "    <tr>\n",
       "      <th>3</th>\n",
       "      <td>4608</td>\n",
       "    </tr>\n",
       "    <tr>\n",
       "      <th>4</th>\n",
       "      <td>4609</td>\n",
       "    </tr>\n",
       "  </tbody>\n",
       "</table>\n",
       "</div>"
      ],
      "text/plain": [
       "   USER_ID\n",
       "0     4603\n",
       "1     4604\n",
       "2     4607\n",
       "3     4608\n",
       "4     4609"
      ]
     },
     "execution_count": 24,
     "metadata": {},
     "output_type": "execute_result"
    }
   ],
   "source": [
    "query = \"\"\"\n",
    "    SELECT user_id\n",
    "        FROM users\n",
    "\"\"\"\n",
    "\n",
    "cs.execute(query).fetch_pandas_all()"
   ]
  },
  {
   "cell_type": "code",
   "execution_count": 25,
   "metadata": {},
   "outputs": [
    {
     "data": {
      "text/html": [
       "<div>\n",
       "<style scoped>\n",
       "    .dataframe tbody tr th:only-of-type {\n",
       "        vertical-align: middle;\n",
       "    }\n",
       "\n",
       "    .dataframe tbody tr th {\n",
       "        vertical-align: top;\n",
       "    }\n",
       "\n",
       "    .dataframe thead th {\n",
       "        text-align: right;\n",
       "    }\n",
       "</style>\n",
       "<table border=\"1\" class=\"dataframe\">\n",
       "  <thead>\n",
       "    <tr style=\"text-align: right;\">\n",
       "      <th></th>\n",
       "      <th>USER_ID</th>\n",
       "    </tr>\n",
       "  </thead>\n",
       "  <tbody>\n",
       "    <tr>\n",
       "      <th>0</th>\n",
       "      <td>4609</td>\n",
       "    </tr>\n",
       "    <tr>\n",
       "      <th>1</th>\n",
       "      <td>4608</td>\n",
       "    </tr>\n",
       "    <tr>\n",
       "      <th>2</th>\n",
       "      <td>4608</td>\n",
       "    </tr>\n",
       "    <tr>\n",
       "      <th>3</th>\n",
       "      <td>4609</td>\n",
       "    </tr>\n",
       "    <tr>\n",
       "      <th>4</th>\n",
       "      <td>4608</td>\n",
       "    </tr>\n",
       "  </tbody>\n",
       "</table>\n",
       "</div>"
      ],
      "text/plain": [
       "  USER_ID\n",
       "0    4609\n",
       "1    4608\n",
       "2    4608\n",
       "3    4609\n",
       "4    4608"
      ]
     },
     "execution_count": 25,
     "metadata": {},
     "output_type": "execute_result"
    }
   ],
   "source": [
    "query = \"\"\"\n",
    "    SELECT user_id\n",
    "        FROM rides_stream\n",
    "\"\"\"\n",
    "\n",
    "cs.execute(query).fetch_pandas_all()"
   ]
  },
  {
   "cell_type": "code",
   "execution_count": 29,
   "metadata": {},
   "outputs": [
    {
     "data": {
      "text/html": [
       "<div>\n",
       "<style scoped>\n",
       "    .dataframe tbody tr th:only-of-type {\n",
       "        vertical-align: middle;\n",
       "    }\n",
       "\n",
       "    .dataframe tbody tr th {\n",
       "        vertical-align: top;\n",
       "    }\n",
       "\n",
       "    .dataframe thead th {\n",
       "        text-align: right;\n",
       "    }\n",
       "</style>\n",
       "<table border=\"1\" class=\"dataframe\">\n",
       "  <thead>\n",
       "    <tr style=\"text-align: right;\">\n",
       "      <th></th>\n",
       "      <th>USER_ID</th>\n",
       "      <th>RIDE_ID</th>\n",
       "    </tr>\n",
       "  </thead>\n",
       "  <tbody>\n",
       "    <tr>\n",
       "      <th>0</th>\n",
       "      <td>4608</td>\n",
       "      <td>49</td>\n",
       "    </tr>\n",
       "    <tr>\n",
       "      <th>1</th>\n",
       "      <td>4608</td>\n",
       "      <td>48</td>\n",
       "    </tr>\n",
       "    <tr>\n",
       "      <th>2</th>\n",
       "      <td>4608</td>\n",
       "      <td>47</td>\n",
       "    </tr>\n",
       "    <tr>\n",
       "      <th>3</th>\n",
       "      <td>4609</td>\n",
       "      <td>51</td>\n",
       "    </tr>\n",
       "    <tr>\n",
       "      <th>4</th>\n",
       "      <td>4609</td>\n",
       "      <td>50</td>\n",
       "    </tr>\n",
       "  </tbody>\n",
       "</table>\n",
       "</div>"
      ],
      "text/plain": [
       "   USER_ID RIDE_ID\n",
       "0     4608      49\n",
       "1     4608      48\n",
       "2     4608      47\n",
       "3     4609      51\n",
       "4     4609      50"
      ]
     },
     "execution_count": 29,
     "metadata": {},
     "output_type": "execute_result"
    }
   ],
   "source": [
    "query = \"\"\"\n",
    "    SELECT users.user_id, rides_stream.ride_id\n",
    "        FROM users\n",
    "        RIGHT JOIN rides_stream\n",
    "        ON users.user_id = rides_stream.user_id\n",
    "\"\"\"\n",
    "\n",
    "cs.execute(query).fetch_pandas_all()"
   ]
  },
  {
   "cell_type": "code",
   "execution_count": null,
   "metadata": {},
   "outputs": [],
   "source": []
  }
 ],
 "metadata": {
  "kernelspec": {
   "display_name": "Python 3.9.13 ('.venv': venv)",
   "language": "python",
   "name": "python3"
  },
  "language_info": {
   "codemirror_mode": {
    "name": "ipython",
    "version": 3
   },
   "file_extension": ".py",
   "mimetype": "text/x-python",
   "name": "python",
   "nbconvert_exporter": "python",
   "pygments_lexer": "ipython3",
   "version": "3.9.13"
  },
  "orig_nbformat": 4,
  "vscode": {
   "interpreter": {
    "hash": "da85ee258cf3914edf966df08c02018321763d9772fd11cff2ea728b28f71b17"
   }
  }
 },
 "nbformat": 4,
 "nbformat_minor": 2
}
