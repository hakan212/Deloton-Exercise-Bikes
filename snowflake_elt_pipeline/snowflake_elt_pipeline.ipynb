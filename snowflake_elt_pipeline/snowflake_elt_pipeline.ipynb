{
 "cells": [
  {
   "cell_type": "markdown",
   "metadata": {},
   "source": [
    "TODO: \n",
    "\n",
    "* setup streams using python snowflake connector"
   ]
  },
  {
   "cell_type": "code",
   "execution_count": 1,
   "metadata": {},
   "outputs": [
    {
     "name": "stderr",
     "output_type": "stream",
     "text": [
      "/Users/jordanpacho/Desktop/Sigma_Labs/Coursework/Deloton-Exercise-Bikes/.venv/lib/python3.9/site-packages/snowflake/connector/options.py:96: UserWarning: You have an incompatible version of 'pyarrow' installed (9.0.0), please install a version that adheres to: 'pyarrow<8.1.0,>=8.0.0; extra == \"pandas\"'\n",
      "  warn_incompatible_dep(\n"
     ]
    }
   ],
   "source": [
    "import snowflake.connector\n",
    "import os"
   ]
  },
  {
   "cell_type": "code",
   "execution_count": 2,
   "metadata": {},
   "outputs": [],
   "source": [
    "USER = os.environ.get('USER')\n",
    "ACCOUNT = os.environ.get('ACCOUNT')\n",
    "PASSWORD = os.environ.get('PASSWORD')\n",
    "WAREHOUSE= os.environ.get('WAREHOUSE')\n",
    "DATABASE= os.environ.get('DATABASE')\n",
    "BATCH_SCHEMA= os.environ.get('BATCH_SCHEMA')"
   ]
  },
  {
   "cell_type": "code",
   "execution_count": 3,
   "metadata": {},
   "outputs": [],
   "source": [
    "conn = snowflake.connector.connect(\n",
    "    user=USER,\n",
    "    password=PASSWORD,\n",
    "    account=ACCOUNT,\n",
    "    warehouse=WAREHOUSE,\n",
    "    database=DATABASE,\n",
    "    schema=BATCH_SCHEMA\n",
    ")\n",
    "cs = conn.cursor()"
   ]
  },
  {
   "cell_type": "markdown",
   "metadata": {},
   "source": [
    "#### Making table streams"
   ]
  },
  {
   "cell_type": "code",
   "execution_count": 4,
   "metadata": {},
   "outputs": [],
   "source": [
    "query = \"\"\"\n",
    "    CREATE STREAM rides_stream\n",
    "    ON TABLE rides\n",
    "\"\"\"\n",
    "# cs.execute(query)"
   ]
  },
  {
   "cell_type": "code",
   "execution_count": 13,
   "metadata": {},
   "outputs": [
    {
     "data": {
      "text/html": [
       "<div>\n",
       "<style scoped>\n",
       "    .dataframe tbody tr th:only-of-type {\n",
       "        vertical-align: middle;\n",
       "    }\n",
       "\n",
       "    .dataframe tbody tr th {\n",
       "        vertical-align: top;\n",
       "    }\n",
       "\n",
       "    .dataframe thead th {\n",
       "        text-align: right;\n",
       "    }\n",
       "</style>\n",
       "<table border=\"1\" class=\"dataframe\">\n",
       "  <thead>\n",
       "    <tr style=\"text-align: right;\">\n",
       "      <th></th>\n",
       "      <th>RIDE_ID</th>\n",
       "      <th>USER_ID</th>\n",
       "      <th>BEGIN_TIMESTAMP</th>\n",
       "      <th>TOTAL_DURATION_SEC</th>\n",
       "      <th>TOTAL_POWER</th>\n",
       "      <th>MEAN_POWER</th>\n",
       "      <th>MEAN_RESISTANCE</th>\n",
       "      <th>MEAN_RPM</th>\n",
       "      <th>MEAN_HEART_RATE</th>\n",
       "      <th>METADATA$ACTION</th>\n",
       "      <th>METADATA$ISUPDATE</th>\n",
       "      <th>METADATA$ROW_ID</th>\n",
       "    </tr>\n",
       "  </thead>\n",
       "  <tbody>\n",
       "    <tr>\n",
       "      <th>0</th>\n",
       "      <td>63</td>\n",
       "      <td>4612</td>\n",
       "      <td>{'epoch': 1665071361, 'fraction': 0}</td>\n",
       "      <td>517</td>\n",
       "      <td>31165.999</td>\n",
       "      <td>60.282397</td>\n",
       "      <td>42.889749</td>\n",
       "      <td>39.756286</td>\n",
       "      <td>124.676983</td>\n",
       "      <td>INSERT</td>\n",
       "      <td>False</td>\n",
       "      <td>4b229c2dc4b3c081c60bc86c55bfaf4410578be2</td>\n",
       "    </tr>\n",
       "  </tbody>\n",
       "</table>\n",
       "</div>"
      ],
      "text/plain": [
       "  RIDE_ID USER_ID                       BEGIN_TIMESTAMP TOTAL_DURATION_SEC  \\\n",
       "0      63    4612  {'epoch': 1665071361, 'fraction': 0}                517   \n",
       "\n",
       "   TOTAL_POWER  MEAN_POWER  MEAN_RESISTANCE   MEAN_RPM  MEAN_HEART_RATE  \\\n",
       "0    31165.999   60.282397        42.889749  39.756286       124.676983   \n",
       "\n",
       "  METADATA$ACTION  METADATA$ISUPDATE                           METADATA$ROW_ID  \n",
       "0          INSERT              False  4b229c2dc4b3c081c60bc86c55bfaf4410578be2  "
      ]
     },
     "execution_count": 13,
     "metadata": {},
     "output_type": "execute_result"
    }
   ],
   "source": [
    "query_stream = \"\"\"\n",
    "    SELECT *\n",
    "    FROM rides_stream\n",
    "\"\"\"\n",
    "\n",
    "cs.execute(query_stream).fetch_pandas_all()"
   ]
  },
  {
   "cell_type": "code",
   "execution_count": 14,
   "metadata": {},
   "outputs": [
    {
     "data": {
      "text/html": [
       "<div>\n",
       "<style scoped>\n",
       "    .dataframe tbody tr th:only-of-type {\n",
       "        vertical-align: middle;\n",
       "    }\n",
       "\n",
       "    .dataframe tbody tr th {\n",
       "        vertical-align: top;\n",
       "    }\n",
       "\n",
       "    .dataframe thead th {\n",
       "        text-align: right;\n",
       "    }\n",
       "</style>\n",
       "<table border=\"1\" class=\"dataframe\">\n",
       "  <thead>\n",
       "    <tr style=\"text-align: right;\">\n",
       "      <th></th>\n",
       "      <th>USER_ID</th>\n",
       "    </tr>\n",
       "  </thead>\n",
       "  <tbody>\n",
       "    <tr>\n",
       "      <th>0</th>\n",
       "      <td>4603</td>\n",
       "    </tr>\n",
       "    <tr>\n",
       "      <th>1</th>\n",
       "      <td>4604</td>\n",
       "    </tr>\n",
       "    <tr>\n",
       "      <th>2</th>\n",
       "      <td>4607</td>\n",
       "    </tr>\n",
       "    <tr>\n",
       "      <th>3</th>\n",
       "      <td>4608</td>\n",
       "    </tr>\n",
       "    <tr>\n",
       "      <th>4</th>\n",
       "      <td>4609</td>\n",
       "    </tr>\n",
       "    <tr>\n",
       "      <th>5</th>\n",
       "      <td>4610</td>\n",
       "    </tr>\n",
       "    <tr>\n",
       "      <th>6</th>\n",
       "      <td>4611</td>\n",
       "    </tr>\n",
       "    <tr>\n",
       "      <th>7</th>\n",
       "      <td>4612</td>\n",
       "    </tr>\n",
       "  </tbody>\n",
       "</table>\n",
       "</div>"
      ],
      "text/plain": [
       "   USER_ID\n",
       "0     4603\n",
       "1     4604\n",
       "2     4607\n",
       "3     4608\n",
       "4     4609\n",
       "5     4610\n",
       "6     4611\n",
       "7     4612"
      ]
     },
     "execution_count": 14,
     "metadata": {},
     "output_type": "execute_result"
    }
   ],
   "source": [
    "query = \"\"\"\n",
    "    SELECT user_id\n",
    "        FROM users\n",
    "\"\"\"\n",
    "\n",
    "cs.execute(query).fetch_pandas_all()"
   ]
  },
  {
   "cell_type": "code",
   "execution_count": 15,
   "metadata": {},
   "outputs": [
    {
     "data": {
      "text/html": [
       "<div>\n",
       "<style scoped>\n",
       "    .dataframe tbody tr th:only-of-type {\n",
       "        vertical-align: middle;\n",
       "    }\n",
       "\n",
       "    .dataframe tbody tr th {\n",
       "        vertical-align: top;\n",
       "    }\n",
       "\n",
       "    .dataframe thead th {\n",
       "        text-align: right;\n",
       "    }\n",
       "</style>\n",
       "<table border=\"1\" class=\"dataframe\">\n",
       "  <thead>\n",
       "    <tr style=\"text-align: right;\">\n",
       "      <th></th>\n",
       "      <th>USER_ID</th>\n",
       "    </tr>\n",
       "  </thead>\n",
       "  <tbody>\n",
       "    <tr>\n",
       "      <th>0</th>\n",
       "      <td>4612</td>\n",
       "    </tr>\n",
       "  </tbody>\n",
       "</table>\n",
       "</div>"
      ],
      "text/plain": [
       "  USER_ID\n",
       "0    4612"
      ]
     },
     "execution_count": 15,
     "metadata": {},
     "output_type": "execute_result"
    }
   ],
   "source": [
    "query = \"\"\"\n",
    "    SELECT user_id\n",
    "        FROM rides_stream\n",
    "\"\"\"\n",
    "\n",
    "cs.execute(query).fetch_pandas_all()"
   ]
  },
  {
   "cell_type": "code",
   "execution_count": 16,
   "metadata": {},
   "outputs": [
    {
     "data": {
      "text/html": [
       "<div>\n",
       "<style scoped>\n",
       "    .dataframe tbody tr th:only-of-type {\n",
       "        vertical-align: middle;\n",
       "    }\n",
       "\n",
       "    .dataframe tbody tr th {\n",
       "        vertical-align: top;\n",
       "    }\n",
       "\n",
       "    .dataframe thead th {\n",
       "        text-align: right;\n",
       "    }\n",
       "</style>\n",
       "<table border=\"1\" class=\"dataframe\">\n",
       "  <thead>\n",
       "    <tr style=\"text-align: right;\">\n",
       "      <th></th>\n",
       "      <th>USER_ID</th>\n",
       "      <th>RIDE_ID</th>\n",
       "    </tr>\n",
       "  </thead>\n",
       "  <tbody>\n",
       "    <tr>\n",
       "      <th>0</th>\n",
       "      <td>4612</td>\n",
       "      <td>63</td>\n",
       "    </tr>\n",
       "  </tbody>\n",
       "</table>\n",
       "</div>"
      ],
      "text/plain": [
       "   USER_ID RIDE_ID\n",
       "0     4612      63"
      ]
     },
     "execution_count": 16,
     "metadata": {},
     "output_type": "execute_result"
    }
   ],
   "source": [
    "query = \"\"\"\n",
    "    SELECT users.user_id, rides_stream.ride_id\n",
    "        FROM users\n",
    "        RIGHT JOIN rides_stream\n",
    "        ON users.user_id = rides_stream.user_id\n",
    "\"\"\"\n",
    "\n",
    "cs.execute(query).fetch_pandas_all()"
   ]
  },
  {
   "cell_type": "code",
   "execution_count": 9,
   "metadata": {},
   "outputs": [],
   "source": [
    "query = \"\"\"\n",
    "    CREATE OR REPLACE TABLE DELATON.ZOOKEEPERS_BATCH_PRODUCTION.RECENT_RIDES (\n",
    "        USER_ID NUMBER(38,0) NOT NULL,\n",
    "        RIDE_ID NUMBER(38,0) NOT NULL,\n",
    "        GENDER VARCHAR(6) NOT NULL,\n",
    "        AGE NUMBER(38,0) NOT NULL,\n",
    "        BEGIN_TIMESTAMP TIMESTAMP_NTZ(9) NOT NULL,\n",
    "        TOTAL_DURATION_SEC NUMBER(38,0) NOT NULL,\n",
    "        TOTAL_POWER FLOAT NOT NULL,\n",
    "        MEAN_POWER FLOAT NOT NULL,\n",
    "        MEAN_RESISTANCE FLOAT NOT NULL,\n",
    "        MEAN_RPM FLOAT NOT NULL,\n",
    "        MEAN_HEART_RATE FLOAT NOT NULL\n",
    "    )\n",
    "\"\"\"\n",
    "\n",
    "# cs.execute(query)"
   ]
  },
  {
   "cell_type": "code",
   "execution_count": 17,
   "metadata": {},
   "outputs": [
    {
     "data": {
      "text/html": [
       "<div>\n",
       "<style scoped>\n",
       "    .dataframe tbody tr th:only-of-type {\n",
       "        vertical-align: middle;\n",
       "    }\n",
       "\n",
       "    .dataframe tbody tr th {\n",
       "        vertical-align: top;\n",
       "    }\n",
       "\n",
       "    .dataframe thead th {\n",
       "        text-align: right;\n",
       "    }\n",
       "</style>\n",
       "<table border=\"1\" class=\"dataframe\">\n",
       "  <thead>\n",
       "    <tr style=\"text-align: right;\">\n",
       "      <th></th>\n",
       "      <th>USER_ID</th>\n",
       "      <th>RIDE_ID</th>\n",
       "      <th>GENDER</th>\n",
       "      <th>AGE</th>\n",
       "      <th>BEGIN_TIMESTAMP</th>\n",
       "      <th>TOTAL_DURATION_SEC</th>\n",
       "      <th>TOTAL_POWER</th>\n",
       "      <th>MEAN_POWER</th>\n",
       "      <th>MEAN_RESISTANCE</th>\n",
       "      <th>MEAN_RPM</th>\n",
       "      <th>MEAN_HEART_RATE</th>\n",
       "    </tr>\n",
       "  </thead>\n",
       "  <tbody>\n",
       "    <tr>\n",
       "      <th>0</th>\n",
       "      <td>4612</td>\n",
       "      <td>63</td>\n",
       "      <td>Female</td>\n",
       "      <td>54</td>\n",
       "      <td>{'epoch': 1665071361, 'fraction': 0}</td>\n",
       "      <td>517</td>\n",
       "      <td>31165.999</td>\n",
       "      <td>60.282397</td>\n",
       "      <td>42.889749</td>\n",
       "      <td>39.756286</td>\n",
       "      <td>124.676983</td>\n",
       "    </tr>\n",
       "  </tbody>\n",
       "</table>\n",
       "</div>"
      ],
      "text/plain": [
       "   USER_ID RIDE_ID  GENDER  AGE                       BEGIN_TIMESTAMP  \\\n",
       "0     4612      63  Female   54  {'epoch': 1665071361, 'fraction': 0}   \n",
       "\n",
       "  TOTAL_DURATION_SEC  TOTAL_POWER  MEAN_POWER  MEAN_RESISTANCE   MEAN_RPM  \\\n",
       "0                517    31165.999   60.282397        42.889749  39.756286   \n",
       "\n",
       "   MEAN_HEART_RATE  \n",
       "0       124.676983  "
      ]
     },
     "execution_count": 17,
     "metadata": {},
     "output_type": "execute_result"
    }
   ],
   "source": [
    "query = \"\"\"\n",
    "     WITH recent_rides_data AS(\n",
    "\n",
    "            WITH user_gender_dob AS (\n",
    "            SELECT user_id, gender,\n",
    "                DATEDIFF(hour,date_of_birth,GETDATE())/8766000000 AS age\n",
    "                FROM users\n",
    "            )\n",
    "            \n",
    "            SELECT ugd.user_id, rs.ride_id, ugd.gender, ugd.age, rs.begin_timestamp, rs.total_duration_sec, rs.total_power,\n",
    "                rs.mean_power, rs.mean_resistance, rs.mean_rpm, rs.mean_heart_rate\n",
    "\n",
    "                FROM user_gender_dob AS ugd\n",
    "                RIGHT JOIN rides_stream AS rs\n",
    "                    ON ugd.user_id = rs.user_id\n",
    "                WHERE TO_DATE(rs.begin_timestamp) > DATEADD(HOUR, -12, GETDATE())\n",
    "        )\n",
    "        SELECT * FROM recent_rides_data\n",
    "\n",
    "\n",
    "\"\"\"\n",
    "\n",
    "cs.execute(query).fetch_pandas_all()"
   ]
  },
  {
   "cell_type": "code",
   "execution_count": 76,
   "metadata": {},
   "outputs": [
    {
     "ename": "NotSupportedError",
     "evalue": "Unknown error",
     "output_type": "error",
     "traceback": [
      "\u001b[0;31m---------------------------------------------------------------------------\u001b[0m",
      "\u001b[0;31mNotSupportedError\u001b[0m                         Traceback (most recent call last)",
      "Cell \u001b[0;32mIn [76], line 22\u001b[0m\n\u001b[1;32m      1\u001b[0m query \u001b[38;5;241m=\u001b[39m \u001b[38;5;124m\"\"\"\u001b[39m\n\u001b[1;32m      2\u001b[0m \u001b[38;5;124m    INSERT INTO recent_rides\u001b[39m\n\u001b[1;32m      3\u001b[0m \u001b[38;5;124m        WITH recent_rides_data AS(\u001b[39m\n\u001b[0;32m   (...)\u001b[0m\n\u001b[1;32m     19\u001b[0m \u001b[38;5;124m        SELECT * FROM recent_rides_data\u001b[39m\n\u001b[1;32m     20\u001b[0m \u001b[38;5;124m\"\"\"\u001b[39m\n\u001b[0;32m---> 22\u001b[0m cs\u001b[38;5;241m.\u001b[39mexecute(query)\u001b[38;5;241m.\u001b[39mfetch_pandas_all()\n",
      "File \u001b[0;32m~/Desktop/Sigma_Labs/Coursework/Deloton-Exercise-Bikes/.venv/lib/python3.9/site-packages/snowflake/connector/cursor.py:990\u001b[0m, in \u001b[0;36mSnowflakeCursor.fetch_pandas_all\u001b[0;34m(self, **kwargs)\u001b[0m\n\u001b[1;32m    988\u001b[0m     \u001b[39mself\u001b[39m\u001b[39m.\u001b[39m_prefetch_hook()\n\u001b[1;32m    989\u001b[0m \u001b[39mif\u001b[39;00m \u001b[39mself\u001b[39m\u001b[39m.\u001b[39m_query_result_format \u001b[39m!=\u001b[39m \u001b[39m\"\u001b[39m\u001b[39marrow\u001b[39m\u001b[39m\"\u001b[39m:\n\u001b[0;32m--> 990\u001b[0m     \u001b[39mraise\u001b[39;00m NotSupportedError\n\u001b[1;32m    991\u001b[0m \u001b[39mself\u001b[39m\u001b[39m.\u001b[39m_log_telemetry_job_data(\n\u001b[1;32m    992\u001b[0m     TelemetryField\u001b[39m.\u001b[39mPANDAS_FETCH_ALL, TelemetryData\u001b[39m.\u001b[39mTRUE\n\u001b[1;32m    993\u001b[0m )\n\u001b[1;32m    994\u001b[0m \u001b[39mreturn\u001b[39;00m \u001b[39mself\u001b[39m\u001b[39m.\u001b[39m_result_set\u001b[39m.\u001b[39m_fetch_pandas_all(\u001b[39m*\u001b[39m\u001b[39m*\u001b[39mkwargs)\n",
      "\u001b[0;31mNotSupportedError\u001b[0m: Unknown error"
     ]
    }
   ],
   "source": [
    "query = \"\"\"\n",
    "    INSERT INTO recent_rides\n",
    "        WITH recent_rides_data AS(\n",
    "\n",
    "            WITH user_gender_dob AS (\n",
    "            SELECT user_id, gender,\n",
    "                DATEDIFF(hour,date_of_birth,GETDATE())/8766000000 AS age\n",
    "                FROM users\n",
    "            )\n",
    "            \n",
    "            SELECT ugd.user_id, rs.ride_id, ugd.gender, ugd.age, rs.begin_timestamp, rs.total_duration_sec, rs.total_power,\n",
    "                rs.mean_power, rs.mean_resistance, rs.mean_rpm, rs.mean_heart_rate\n",
    "\n",
    "                FROM user_gender_dob AS ugd\n",
    "                RIGHT JOIN rides_stream AS rs\n",
    "                    ON ugd.user_id = rs.user_id\n",
    "                WHERE TO_DATE(rs.begin_timestamp) > DATEADD(HOUR, -12, GETDATE())\n",
    "        )\n",
    "        SELECT * FROM recent_rides_data\n",
    "\"\"\"\n",
    "\n",
    "cs.execute(query)"
   ]
  },
  {
   "cell_type": "code",
   "execution_count": 33,
   "metadata": {},
   "outputs": [
    {
     "data": {
      "text/html": [
       "<div>\n",
       "<style scoped>\n",
       "    .dataframe tbody tr th:only-of-type {\n",
       "        vertical-align: middle;\n",
       "    }\n",
       "\n",
       "    .dataframe tbody tr th {\n",
       "        vertical-align: top;\n",
       "    }\n",
       "\n",
       "    .dataframe thead th {\n",
       "        text-align: right;\n",
       "    }\n",
       "</style>\n",
       "<table border=\"1\" class=\"dataframe\">\n",
       "  <thead>\n",
       "    <tr style=\"text-align: right;\">\n",
       "      <th></th>\n",
       "      <th>RIDE_ID</th>\n",
       "      <th>USER_ID</th>\n",
       "      <th>BEGIN_TIMESTAMP</th>\n",
       "      <th>TOTAL_DURATION_SEC</th>\n",
       "      <th>TOTAL_POWER</th>\n",
       "      <th>MEAN_POWER</th>\n",
       "      <th>MEAN_RESISTANCE</th>\n",
       "      <th>MEAN_RPM</th>\n",
       "      <th>MEAN_HEART_RATE</th>\n",
       "      <th>METADATA$ACTION</th>\n",
       "      <th>METADATA$ISUPDATE</th>\n",
       "      <th>METADATA$ROW_ID</th>\n",
       "    </tr>\n",
       "  </thead>\n",
       "  <tbody>\n",
       "    <tr>\n",
       "      <th>0</th>\n",
       "      <td>64</td>\n",
       "      <td>4614</td>\n",
       "      <td>{'epoch': 1665071881, 'fraction': 0}</td>\n",
       "      <td>520</td>\n",
       "      <td>29488.716</td>\n",
       "      <td>56.709069</td>\n",
       "      <td>41.446154</td>\n",
       "      <td>52.190385</td>\n",
       "      <td>90.188462</td>\n",
       "      <td>INSERT</td>\n",
       "      <td>False</td>\n",
       "      <td>1feba8c281886d3810c3573be5676cfdb82661e5</td>\n",
       "    </tr>\n",
       "    <tr>\n",
       "      <th>1</th>\n",
       "      <td>63</td>\n",
       "      <td>4612</td>\n",
       "      <td>{'epoch': 1665071361, 'fraction': 0}</td>\n",
       "      <td>517</td>\n",
       "      <td>31165.999</td>\n",
       "      <td>60.282397</td>\n",
       "      <td>42.889749</td>\n",
       "      <td>39.756286</td>\n",
       "      <td>124.676983</td>\n",
       "      <td>INSERT</td>\n",
       "      <td>False</td>\n",
       "      <td>4b229c2dc4b3c081c60bc86c55bfaf4410578be2</td>\n",
       "    </tr>\n",
       "    <tr>\n",
       "      <th>2</th>\n",
       "      <td>65</td>\n",
       "      <td>4614</td>\n",
       "      <td>{'epoch': 1665072404, 'fraction': 0}</td>\n",
       "      <td>520</td>\n",
       "      <td>23287.198</td>\n",
       "      <td>44.783073</td>\n",
       "      <td>41.461538</td>\n",
       "      <td>40.661538</td>\n",
       "      <td>89.717308</td>\n",
       "      <td>INSERT</td>\n",
       "      <td>False</td>\n",
       "      <td>2f44dd2dde24e548be63b226bfa8571c975dc4f2</td>\n",
       "    </tr>\n",
       "  </tbody>\n",
       "</table>\n",
       "</div>"
      ],
      "text/plain": [
       "  RIDE_ID USER_ID                       BEGIN_TIMESTAMP TOTAL_DURATION_SEC  \\\n",
       "0      64    4614  {'epoch': 1665071881, 'fraction': 0}                520   \n",
       "1      63    4612  {'epoch': 1665071361, 'fraction': 0}                517   \n",
       "2      65    4614  {'epoch': 1665072404, 'fraction': 0}                520   \n",
       "\n",
       "   TOTAL_POWER  MEAN_POWER  MEAN_RESISTANCE   MEAN_RPM  MEAN_HEART_RATE  \\\n",
       "0    29488.716   56.709069        41.446154  52.190385        90.188462   \n",
       "1    31165.999   60.282397        42.889749  39.756286       124.676983   \n",
       "2    23287.198   44.783073        41.461538  40.661538        89.717308   \n",
       "\n",
       "  METADATA$ACTION  METADATA$ISUPDATE                           METADATA$ROW_ID  \n",
       "0          INSERT              False  1feba8c281886d3810c3573be5676cfdb82661e5  \n",
       "1          INSERT              False  4b229c2dc4b3c081c60bc86c55bfaf4410578be2  \n",
       "2          INSERT              False  2f44dd2dde24e548be63b226bfa8571c975dc4f2  "
      ]
     },
     "execution_count": 33,
     "metadata": {},
     "output_type": "execute_result"
    }
   ],
   "source": [
    "query = \"\"\"\n",
    "   SELECT * \n",
    "    FROM rides_stream\n",
    "\"\"\"\n",
    "\n",
    "cs.execute(query).fetch_pandas_all()"
   ]
  },
  {
   "cell_type": "code",
   "execution_count": 31,
   "metadata": {},
   "outputs": [
    {
     "data": {
      "text/html": [
       "<div>\n",
       "<style scoped>\n",
       "    .dataframe tbody tr th:only-of-type {\n",
       "        vertical-align: middle;\n",
       "    }\n",
       "\n",
       "    .dataframe tbody tr th {\n",
       "        vertical-align: top;\n",
       "    }\n",
       "\n",
       "    .dataframe thead th {\n",
       "        text-align: right;\n",
       "    }\n",
       "</style>\n",
       "<table border=\"1\" class=\"dataframe\">\n",
       "  <thead>\n",
       "    <tr style=\"text-align: right;\">\n",
       "      <th></th>\n",
       "      <th>USER_ID</th>\n",
       "      <th>RIDE_ID</th>\n",
       "      <th>GENDER</th>\n",
       "      <th>AGE</th>\n",
       "      <th>BEGIN_TIMESTAMP</th>\n",
       "      <th>TOTAL_DURATION_SEC</th>\n",
       "      <th>TOTAL_POWER</th>\n",
       "      <th>MEAN_POWER</th>\n",
       "      <th>MEAN_RESISTANCE</th>\n",
       "      <th>MEAN_RPM</th>\n",
       "      <th>MEAN_HEART_RATE</th>\n",
       "    </tr>\n",
       "  </thead>\n",
       "  <tbody>\n",
       "    <tr>\n",
       "      <th>0</th>\n",
       "      <td>4612</td>\n",
       "      <td>61</td>\n",
       "      <td>Female</td>\n",
       "      <td>0</td>\n",
       "      <td>{'epoch': 1665070319, 'fraction': 0}</td>\n",
       "      <td>518</td>\n",
       "      <td>36770.601</td>\n",
       "      <td>70.985716</td>\n",
       "      <td>42.899614</td>\n",
       "      <td>48.687259</td>\n",
       "      <td>111.440154</td>\n",
       "    </tr>\n",
       "    <tr>\n",
       "      <th>1</th>\n",
       "      <td>4612</td>\n",
       "      <td>60</td>\n",
       "      <td>Female</td>\n",
       "      <td>0</td>\n",
       "      <td>{'epoch': 1665069796, 'fraction': 0}</td>\n",
       "      <td>520</td>\n",
       "      <td>36724.767</td>\n",
       "      <td>70.624552</td>\n",
       "      <td>43.026923</td>\n",
       "      <td>48.375000</td>\n",
       "      <td>120.215385</td>\n",
       "    </tr>\n",
       "    <tr>\n",
       "      <th>2</th>\n",
       "      <td>4612</td>\n",
       "      <td>62</td>\n",
       "      <td>Female</td>\n",
       "      <td>0</td>\n",
       "      <td>{'epoch': 1665070840, 'fraction': 0}</td>\n",
       "      <td>519</td>\n",
       "      <td>30622.722</td>\n",
       "      <td>59.003318</td>\n",
       "      <td>42.901734</td>\n",
       "      <td>47.518304</td>\n",
       "      <td>97.281310</td>\n",
       "    </tr>\n",
       "  </tbody>\n",
       "</table>\n",
       "</div>"
      ],
      "text/plain": [
       "   USER_ID  RIDE_ID  GENDER  AGE                       BEGIN_TIMESTAMP  \\\n",
       "0     4612       61  Female    0  {'epoch': 1665070319, 'fraction': 0}   \n",
       "1     4612       60  Female    0  {'epoch': 1665069796, 'fraction': 0}   \n",
       "2     4612       62  Female    0  {'epoch': 1665070840, 'fraction': 0}   \n",
       "\n",
       "   TOTAL_DURATION_SEC  TOTAL_POWER  MEAN_POWER  MEAN_RESISTANCE   MEAN_RPM  \\\n",
       "0                 518    36770.601   70.985716        42.899614  48.687259   \n",
       "1                 520    36724.767   70.624552        43.026923  48.375000   \n",
       "2                 519    30622.722   59.003318        42.901734  47.518304   \n",
       "\n",
       "   MEAN_HEART_RATE  \n",
       "0       111.440154  \n",
       "1       120.215385  \n",
       "2        97.281310  "
      ]
     },
     "execution_count": 31,
     "metadata": {},
     "output_type": "execute_result"
    }
   ],
   "source": [
    "query = \"\"\"\n",
    "   SELECT * \n",
    "    FROM recent_rides\n",
    "\"\"\"\n",
    "\n",
    "cs.execute(query).fetch_pandas_all()"
   ]
  },
  {
   "cell_type": "code",
   "execution_count": 28,
   "metadata": {},
   "outputs": [
    {
     "data": {
      "text/plain": [
       "<snowflake.connector.cursor.SnowflakeCursor at 0x10788a220>"
      ]
     },
     "execution_count": 28,
     "metadata": {},
     "output_type": "execute_result"
    }
   ],
   "source": [
    "query = f\"\"\"\n",
    "    CREATE TASK recent_ride_ingestion\n",
    "        WAREHOUSE = {WAREHOUSE}\n",
    "        SCHEDULE = '10 minute'\n",
    "    AS\n",
    "        INSERT INTO recent_rides\n",
    "        WITH recent_rides_data AS(\n",
    "\n",
    "            WITH user_gender_dob AS (\n",
    "            SELECT user_id, gender,\n",
    "                DATEDIFF(hour,date_of_birth,GETDATE())/8766000000 AS age\n",
    "                FROM users\n",
    "            )\n",
    "            \n",
    "            SELECT ugd.user_id, rs.ride_id, ugd.gender, ugd.age, rs.begin_timestamp, rs.total_duration_sec, rs.total_power,\n",
    "                rs.mean_power, rs.mean_resistance, rs.mean_rpm, rs.mean_heart_rate\n",
    "\n",
    "                FROM user_gender_dob AS ugd\n",
    "                RIGHT JOIN rides_stream AS rs\n",
    "                    ON ugd.user_id = rs.user_id\n",
    "                WHERE TO_DATE(rs.begin_timestamp) > DATEADD(HOUR, -12, GETDATE())\n",
    "        )\n",
    "        SELECT * FROM recent_rides_data\n",
    "\"\"\"\n",
    "\n",
    "cs.execute(query)"
   ]
  },
  {
   "cell_type": "code",
   "execution_count": 26,
   "metadata": {},
   "outputs": [
    {
     "data": {
      "text/plain": [
       "<snowflake.connector.cursor.SnowflakeCursor at 0x10788a220>"
      ]
     },
     "execution_count": 26,
     "metadata": {},
     "output_type": "execute_result"
    }
   ],
   "source": [
    "query = \"\"\"\n",
    "    DROP TASK recent_ride_updater\n",
    "\"\"\"\n",
    "\n",
    "cs.execute(query)"
   ]
  },
  {
   "cell_type": "code",
   "execution_count": 27,
   "metadata": {},
   "outputs": [
    {
     "data": {
      "text/plain": [
       "<snowflake.connector.cursor.SnowflakeCursor at 0x10788a220>"
      ]
     },
     "execution_count": 27,
     "metadata": {},
     "output_type": "execute_result"
    }
   ],
   "source": [
    "query = \"\"\"\n",
    "    DROP TASK recent_ride_ingestion\n",
    "\"\"\"\n",
    "\n",
    "cs.execute(query)"
   ]
  },
  {
   "cell_type": "code",
   "execution_count": 25,
   "metadata": {},
   "outputs": [
    {
     "data": {
      "text/plain": [
       "<snowflake.connector.cursor.SnowflakeCursor at 0x10788a220>"
      ]
     },
     "execution_count": 25,
     "metadata": {},
     "output_type": "execute_result"
    }
   ],
   "source": [
    "query = \"\"\"\n",
    "    DROP TASK recent_ride_lagger\n",
    "\"\"\"\n",
    "\n",
    "cs.execute(query)"
   ]
  },
  {
   "cell_type": "code",
   "execution_count": 53,
   "metadata": {},
   "outputs": [
    {
     "data": {
      "text/plain": [
       "<snowflake.connector.cursor.SnowflakeCursor at 0x10790b460>"
      ]
     },
     "execution_count": 53,
     "metadata": {},
     "output_type": "execute_result"
    }
   ],
   "source": [
    "query = \"\"\"\n",
    "    DELETE FROM recent_rides\n",
    "\"\"\"\n",
    "\n",
    "cs.execute(query)"
   ]
  },
  {
   "cell_type": "code",
   "execution_count": 23,
   "metadata": {},
   "outputs": [
    {
     "data": {
      "text/plain": [
       "<snowflake.connector.cursor.SnowflakeCursor at 0x10788a220>"
      ]
     },
     "execution_count": 23,
     "metadata": {},
     "output_type": "execute_result"
    }
   ],
   "source": [
    "query = f\"\"\"\n",
    "    CREATE TASK recent_ride_lagger\n",
    "        WAREHOUSE = {WAREHOUSE}\n",
    "        SCHEDULE = '15 minute'\n",
    "        AFTER recent_ride_ingestion\n",
    "    AS\n",
    "        SELECT CURRENT_TIMESTAMP\n",
    "\"\"\"\n",
    "\n",
    "cs.execute(query)"
   ]
  },
  {
   "cell_type": "code",
   "execution_count": 30,
   "metadata": {},
   "outputs": [
    {
     "data": {
      "text/plain": [
       "<snowflake.connector.cursor.SnowflakeCursor at 0x10788a220>"
      ]
     },
     "execution_count": 30,
     "metadata": {},
     "output_type": "execute_result"
    }
   ],
   "source": [
    "query = f\"\"\"\n",
    "    CREATE TASK recent_ride_updater\n",
    "        WAREHOUSE = {WAREHOUSE}\n",
    "        AFTER recent_ride_ingestion\n",
    "    AS\n",
    "        DELETE FROM recent_rides\n",
    "            WHERE TO_DATE(begin_timestamp) < DATEADD(HOUR, -12, GETDATE())\n",
    "\"\"\"\n",
    "\n",
    "cs.execute(query)"
   ]
  },
  {
   "cell_type": "code",
   "execution_count": null,
   "metadata": {},
   "outputs": [],
   "source": []
  }
 ],
 "metadata": {
  "kernelspec": {
   "display_name": "Python 3.9.13 ('.venv': venv)",
   "language": "python",
   "name": "python3"
  },
  "language_info": {
   "codemirror_mode": {
    "name": "ipython",
    "version": 3
   },
   "file_extension": ".py",
   "mimetype": "text/x-python",
   "name": "python",
   "nbconvert_exporter": "python",
   "pygments_lexer": "ipython3",
   "version": "3.9.13"
  },
  "orig_nbformat": 4,
  "vscode": {
   "interpreter": {
    "hash": "da85ee258cf3914edf966df08c02018321763d9772fd11cff2ea728b28f71b17"
   }
  }
 },
 "nbformat": 4,
 "nbformat_minor": 2
}
